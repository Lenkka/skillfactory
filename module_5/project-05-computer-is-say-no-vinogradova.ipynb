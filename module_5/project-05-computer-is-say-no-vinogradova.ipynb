{
 "cells": [
  {
   "cell_type": "markdown",
   "metadata": {
    "papermill": {
     "duration": 0.078034,
     "end_time": "2021-06-14T15:37:00.349064",
     "exception": false,
     "start_time": "2021-06-14T15:37:00.271030",
     "status": "completed"
    },
    "tags": []
   },
   "source": [
    "# Описание проекта"
   ]
  },
  {
   "cell_type": "markdown",
   "metadata": {
    "papermill": {
     "duration": 0.075291,
     "end_time": "2021-06-14T15:37:00.501809",
     "exception": false,
     "start_time": "2021-06-14T15:37:00.426518",
     "status": "completed"
    },
    "tags": []
   },
   "source": [
    "Модель должна предсказать, кому из клиентов банка можно дать кредит, а кому не стоит. Сначала надо исследовать, какие данные у нас есть, а затем выяснить, какие из них полезны для обучения модели, и не надо ли добавить новых вводных.\n",
    "\n",
    "Проект выполнен Еленой Виноградовой.\n",
    "\n",
    "Ссылка на Kaggle - https://www.kaggle.com/lenkavinogradova/project-05-computer-is-say-no-vinogradova\n",
    "\n",
    "Ник на Kaggle: Lenka Vinogradova (https://www.kaggle.com/lenkavinogradova)"
   ]
  },
  {
   "cell_type": "markdown",
   "metadata": {
    "papermill": {
     "duration": 0.075254,
     "end_time": "2021-06-14T15:37:00.652560",
     "exception": false,
     "start_time": "2021-06-14T15:37:00.577306",
     "status": "completed"
    },
    "tags": []
   },
   "source": [
    "# Описания полей\n",
    "\n",
    "* client_id - идентификатор клиента\n",
    "\n",
    "* education - уровень образования\n",
    " \n",
    "* sex - пол заемщика\n",
    " \n",
    "* age - возраст заемщика\n",
    " \n",
    "* car - флаг наличия автомобиля\n",
    " \n",
    "* car_type - флаг автомобиля иномарки\n",
    " \n",
    "* decline_app_cnt - количество отказанных прошлых заявок\n",
    " \n",
    "* good_work - флаг наличия “хорошей” работы\n",
    " \n",
    "* bki_request_cnt - количество запросов в БКИ\n",
    " \n",
    "* home_address - категоризатор домашнего адреса\n",
    " \n",
    "* work_address - категоризатор рабочего адреса\n",
    " \n",
    "* income - доход заемщика\n",
    " \n",
    "* foreign_passport - наличие загранпаспорта\n",
    " \n",
    "* sna - связь заемщика с клиентами банка\n",
    " \n",
    "* first_time - давность наличия информации о заемщике\n",
    "\n",
    "* score_bki - скоринговый балл по данным из БКИ\n",
    " \n",
    "* region_rating - рейтинг региона\n",
    " \n",
    "* app_date - дата подачи заявки\n",
    " \n",
    "* default - флаг дефолта по кредиту"
   ]
  },
  {
   "cell_type": "markdown",
   "metadata": {
    "_cell_guid": "b1076dfc-b9ad-4769-8c92-a6c4dae69d19",
    "_uuid": "8f2839f25d086af736a60e9eeb907d3b93b6e0e5",
    "execution": {
     "iopub.execute_input": "2021-06-10T11:10:30.874147Z",
     "iopub.status.busy": "2021-06-10T11:10:30.873791Z",
     "iopub.status.idle": "2021-06-10T11:10:30.887272Z",
     "shell.execute_reply": "2021-06-10T11:10:30.886563Z",
     "shell.execute_reply.started": "2021-06-10T11:10:30.874116Z"
    },
    "papermill": {
     "duration": 0.075448,
     "end_time": "2021-06-14T15:37:00.805975",
     "exception": false,
     "start_time": "2021-06-14T15:37:00.730527",
     "status": "completed"
    },
    "tags": []
   },
   "source": [
    "# Загрузка файлов и библиотек"
   ]
  },
  {
   "cell_type": "code",
   "execution_count": 1,
   "metadata": {
    "_cell_guid": "b1076dfc-b9ad-4769-8c92-a6c4dae69d19",
    "_uuid": "8f2839f25d086af736a60e9eeb907d3b93b6e0e5",
    "execution": {
     "iopub.execute_input": "2021-06-14T15:37:00.977720Z",
     "iopub.status.busy": "2021-06-14T15:37:00.976751Z",
     "iopub.status.idle": "2021-06-14T15:37:03.483747Z",
     "shell.execute_reply": "2021-06-14T15:37:03.484282Z",
     "shell.execute_reply.started": "2021-06-14T15:14:24.801445Z"
    },
    "papermill": {
     "duration": 2.603132,
     "end_time": "2021-06-14T15:37:03.484569",
     "exception": false,
     "start_time": "2021-06-14T15:37:00.881437",
     "status": "completed"
    },
    "tags": []
   },
   "outputs": [],
   "source": [
    "# необходимые библиотеки\n",
    "from pandas import Series\n",
    "import pandas as pd\n",
    "import numpy as np\n",
    "\n",
    "import pandas_profiling\n",
    "\n",
    "import matplotlib.pyplot as plt\n",
    "import seaborn as sns\n",
    "\n",
    "from datetime import date\n",
    "from datetime import datetime, timedelta\n",
    "\n",
    "from sklearn.preprocessing import PolynomialFeatures\n",
    "\n",
    "from sklearn.feature_selection import f_classif, mutual_info_classif\n",
    "from sklearn.preprocessing import LabelEncoder, OneHotEncoder, StandardScaler\n",
    "\n",
    "from sklearn.model_selection import GridSearchCV\n",
    "from sklearn.model_selection import train_test_split\n",
    "from sklearn.linear_model import LogisticRegression\n",
    "\n",
    "from sklearn.metrics import accuracy_score, recall_score, f1_score, mean_absolute_error, mean_squared_error, precision_score\n",
    "from sklearn.metrics import confusion_matrix\n",
    "from sklearn.metrics import auc, roc_auc_score, roc_curve\n",
    "\n",
    "pd.set_option('display.max_rows', 50)  # показывать больше строк\n",
    "pd.set_option('display.max_columns', 50)  # показывать больше колонок\n",
    "\n",
    "import warnings\n",
    "warnings.filterwarnings(\"ignore\")\n",
    "\n",
    "# Input data files are available in the read-only \"../input/\" directory\n",
    "# For example, running this (by clicking run or pressing Shift+Enter) will list all files under the input directory\n",
    "\n",
    "import os\n",
    "for dirname, _, filenames in os.walk('/kaggle/input'):\n",
    "    for filename in filenames:\n",
    "        print(os.path.join(dirname, filename))\n",
    "\n",
    "# You can write up to 20GB to the current directory (/kaggle/working/) that gets preserved as output when you create a version using \"Save & Run All\" \n",
    "# You can also write temporary files to /kaggle/temp/, but they won't be saved outside of the current session"
   ]
  },
  {
   "cell_type": "code",
   "execution_count": 2,
   "metadata": {
    "execution": {
     "iopub.execute_input": "2021-06-14T15:37:03.647318Z",
     "iopub.status.busy": "2021-06-14T15:37:03.646245Z",
     "iopub.status.idle": "2021-06-14T15:37:03.649253Z",
     "shell.execute_reply": "2021-06-14T15:37:03.649749Z",
     "shell.execute_reply.started": "2021-06-14T15:14:24.821378Z"
    },
    "papermill": {
     "duration": 0.086915,
     "end_time": "2021-06-14T15:37:03.649940",
     "exception": false,
     "start_time": "2021-06-14T15:37:03.563025",
     "status": "completed"
    },
    "tags": []
   },
   "outputs": [],
   "source": [
    "# функция для построения боксплотов (распределение дефолта в признаках)\n",
    "\n",
    "def get_boxplot1(column):\n",
    "\n",
    "    (fig, ax) = plt.subplots(figsize=(14, 4))\n",
    "    sns.boxplot(x='default', y=column, data=df.loc[df.loc[:, 'default'\n",
    "                ].isin(df.loc[:, 'default'].value_counts().index[:])],\n",
    "                ax=ax)\n",
    "    plt.xticks(rotation=45)\n",
    "    ax.set_title('Boxplot for ' + 'default')\n",
    "    plt.show()"
   ]
  },
  {
   "cell_type": "code",
   "execution_count": 3,
   "metadata": {
    "execution": {
     "iopub.execute_input": "2021-06-14T15:37:03.811242Z",
     "iopub.status.busy": "2021-06-14T15:37:03.810465Z",
     "iopub.status.idle": "2021-06-14T15:37:04.154442Z",
     "shell.execute_reply": "2021-06-14T15:37:04.153842Z",
     "shell.execute_reply.started": "2021-06-14T15:14:24.835790Z"
    },
    "papermill": {
     "duration": 0.426923,
     "end_time": "2021-06-14T15:37:04.154634",
     "exception": false,
     "start_time": "2021-06-14T15:37:03.727711",
     "status": "completed"
    },
    "tags": []
   },
   "outputs": [
    {
     "ename": "FileNotFoundError",
     "evalue": "[Errno 2] No such file or directory: '/kaggle/input/sf-dst-scoring/train.csv'",
     "output_type": "error",
     "traceback": [
      "\u001b[1;31m---------------------------------------------------------------------------\u001b[0m",
      "\u001b[1;31mFileNotFoundError\u001b[0m                         Traceback (most recent call last)",
      "\u001b[1;32m<ipython-input-3-ee3c70965480>\u001b[0m in \u001b[0;36m<module>\u001b[1;34m\u001b[0m\n\u001b[0;32m      1\u001b[0m \u001b[0mPATH_to_file\u001b[0m \u001b[1;33m=\u001b[0m \u001b[1;34m'/kaggle/input/sf-dst-scoring/'\u001b[0m\u001b[1;33m\u001b[0m\u001b[1;33m\u001b[0m\u001b[0m\n\u001b[1;32m----> 2\u001b[1;33m \u001b[0mtrain\u001b[0m \u001b[1;33m=\u001b[0m \u001b[0mpd\u001b[0m\u001b[1;33m.\u001b[0m\u001b[0mread_csv\u001b[0m\u001b[1;33m(\u001b[0m\u001b[0mPATH_to_file\u001b[0m \u001b[1;33m+\u001b[0m \u001b[1;34m'train.csv'\u001b[0m\u001b[1;33m)\u001b[0m\u001b[1;33m\u001b[0m\u001b[1;33m\u001b[0m\u001b[0m\n\u001b[0m\u001b[0;32m      3\u001b[0m \u001b[0mtest\u001b[0m \u001b[1;33m=\u001b[0m \u001b[0mpd\u001b[0m\u001b[1;33m.\u001b[0m\u001b[0mread_csv\u001b[0m\u001b[1;33m(\u001b[0m\u001b[0mPATH_to_file\u001b[0m \u001b[1;33m+\u001b[0m \u001b[1;34m'test.csv'\u001b[0m\u001b[1;33m)\u001b[0m\u001b[1;33m\u001b[0m\u001b[1;33m\u001b[0m\u001b[0m\n\u001b[0;32m      4\u001b[0m \u001b[0msample_submission\u001b[0m \u001b[1;33m=\u001b[0m \u001b[0mpd\u001b[0m\u001b[1;33m.\u001b[0m\u001b[0mread_csv\u001b[0m\u001b[1;33m(\u001b[0m\u001b[0mPATH_to_file\u001b[0m \u001b[1;33m+\u001b[0m \u001b[1;34m'sample_submission.csv'\u001b[0m\u001b[1;33m)\u001b[0m\u001b[1;33m\u001b[0m\u001b[1;33m\u001b[0m\u001b[0m\n",
      "\u001b[1;32m~\\anaconda3\\lib\\site-packages\\pandas\\io\\parsers.py\u001b[0m in \u001b[0;36mread_csv\u001b[1;34m(filepath_or_buffer, sep, delimiter, header, names, index_col, usecols, squeeze, prefix, mangle_dupe_cols, dtype, engine, converters, true_values, false_values, skipinitialspace, skiprows, skipfooter, nrows, na_values, keep_default_na, na_filter, verbose, skip_blank_lines, parse_dates, infer_datetime_format, keep_date_col, date_parser, dayfirst, cache_dates, iterator, chunksize, compression, thousands, decimal, lineterminator, quotechar, quoting, doublequote, escapechar, comment, encoding, dialect, error_bad_lines, warn_bad_lines, delim_whitespace, low_memory, memory_map, float_precision)\u001b[0m\n\u001b[0;32m    684\u001b[0m     )\n\u001b[0;32m    685\u001b[0m \u001b[1;33m\u001b[0m\u001b[0m\n\u001b[1;32m--> 686\u001b[1;33m     \u001b[1;32mreturn\u001b[0m \u001b[0m_read\u001b[0m\u001b[1;33m(\u001b[0m\u001b[0mfilepath_or_buffer\u001b[0m\u001b[1;33m,\u001b[0m \u001b[0mkwds\u001b[0m\u001b[1;33m)\u001b[0m\u001b[1;33m\u001b[0m\u001b[1;33m\u001b[0m\u001b[0m\n\u001b[0m\u001b[0;32m    687\u001b[0m \u001b[1;33m\u001b[0m\u001b[0m\n\u001b[0;32m    688\u001b[0m \u001b[1;33m\u001b[0m\u001b[0m\n",
      "\u001b[1;32m~\\anaconda3\\lib\\site-packages\\pandas\\io\\parsers.py\u001b[0m in \u001b[0;36m_read\u001b[1;34m(filepath_or_buffer, kwds)\u001b[0m\n\u001b[0;32m    450\u001b[0m \u001b[1;33m\u001b[0m\u001b[0m\n\u001b[0;32m    451\u001b[0m     \u001b[1;31m# Create the parser.\u001b[0m\u001b[1;33m\u001b[0m\u001b[1;33m\u001b[0m\u001b[1;33m\u001b[0m\u001b[0m\n\u001b[1;32m--> 452\u001b[1;33m     \u001b[0mparser\u001b[0m \u001b[1;33m=\u001b[0m \u001b[0mTextFileReader\u001b[0m\u001b[1;33m(\u001b[0m\u001b[0mfp_or_buf\u001b[0m\u001b[1;33m,\u001b[0m \u001b[1;33m**\u001b[0m\u001b[0mkwds\u001b[0m\u001b[1;33m)\u001b[0m\u001b[1;33m\u001b[0m\u001b[1;33m\u001b[0m\u001b[0m\n\u001b[0m\u001b[0;32m    453\u001b[0m \u001b[1;33m\u001b[0m\u001b[0m\n\u001b[0;32m    454\u001b[0m     \u001b[1;32mif\u001b[0m \u001b[0mchunksize\u001b[0m \u001b[1;32mor\u001b[0m \u001b[0miterator\u001b[0m\u001b[1;33m:\u001b[0m\u001b[1;33m\u001b[0m\u001b[1;33m\u001b[0m\u001b[0m\n",
      "\u001b[1;32m~\\anaconda3\\lib\\site-packages\\pandas\\io\\parsers.py\u001b[0m in \u001b[0;36m__init__\u001b[1;34m(self, f, engine, **kwds)\u001b[0m\n\u001b[0;32m    944\u001b[0m             \u001b[0mself\u001b[0m\u001b[1;33m.\u001b[0m\u001b[0moptions\u001b[0m\u001b[1;33m[\u001b[0m\u001b[1;34m\"has_index_names\"\u001b[0m\u001b[1;33m]\u001b[0m \u001b[1;33m=\u001b[0m \u001b[0mkwds\u001b[0m\u001b[1;33m[\u001b[0m\u001b[1;34m\"has_index_names\"\u001b[0m\u001b[1;33m]\u001b[0m\u001b[1;33m\u001b[0m\u001b[1;33m\u001b[0m\u001b[0m\n\u001b[0;32m    945\u001b[0m \u001b[1;33m\u001b[0m\u001b[0m\n\u001b[1;32m--> 946\u001b[1;33m         \u001b[0mself\u001b[0m\u001b[1;33m.\u001b[0m\u001b[0m_make_engine\u001b[0m\u001b[1;33m(\u001b[0m\u001b[0mself\u001b[0m\u001b[1;33m.\u001b[0m\u001b[0mengine\u001b[0m\u001b[1;33m)\u001b[0m\u001b[1;33m\u001b[0m\u001b[1;33m\u001b[0m\u001b[0m\n\u001b[0m\u001b[0;32m    947\u001b[0m \u001b[1;33m\u001b[0m\u001b[0m\n\u001b[0;32m    948\u001b[0m     \u001b[1;32mdef\u001b[0m \u001b[0mclose\u001b[0m\u001b[1;33m(\u001b[0m\u001b[0mself\u001b[0m\u001b[1;33m)\u001b[0m\u001b[1;33m:\u001b[0m\u001b[1;33m\u001b[0m\u001b[1;33m\u001b[0m\u001b[0m\n",
      "\u001b[1;32m~\\anaconda3\\lib\\site-packages\\pandas\\io\\parsers.py\u001b[0m in \u001b[0;36m_make_engine\u001b[1;34m(self, engine)\u001b[0m\n\u001b[0;32m   1176\u001b[0m     \u001b[1;32mdef\u001b[0m \u001b[0m_make_engine\u001b[0m\u001b[1;33m(\u001b[0m\u001b[0mself\u001b[0m\u001b[1;33m,\u001b[0m \u001b[0mengine\u001b[0m\u001b[1;33m=\u001b[0m\u001b[1;34m\"c\"\u001b[0m\u001b[1;33m)\u001b[0m\u001b[1;33m:\u001b[0m\u001b[1;33m\u001b[0m\u001b[1;33m\u001b[0m\u001b[0m\n\u001b[0;32m   1177\u001b[0m         \u001b[1;32mif\u001b[0m \u001b[0mengine\u001b[0m \u001b[1;33m==\u001b[0m \u001b[1;34m\"c\"\u001b[0m\u001b[1;33m:\u001b[0m\u001b[1;33m\u001b[0m\u001b[1;33m\u001b[0m\u001b[0m\n\u001b[1;32m-> 1178\u001b[1;33m             \u001b[0mself\u001b[0m\u001b[1;33m.\u001b[0m\u001b[0m_engine\u001b[0m \u001b[1;33m=\u001b[0m \u001b[0mCParserWrapper\u001b[0m\u001b[1;33m(\u001b[0m\u001b[0mself\u001b[0m\u001b[1;33m.\u001b[0m\u001b[0mf\u001b[0m\u001b[1;33m,\u001b[0m \u001b[1;33m**\u001b[0m\u001b[0mself\u001b[0m\u001b[1;33m.\u001b[0m\u001b[0moptions\u001b[0m\u001b[1;33m)\u001b[0m\u001b[1;33m\u001b[0m\u001b[1;33m\u001b[0m\u001b[0m\n\u001b[0m\u001b[0;32m   1179\u001b[0m         \u001b[1;32melse\u001b[0m\u001b[1;33m:\u001b[0m\u001b[1;33m\u001b[0m\u001b[1;33m\u001b[0m\u001b[0m\n\u001b[0;32m   1180\u001b[0m             \u001b[1;32mif\u001b[0m \u001b[0mengine\u001b[0m \u001b[1;33m==\u001b[0m \u001b[1;34m\"python\"\u001b[0m\u001b[1;33m:\u001b[0m\u001b[1;33m\u001b[0m\u001b[1;33m\u001b[0m\u001b[0m\n",
      "\u001b[1;32m~\\anaconda3\\lib\\site-packages\\pandas\\io\\parsers.py\u001b[0m in \u001b[0;36m__init__\u001b[1;34m(self, src, **kwds)\u001b[0m\n\u001b[0;32m   2006\u001b[0m         \u001b[0mkwds\u001b[0m\u001b[1;33m[\u001b[0m\u001b[1;34m\"usecols\"\u001b[0m\u001b[1;33m]\u001b[0m \u001b[1;33m=\u001b[0m \u001b[0mself\u001b[0m\u001b[1;33m.\u001b[0m\u001b[0musecols\u001b[0m\u001b[1;33m\u001b[0m\u001b[1;33m\u001b[0m\u001b[0m\n\u001b[0;32m   2007\u001b[0m \u001b[1;33m\u001b[0m\u001b[0m\n\u001b[1;32m-> 2008\u001b[1;33m         \u001b[0mself\u001b[0m\u001b[1;33m.\u001b[0m\u001b[0m_reader\u001b[0m \u001b[1;33m=\u001b[0m \u001b[0mparsers\u001b[0m\u001b[1;33m.\u001b[0m\u001b[0mTextReader\u001b[0m\u001b[1;33m(\u001b[0m\u001b[0msrc\u001b[0m\u001b[1;33m,\u001b[0m \u001b[1;33m**\u001b[0m\u001b[0mkwds\u001b[0m\u001b[1;33m)\u001b[0m\u001b[1;33m\u001b[0m\u001b[1;33m\u001b[0m\u001b[0m\n\u001b[0m\u001b[0;32m   2009\u001b[0m         \u001b[0mself\u001b[0m\u001b[1;33m.\u001b[0m\u001b[0munnamed_cols\u001b[0m \u001b[1;33m=\u001b[0m \u001b[0mself\u001b[0m\u001b[1;33m.\u001b[0m\u001b[0m_reader\u001b[0m\u001b[1;33m.\u001b[0m\u001b[0munnamed_cols\u001b[0m\u001b[1;33m\u001b[0m\u001b[1;33m\u001b[0m\u001b[0m\n\u001b[0;32m   2010\u001b[0m \u001b[1;33m\u001b[0m\u001b[0m\n",
      "\u001b[1;32mpandas\\_libs\\parsers.pyx\u001b[0m in \u001b[0;36mpandas._libs.parsers.TextReader.__cinit__\u001b[1;34m()\u001b[0m\n",
      "\u001b[1;32mpandas\\_libs\\parsers.pyx\u001b[0m in \u001b[0;36mpandas._libs.parsers.TextReader._setup_parser_source\u001b[1;34m()\u001b[0m\n",
      "\u001b[1;31mFileNotFoundError\u001b[0m: [Errno 2] No such file or directory: '/kaggle/input/sf-dst-scoring/train.csv'"
     ]
    }
   ],
   "source": [
    "PATH_to_file = '/kaggle/input/sf-dst-scoring/'\n",
    "train = pd.read_csv(PATH_to_file + 'train.csv')\n",
    "test = pd.read_csv(PATH_to_file + 'test.csv')\n",
    "sample_submission = pd.read_csv(PATH_to_file + 'sample_submission.csv')"
   ]
  },
  {
   "cell_type": "markdown",
   "metadata": {
    "papermill": {
     "duration": 0.076925,
     "end_time": "2021-06-14T15:37:04.310027",
     "exception": false,
     "start_time": "2021-06-14T15:37:04.233102",
     "status": "completed"
    },
    "tags": []
   },
   "source": [
    "# Предварительное исследование сетов, их объединение и анализ"
   ]
  },
  {
   "cell_type": "code",
   "execution_count": null,
   "metadata": {
    "execution": {
     "iopub.execute_input": "2021-06-14T15:37:04.468158Z",
     "iopub.status.busy": "2021-06-14T15:37:04.467366Z",
     "iopub.status.idle": "2021-06-14T15:37:04.472341Z",
     "shell.execute_reply": "2021-06-14T15:37:04.473049Z",
     "shell.execute_reply.started": "2021-06-14T15:14:25.049125Z"
    },
    "papermill": {
     "duration": 0.086649,
     "end_time": "2021-06-14T15:37:04.473292",
     "exception": false,
     "start_time": "2021-06-14T15:37:04.386643",
     "status": "completed"
    },
    "tags": []
   },
   "outputs": [],
   "source": [
    "# Для контроля зафиксируем размер тренировочного и тестового датасетов.\n",
    "print('Размер тренировочного датасета: ', train.shape,\n",
    "      'Размер тестового датасета: ', test.shape, \n",
    "      'Размер объединенного датасета: ', train.shape[0]+test.shape[0], sep='\\n')"
   ]
  },
  {
   "cell_type": "code",
   "execution_count": null,
   "metadata": {
    "execution": {
     "iopub.execute_input": "2021-06-14T15:37:04.629930Z",
     "iopub.status.busy": "2021-06-14T15:37:04.629277Z",
     "iopub.status.idle": "2021-06-14T15:37:04.755728Z",
     "shell.execute_reply": "2021-06-14T15:37:04.756283Z",
     "shell.execute_reply.started": "2021-06-14T15:14:25.057981Z"
    },
    "papermill": {
     "duration": 0.206393,
     "end_time": "2021-06-14T15:37:04.756474",
     "exception": false,
     "start_time": "2021-06-14T15:37:04.550081",
     "status": "completed"
    },
    "tags": []
   },
   "outputs": [],
   "source": [
    "# Объединяем тренировочные и тестовые данные в один датасет.\n",
    "train['train'] = 1 # помечаем тренировочные\n",
    "test['train'] = 0 # помечаем тестовые\n",
    "df = pd.concat([train, test], ignore_index=True)\n",
    "df.info()"
   ]
  },
  {
   "cell_type": "code",
   "execution_count": null,
   "metadata": {
    "execution": {
     "iopub.execute_input": "2021-06-14T15:37:04.917388Z",
     "iopub.status.busy": "2021-06-14T15:37:04.916705Z",
     "iopub.status.idle": "2021-06-14T15:37:04.919512Z",
     "shell.execute_reply": "2021-06-14T15:37:04.920069Z",
     "shell.execute_reply.started": "2021-06-14T15:14:25.172130Z"
    },
    "papermill": {
     "duration": 0.085358,
     "end_time": "2021-06-14T15:37:04.920251",
     "exception": false,
     "start_time": "2021-06-14T15:37:04.834893",
     "status": "completed"
    },
    "tags": []
   },
   "outputs": [],
   "source": [
    "# делаем быстрый EDA с помощью pandas_profiling. Для быстроты действия после первого исследования строка закомментирована. Выводы ниже.\n",
    "# pandas_profiling.ProfileReport(df)"
   ]
  },
  {
   "cell_type": "markdown",
   "metadata": {
    "papermill": {
     "duration": 0.077619,
     "end_time": "2021-06-14T15:37:05.075792",
     "exception": false,
     "start_time": "2021-06-14T15:37:04.998173",
     "status": "completed"
    },
    "tags": []
   },
   "source": [
    "Выводы:\n",
    "\n",
    "Все пропуски, которые могут повлиять на модель, сосредоточены в столбце education нашего датасета. Поэтому после анализа мы сразу же переходим к их заполнению.\n",
    "Женщин в списке больше, чем мужчин, - возможно, это как-то повлияет на дальнейшую аналитику.\n",
    "\n",
    "Средний возраст заемщика - около 39 лет. Минимальный - 21 год, максимальный - 72, смещение распределения вправо. В этом нет ничего странного (пожилые люди меньше знают о банковских продуктах или более недоверчивы к кредитам), но надо учесть, что распределение нужно поправить (например, логарифмированием) для более хорошей работы модели. Ну и выбросов в этом пункте при таких показателях нет - вот если бы минимальный возраст был 3 года или максимальный - 110, мы бы насторожились. А сейчас все в рамках разумного.\n",
    "\n",
    "У заемщика скорее нет машины, чем она есть. А если она есть, то это, скорее всего, иномарка.\n",
    "\n",
    "Чаще всего у заемщика не было отклоненных заявок на кредит, но на графике видно, что есть небольшое количество и других значений. Этот пункт надо особенно тщательно проверить на выбросы - на это указывает максимальное значение: 33. Распределение со смещением вправо.\n",
    "\n",
    "Скоринговый балл - это числовая оценка кредитоспособности и добросовестности заемщика, прогноз того, как он будет исполнять свои обязательства по обслуживанию и погашению кредита. Средний балл нашей выборки -1.904535049, минимальный -3.62458632, максимальный 0.19977285. Судя по графику, значения распределены нормально.\n",
    "\n",
    "Внимательно надо посмотреть на признак \"рейтинг региона\", в нем есть смещение распределения влево. Уточнить, какое количество заемщиков из региона с низким рейтингом и что с ними делать (уж не выбросы ли это?)\n",
    "\n",
    "График распределения доходов смещен влево, и это естественно: те, кто берет кредит, располагают небольшими собственными средствами. Проверить на выбросы и посмотреть, нельзя ли ограничить эту часть датасета \"сверху\".\n",
    "\n",
    "Default - наша целевая переменная. В ней есть пропуски (от тестового сета), но их можно не заполнять, они на модель не повлияют."
   ]
  },
  {
   "cell_type": "markdown",
   "metadata": {
    "papermill": {
     "duration": 0.076345,
     "end_time": "2021-06-14T15:37:05.229165",
     "exception": false,
     "start_time": "2021-06-14T15:37:05.152820",
     "status": "completed"
    },
    "tags": []
   },
   "source": [
    "# Что делать с пропусками?"
   ]
  },
  {
   "cell_type": "code",
   "execution_count": null,
   "metadata": {
    "execution": {
     "iopub.execute_input": "2021-06-14T15:37:05.386873Z",
     "iopub.status.busy": "2021-06-14T15:37:05.385835Z",
     "iopub.status.idle": "2021-06-14T15:37:05.418410Z",
     "shell.execute_reply": "2021-06-14T15:37:05.418917Z",
     "shell.execute_reply.started": "2021-06-14T15:14:25.178496Z"
    },
    "papermill": {
     "duration": 0.112981,
     "end_time": "2021-06-14T15:37:05.419118",
     "exception": false,
     "start_time": "2021-06-14T15:37:05.306137",
     "status": "completed"
    },
    "tags": []
   },
   "outputs": [],
   "source": [
    "# Пропуски в колонке education заполним самым часто встречающимся значением и уточним, не осталось ли пропусков еще где-то.\n",
    "ed_x = df.education.mode().item()\n",
    "df.education = df.education.fillna(ed_x)"
   ]
  },
  {
   "cell_type": "code",
   "execution_count": null,
   "metadata": {
    "execution": {
     "iopub.execute_input": "2021-06-14T15:37:05.579564Z",
     "iopub.status.busy": "2021-06-14T15:37:05.578536Z",
     "iopub.status.idle": "2021-06-14T15:37:05.651820Z",
     "shell.execute_reply": "2021-06-14T15:37:05.652356Z",
     "shell.execute_reply.started": "2021-06-14T15:14:25.218907Z"
    },
    "papermill": {
     "duration": 0.155637,
     "end_time": "2021-06-14T15:37:05.652565",
     "exception": false,
     "start_time": "2021-06-14T15:37:05.496928",
     "status": "completed"
    },
    "tags": []
   },
   "outputs": [],
   "source": [
    "df.isna().sum()"
   ]
  },
  {
   "cell_type": "markdown",
   "metadata": {
    "papermill": {
     "duration": 0.078881,
     "end_time": "2021-06-14T15:37:05.812882",
     "exception": false,
     "start_time": "2021-06-14T15:37:05.734001",
     "status": "completed"
    },
    "tags": []
   },
   "source": [
    "# Разбираемся с датой"
   ]
  },
  {
   "cell_type": "code",
   "execution_count": null,
   "metadata": {
    "execution": {
     "iopub.execute_input": "2021-06-14T15:37:05.972176Z",
     "iopub.status.busy": "2021-06-14T15:37:05.971439Z",
     "iopub.status.idle": "2021-06-14T15:37:06.019537Z",
     "shell.execute_reply": "2021-06-14T15:37:06.020059Z",
     "shell.execute_reply.started": "2021-06-14T15:14:25.296181Z"
    },
    "papermill": {
     "duration": 0.128956,
     "end_time": "2021-06-14T15:37:06.020253",
     "exception": false,
     "start_time": "2021-06-14T15:37:05.891297",
     "status": "completed"
    },
    "tags": []
   },
   "outputs": [],
   "source": [
    "# переводим дату в нужный вид:\n",
    "df.app_date = pd.to_datetime(df.app_date)\n",
    "\n",
    "# Выводим период наблюдений:\n",
    "display(df.app_date.max())\n",
    "display(df.app_date.min())"
   ]
  },
  {
   "cell_type": "code",
   "execution_count": null,
   "metadata": {
    "execution": {
     "iopub.execute_input": "2021-06-14T15:37:06.186479Z",
     "iopub.status.busy": "2021-06-14T15:37:06.185796Z",
     "iopub.status.idle": "2021-06-14T15:37:06.230682Z",
     "shell.execute_reply": "2021-06-14T15:37:06.231316Z",
     "shell.execute_reply.started": "2021-06-14T15:14:25.345078Z"
    },
    "papermill": {
     "duration": 0.12978,
     "end_time": "2021-06-14T15:37:06.231510",
     "exception": false,
     "start_time": "2021-06-14T15:37:06.101730",
     "status": "completed"
    },
    "tags": []
   },
   "outputs": [],
   "source": [
    "# Можно не выводить год, он везде будет 2014-й\n",
    "df['app_day'] = df.app_date.dt.day\n",
    "df['app_month'] = df.app_date.dt.month\n",
    "df[\"app_weekday\"] = df.app_date.dt.weekday"
   ]
  },
  {
   "cell_type": "code",
   "execution_count": null,
   "metadata": {
    "execution": {
     "iopub.execute_input": "2021-06-14T15:37:06.394286Z",
     "iopub.status.busy": "2021-06-14T15:37:06.393654Z",
     "iopub.status.idle": "2021-06-14T15:37:06.404014Z",
     "shell.execute_reply": "2021-06-14T15:37:06.403324Z",
     "shell.execute_reply.started": "2021-06-14T15:14:25.392187Z"
    },
    "papermill": {
     "duration": 0.092899,
     "end_time": "2021-06-14T15:37:06.404160",
     "exception": false,
     "start_time": "2021-06-14T15:37:06.311261",
     "status": "completed"
    },
    "tags": []
   },
   "outputs": [],
   "source": [
    "# Количество дней, прошедших с начала наблюдений:\n",
    "df['days'] = (df.app_date - df.app_date.min()).dt.days"
   ]
  },
  {
   "cell_type": "code",
   "execution_count": null,
   "metadata": {
    "execution": {
     "iopub.execute_input": "2021-06-14T15:37:06.564552Z",
     "iopub.status.busy": "2021-06-14T15:37:06.563868Z",
     "iopub.status.idle": "2021-06-14T15:37:06.910667Z",
     "shell.execute_reply": "2021-06-14T15:37:06.911238Z",
     "shell.execute_reply.started": "2021-06-14T15:14:25.403593Z"
    },
    "papermill": {
     "duration": 0.429353,
     "end_time": "2021-06-14T15:37:06.911424",
     "exception": false,
     "start_time": "2021-06-14T15:37:06.482071",
     "status": "completed"
    },
    "tags": []
   },
   "outputs": [],
   "source": [
    "# Посмотрим корреляцию - какие новые признаки мы можем сразу же исключить.\n",
    "plt.figure(figsize=(10,5))\n",
    "sns.heatmap(df.iloc[:,19:].corr(), annot=True)"
   ]
  },
  {
   "cell_type": "code",
   "execution_count": null,
   "metadata": {
    "execution": {
     "iopub.execute_input": "2021-06-14T15:37:07.082022Z",
     "iopub.status.busy": "2021-06-14T15:37:07.081275Z",
     "iopub.status.idle": "2021-06-14T15:37:07.125935Z",
     "shell.execute_reply": "2021-06-14T15:37:07.126446Z",
     "shell.execute_reply.started": "2021-06-14T15:14:25.758141Z"
    },
    "papermill": {
     "duration": 0.131951,
     "end_time": "2021-06-14T15:37:07.126678",
     "exception": false,
     "start_time": "2021-06-14T15:37:06.994727",
     "status": "completed"
    },
    "tags": []
   },
   "outputs": [],
   "source": [
    "# app_month отлично коррелирует с days, поэтому для нашего исследования он не годится. \n",
    "# Исключаем. \n",
    "# И заодно уберем столбец app_date, он нам больше не нужен.\n",
    "\n",
    "df.drop([\"app_month\"], axis=1, inplace=True)\n",
    "df.drop([\"app_date\"], axis=1, inplace=True)"
   ]
  },
  {
   "cell_type": "markdown",
   "metadata": {
    "papermill": {
     "duration": 0.080611,
     "end_time": "2021-06-14T15:37:07.288339",
     "exception": false,
     "start_time": "2021-06-14T15:37:07.207728",
     "status": "completed"
    },
    "tags": []
   },
   "source": [
    "# Списки"
   ]
  },
  {
   "cell_type": "markdown",
   "metadata": {
    "papermill": {
     "duration": 0.078976,
     "end_time": "2021-06-14T15:37:07.446915",
     "exception": false,
     "start_time": "2021-06-14T15:37:07.367939",
     "status": "completed"
    },
    "tags": []
   },
   "source": [
    "Начинаем изучать получившиеся признаки. Есть все типы: числовые, бинарные и категориальные. Разобьем их на списки в соответствии с типом."
   ]
  },
  {
   "cell_type": "code",
   "execution_count": null,
   "metadata": {
    "execution": {
     "iopub.execute_input": "2021-06-14T15:37:07.609992Z",
     "iopub.status.busy": "2021-06-14T15:37:07.609311Z",
     "iopub.status.idle": "2021-06-14T15:37:07.615889Z",
     "shell.execute_reply": "2021-06-14T15:37:07.615300Z",
     "shell.execute_reply.started": "2021-06-14T15:14:25.799570Z"
    },
    "papermill": {
     "duration": 0.090157,
     "end_time": "2021-06-14T15:37:07.616089",
     "exception": false,
     "start_time": "2021-06-14T15:37:07.525932",
     "status": "completed"
    },
    "tags": []
   },
   "outputs": [],
   "source": [
    "# числовые\n",
    "num_cols = [\n",
    "    'age',\n",
    "    'decline_app_cnt',\n",
    "    'score_bki',\n",
    "    'bki_request_cnt',\n",
    "    'income',\n",
    "    'app_day',\n",
    "    'days',\n",
    "    ]\n",
    "\n",
    "# бинарные\n",
    "bin_cols = [\"sex\", \"car\", \"car_type\", \"good_work\", \"foreign_passport\"]\n",
    "\n",
    "# категориальные\n",
    "cat_cols = [\n",
    "    'education',\n",
    "    'region_rating',\n",
    "    'home_address',\n",
    "    'work_address',\n",
    "    'sna',\n",
    "    'first_time',\n",
    "    'app_weekday',\n",
    "    ]"
   ]
  },
  {
   "cell_type": "markdown",
   "metadata": {
    "papermill": {
     "duration": 0.081979,
     "end_time": "2021-06-14T15:37:07.777828",
     "exception": false,
     "start_time": "2021-06-14T15:37:07.695849",
     "status": "completed"
    },
    "tags": []
   },
   "source": [
    "# Исследуем числовые переменные"
   ]
  },
  {
   "cell_type": "code",
   "execution_count": null,
   "metadata": {
    "execution": {
     "iopub.execute_input": "2021-06-14T15:37:07.945547Z",
     "iopub.status.busy": "2021-06-14T15:37:07.944862Z",
     "iopub.status.idle": "2021-06-14T15:37:08.161724Z",
     "shell.execute_reply": "2021-06-14T15:37:08.161023Z",
     "shell.execute_reply.started": "2021-06-14T15:14:25.806528Z"
    },
    "papermill": {
     "duration": 0.303055,
     "end_time": "2021-06-14T15:37:08.161872",
     "exception": false,
     "start_time": "2021-06-14T15:37:07.858817",
     "status": "completed"
    },
    "tags": []
   },
   "outputs": [],
   "source": [
    "# Проверим значимость числовых переменных:\n",
    "\n",
    "temp_df = df[df['train'] == 1]\n",
    "imp_num = Series(f_classif(temp_df[num_cols], temp_df['default'])[0],\n",
    "                 index=num_cols)\n",
    "imp_num.sort_values(inplace=True)\n",
    "imp_num.plot(kind='barh')"
   ]
  },
  {
   "cell_type": "markdown",
   "metadata": {
    "papermill": {
     "duration": 0.080402,
     "end_time": "2021-06-14T15:37:08.323487",
     "exception": false,
     "start_time": "2021-06-14T15:37:08.243085",
     "status": "completed"
    },
    "tags": []
   },
   "source": [
    "Построим боксплоты и определим признаки, которые имеют выбросы, а также те признаки, которые не сильно изменяются для дефолтных и недефолтных клиентов."
   ]
  },
  {
   "cell_type": "code",
   "execution_count": null,
   "metadata": {
    "execution": {
     "iopub.execute_input": "2021-06-14T15:37:08.512130Z",
     "iopub.status.busy": "2021-06-14T15:37:08.506333Z",
     "iopub.status.idle": "2021-06-14T15:37:09.707546Z",
     "shell.execute_reply": "2021-06-14T15:37:09.706943Z",
     "shell.execute_reply.started": "2021-06-14T15:14:25.980940Z"
    },
    "papermill": {
     "duration": 1.302977,
     "end_time": "2021-06-14T15:37:09.707714",
     "exception": false,
     "start_time": "2021-06-14T15:37:08.404737",
     "status": "completed"
    },
    "tags": []
   },
   "outputs": [],
   "source": [
    "for column in num_cols:\n",
    "    get_boxplot1(column)"
   ]
  },
  {
   "cell_type": "markdown",
   "metadata": {
    "papermill": {
     "duration": 0.084902,
     "end_time": "2021-06-14T15:37:09.881850",
     "exception": false,
     "start_time": "2021-06-14T15:37:09.796948",
     "status": "completed"
    },
    "tags": []
   },
   "source": [
    "Дефолт практически не зависит от дня месяца и в списке значимости день месяца не важен. Можно этот признак исключить."
   ]
  },
  {
   "cell_type": "code",
   "execution_count": null,
   "metadata": {
    "execution": {
     "iopub.execute_input": "2021-06-14T15:37:10.066178Z",
     "iopub.status.busy": "2021-06-14T15:37:10.065491Z",
     "iopub.status.idle": "2021-06-14T15:37:10.074448Z",
     "shell.execute_reply": "2021-06-14T15:37:10.073915Z",
     "shell.execute_reply.started": "2021-06-14T15:14:27.138469Z"
    },
    "papermill": {
     "duration": 0.105173,
     "end_time": "2021-06-14T15:37:10.074625",
     "exception": false,
     "start_time": "2021-06-14T15:37:09.969452",
     "status": "completed"
    },
    "tags": []
   },
   "outputs": [],
   "source": [
    "df.drop(['app_day'], axis=1, inplace=True)\n",
    "num_cols.remove('app_day')"
   ]
  },
  {
   "cell_type": "code",
   "execution_count": null,
   "metadata": {
    "execution": {
     "iopub.execute_input": "2021-06-14T15:37:10.253573Z",
     "iopub.status.busy": "2021-06-14T15:37:10.252547Z",
     "iopub.status.idle": "2021-06-14T15:37:10.381391Z",
     "shell.execute_reply": "2021-06-14T15:37:10.380738Z",
     "shell.execute_reply.started": "2021-06-14T15:14:27.157087Z"
    },
    "papermill": {
     "duration": 0.221707,
     "end_time": "2021-06-14T15:37:10.381551",
     "exception": false,
     "start_time": "2021-06-14T15:37:10.159844",
     "status": "completed"
    },
    "tags": []
   },
   "outputs": [],
   "source": [
    "# Для уменьшения количества выбросов переведем в категориальный признак количество отказанных прошлых заявок по принципу \"одна-две-три-много\"\n",
    "\n",
    "df.decline_app_cnt = df.decline_app_cnt.apply(lambda x: (x if x < 4 else 4))\n",
    "df.bki_request_cnt = df.bki_request_cnt.apply(lambda x: 7 if x >= 7 else x)"
   ]
  },
  {
   "cell_type": "code",
   "execution_count": null,
   "metadata": {
    "execution": {
     "iopub.execute_input": "2021-06-14T15:37:10.558855Z",
     "iopub.status.busy": "2021-06-14T15:37:10.557830Z",
     "iopub.status.idle": "2021-06-14T15:37:10.561529Z",
     "shell.execute_reply": "2021-06-14T15:37:10.561014Z",
     "shell.execute_reply.started": "2021-06-14T15:14:27.292316Z"
    },
    "papermill": {
     "duration": 0.094534,
     "end_time": "2021-06-14T15:37:10.561698",
     "exception": false,
     "start_time": "2021-06-14T15:37:10.467164",
     "status": "completed"
    },
    "tags": []
   },
   "outputs": [],
   "source": [
    "# Перенесем нужную колонку из списка числовых в список категориальных:\n",
    "\n",
    "num_cols.remove('decline_app_cnt')\n",
    "cat_cols.append('decline_app_cnt')\n",
    "\n",
    "num_cols.remove('bki_request_cnt')\n",
    "cat_cols.append('bki_request_cnt')"
   ]
  },
  {
   "cell_type": "markdown",
   "metadata": {
    "papermill": {
     "duration": 0.08509,
     "end_time": "2021-06-14T15:37:10.732197",
     "exception": false,
     "start_time": "2021-06-14T15:37:10.647107",
     "status": "completed"
    },
    "tags": []
   },
   "source": [
    "Еще про выбросы: в возрасте, как мы уже заметили, их нет. При EDA было обнаружено, что минимальный возраст 21 год, а максимальный - 72, все в порядке. Ни малолетних заемщиков, ни уникальных долгожителей нет."
   ]
  },
  {
   "cell_type": "markdown",
   "metadata": {
    "papermill": {
     "duration": 0.085615,
     "end_time": "2021-06-14T15:37:10.907908",
     "exception": false,
     "start_time": "2021-06-14T15:37:10.822293",
     "status": "completed"
    },
    "tags": []
   },
   "source": [
    "Но мы можем перенести возраст в категориальную переменную, разделив по процентилям."
   ]
  },
  {
   "cell_type": "code",
   "execution_count": null,
   "metadata": {
    "execution": {
     "iopub.execute_input": "2021-06-14T15:37:11.087433Z",
     "iopub.status.busy": "2021-06-14T15:37:11.086663Z",
     "iopub.status.idle": "2021-06-14T15:37:11.101907Z",
     "shell.execute_reply": "2021-06-14T15:37:11.101218Z",
     "shell.execute_reply.started": "2021-06-14T15:14:27.299392Z"
    },
    "papermill": {
     "duration": 0.10676,
     "end_time": "2021-06-14T15:37:11.102052",
     "exception": false,
     "start_time": "2021-06-14T15:37:10.995292",
     "status": "completed"
    },
    "tags": []
   },
   "outputs": [],
   "source": [
    "df.age.describe()"
   ]
  },
  {
   "cell_type": "code",
   "execution_count": null,
   "metadata": {
    "execution": {
     "iopub.execute_input": "2021-06-14T15:37:11.278866Z",
     "iopub.status.busy": "2021-06-14T15:37:11.278164Z",
     "iopub.status.idle": "2021-06-14T15:37:11.290274Z",
     "shell.execute_reply": "2021-06-14T15:37:11.289701Z",
     "shell.execute_reply.started": "2021-06-14T15:14:27.323709Z"
    },
    "papermill": {
     "duration": 0.102677,
     "end_time": "2021-06-14T15:37:11.290418",
     "exception": false,
     "start_time": "2021-06-14T15:37:11.187741",
     "status": "completed"
    },
    "tags": []
   },
   "outputs": [],
   "source": [
    "perc25 = df.age.quantile(0.25)\n",
    "perc50 = df.age.quantile(0.5)\n",
    "perc75 = df.age.quantile(0.75)"
   ]
  },
  {
   "cell_type": "code",
   "execution_count": null,
   "metadata": {
    "execution": {
     "iopub.execute_input": "2021-06-14T15:37:11.470266Z",
     "iopub.status.busy": "2021-06-14T15:37:11.469531Z",
     "iopub.status.idle": "2021-06-14T15:37:11.472741Z",
     "shell.execute_reply": "2021-06-14T15:37:11.472210Z",
     "shell.execute_reply.started": "2021-06-14T15:14:27.340499Z"
    },
    "papermill": {
     "duration": 0.095988,
     "end_time": "2021-06-14T15:37:11.472906",
     "exception": false,
     "start_time": "2021-06-14T15:37:11.376918",
     "status": "completed"
    },
    "tags": []
   },
   "outputs": [],
   "source": [
    "def age_to_cat(age):\n",
    "    if age <= perc25:\n",
    "        cat_age = '0'\n",
    "        return cat_age             \n",
    "    if perc25 < age <= perc50:\n",
    "        cat_age = '1'\n",
    "        return cat_age\n",
    "    if perc50 < age <= perc75:\n",
    "        cat_age = '2'\n",
    "        return cat_age\n",
    "    if age > perc75:\n",
    "        cat_age = '3'\n",
    "        return cat_age"
   ]
  },
  {
   "cell_type": "code",
   "execution_count": null,
   "metadata": {
    "execution": {
     "iopub.execute_input": "2021-06-14T15:37:11.653501Z",
     "iopub.status.busy": "2021-06-14T15:37:11.652053Z",
     "iopub.status.idle": "2021-06-14T15:37:11.922993Z",
     "shell.execute_reply": "2021-06-14T15:37:11.922402Z",
     "shell.execute_reply.started": "2021-06-14T15:14:27.347200Z"
    },
    "papermill": {
     "duration": 0.364124,
     "end_time": "2021-06-14T15:37:11.923162",
     "exception": false,
     "start_time": "2021-06-14T15:37:11.559038",
     "status": "completed"
    },
    "tags": []
   },
   "outputs": [],
   "source": [
    "df['age_cat'] = 0 # create age_categorical column\n",
    "df['age_cat'] = df['age'].apply(lambda x:age_to_cat(x))\n",
    "df = df.drop('age',axis=1)"
   ]
  },
  {
   "cell_type": "code",
   "execution_count": null,
   "metadata": {
    "execution": {
     "iopub.execute_input": "2021-06-14T15:37:12.104286Z",
     "iopub.status.busy": "2021-06-14T15:37:12.103501Z",
     "iopub.status.idle": "2021-06-14T15:37:12.106942Z",
     "shell.execute_reply": "2021-06-14T15:37:12.106285Z",
     "shell.execute_reply.started": "2021-06-14T15:14:27.646105Z"
    },
    "papermill": {
     "duration": 0.094819,
     "end_time": "2021-06-14T15:37:12.107092",
     "exception": false,
     "start_time": "2021-06-14T15:37:12.012273",
     "status": "completed"
    },
    "tags": []
   },
   "outputs": [],
   "source": [
    "num_cols.remove('age')\n",
    "cat_cols.append('age_cat')"
   ]
  },
  {
   "cell_type": "code",
   "execution_count": null,
   "metadata": {
    "execution": {
     "iopub.execute_input": "2021-06-14T15:37:12.287572Z",
     "iopub.status.busy": "2021-06-14T15:37:12.286832Z",
     "iopub.status.idle": "2021-06-14T15:37:12.530999Z",
     "shell.execute_reply": "2021-06-14T15:37:12.530363Z",
     "shell.execute_reply.started": "2021-06-14T15:14:27.652243Z"
    },
    "papermill": {
     "duration": 0.338222,
     "end_time": "2021-06-14T15:37:12.531151",
     "exception": false,
     "start_time": "2021-06-14T15:37:12.192929",
     "status": "completed"
    },
    "tags": []
   },
   "outputs": [],
   "source": [
    "# Построим матрицу корреляций для числовых признаков:\n",
    "plt.figure(figsize=(10, 5))\n",
    "sns.heatmap(df[num_cols + ['default']].corr(), annot=True)"
   ]
  },
  {
   "cell_type": "markdown",
   "metadata": {
    "papermill": {
     "duration": 0.08685,
     "end_time": "2021-06-14T15:37:12.705318",
     "exception": false,
     "start_time": "2021-06-14T15:37:12.618468",
     "status": "completed"
    },
    "tags": []
   },
   "source": [
    "Признаки слабо коррелируют, можно оставить все."
   ]
  },
  {
   "cell_type": "code",
   "execution_count": null,
   "metadata": {
    "execution": {
     "iopub.execute_input": "2021-06-14T15:37:12.891958Z",
     "iopub.status.busy": "2021-06-14T15:37:12.891221Z",
     "iopub.status.idle": "2021-06-14T15:37:13.542259Z",
     "shell.execute_reply": "2021-06-14T15:37:13.541701Z",
     "shell.execute_reply.started": "2021-06-14T15:14:27.959706Z"
    },
    "papermill": {
     "duration": 0.747459,
     "end_time": "2021-06-14T15:37:13.542400",
     "exception": false,
     "start_time": "2021-06-14T15:37:12.794941",
     "status": "completed"
    },
    "tags": []
   },
   "outputs": [],
   "source": [
    "# Поглядим на распределение числовых признаков:\n",
    "for i in num_cols:\n",
    "    plt.figure()\n",
    "    sns.distplot(df[i][df[i] > 0].dropna(), kde=False, rug=False)\n",
    "    plt.title(i)\n",
    "    plt.show()"
   ]
  },
  {
   "cell_type": "markdown",
   "metadata": {
    "execution": {
     "iopub.execute_input": "2021-06-09T14:17:39.452153Z",
     "iopub.status.busy": "2021-06-09T14:17:39.451662Z",
     "iopub.status.idle": "2021-06-09T14:17:39.459414Z",
     "shell.execute_reply": "2021-06-09T14:17:39.457842Z",
     "shell.execute_reply.started": "2021-06-09T14:17:39.452111Z"
    },
    "papermill": {
     "duration": 0.088939,
     "end_time": "2021-06-14T15:37:13.720620",
     "exception": false,
     "start_time": "2021-06-14T15:37:13.631681",
     "status": "completed"
    },
    "tags": []
   },
   "source": [
    " Признаки можно прологарифмировать, чтобы добиться более нормального распределения. Поскольку в этом пункте у нас остается только доход, выбросы особого значения не имеют (отрицательного дохода ни у кого не было)."
   ]
  },
  {
   "cell_type": "code",
   "execution_count": null,
   "metadata": {
    "execution": {
     "iopub.execute_input": "2021-06-14T15:37:13.909413Z",
     "iopub.status.busy": "2021-06-14T15:37:13.908736Z",
     "iopub.status.idle": "2021-06-14T15:37:13.918911Z",
     "shell.execute_reply": "2021-06-14T15:37:13.918198Z",
     "shell.execute_reply.started": "2021-06-14T15:14:28.768711Z"
    },
    "papermill": {
     "duration": 0.107604,
     "end_time": "2021-06-14T15:37:13.919062",
     "exception": false,
     "start_time": "2021-06-14T15:37:13.811458",
     "status": "completed"
    },
    "tags": []
   },
   "outputs": [],
   "source": [
    "# После длительных проверок и экспериментов выяснилось, что лучше всего работает модель, где логарифмирован только доход. Так и оставляем.\n",
    "num_cols_log = ['income']\n",
    "for column in num_cols_log:\n",
    "    df[column] = np.log(df[column] + 5)"
   ]
  },
  {
   "cell_type": "code",
   "execution_count": null,
   "metadata": {
    "execution": {
     "iopub.execute_input": "2021-06-14T15:37:14.107379Z",
     "iopub.status.busy": "2021-06-14T15:37:14.106707Z",
     "iopub.status.idle": "2021-06-14T15:37:14.346916Z",
     "shell.execute_reply": "2021-06-14T15:37:14.345866Z",
     "shell.execute_reply.started": "2021-06-14T15:14:28.782979Z"
    },
    "papermill": {
     "duration": 0.337675,
     "end_time": "2021-06-14T15:37:14.347071",
     "exception": false,
     "start_time": "2021-06-14T15:37:14.009396",
     "status": "completed"
    },
    "tags": []
   },
   "outputs": [],
   "source": [
    "# Поглядим на распределение числовых признаков после логарифмирования.\n",
    "for i in num_cols_log:\n",
    "    plt.figure()\n",
    "    sns.distplot(df[i][df[i] > 0].dropna(), kde = False, rug=False)\n",
    "    plt.title(i)\n",
    "    plt.show()"
   ]
  },
  {
   "cell_type": "code",
   "execution_count": null,
   "metadata": {
    "execution": {
     "iopub.execute_input": "2021-06-14T15:37:14.535342Z",
     "iopub.status.busy": "2021-06-14T15:37:14.534119Z",
     "iopub.status.idle": "2021-06-14T15:37:14.571845Z",
     "shell.execute_reply": "2021-06-14T15:37:14.571303Z",
     "shell.execute_reply.started": "2021-06-14T15:14:29.019840Z"
    },
    "papermill": {
     "duration": 0.135269,
     "end_time": "2021-06-14T15:37:14.571994",
     "exception": false,
     "start_time": "2021-06-14T15:37:14.436725",
     "status": "completed"
    },
    "tags": []
   },
   "outputs": [],
   "source": [
    "# Добавим новые полиномиальные признаки, которые являются математическими комбинациями числовых признаков.\n",
    "pf = PolynomialFeatures(2, include_bias=False)\n",
    "poly_data = pf.fit_transform(df[num_cols])[:, len(num_cols):]\n",
    "poly_cols = pf.get_feature_names()[len(num_cols):]\n",
    "poly_df = pd.DataFrame(poly_data, columns=poly_cols)\n",
    "df = df.join(poly_df, how='left')"
   ]
  },
  {
   "cell_type": "code",
   "execution_count": null,
   "metadata": {
    "execution": {
     "iopub.execute_input": "2021-06-14T15:37:14.758291Z",
     "iopub.status.busy": "2021-06-14T15:37:14.757293Z",
     "iopub.status.idle": "2021-06-14T15:37:14.760401Z",
     "shell.execute_reply": "2021-06-14T15:37:14.759797Z",
     "shell.execute_reply.started": "2021-06-14T15:14:29.067407Z"
    },
    "papermill": {
     "duration": 0.097528,
     "end_time": "2021-06-14T15:37:14.760539",
     "exception": false,
     "start_time": "2021-06-14T15:37:14.663011",
     "status": "completed"
    },
    "tags": []
   },
   "outputs": [],
   "source": [
    "# Полиномиальные лучше не обрабатывать вместе с числовыми, от этого модель лучше обучается.\n",
    "# num_cols = num_cols + poly_cols"
   ]
  },
  {
   "cell_type": "markdown",
   "metadata": {
    "papermill": {
     "duration": 0.090827,
     "end_time": "2021-06-14T15:37:14.942095",
     "exception": false,
     "start_time": "2021-06-14T15:37:14.851268",
     "status": "completed"
    },
    "tags": []
   },
   "source": [
    "# Бинарные переменные"
   ]
  },
  {
   "cell_type": "code",
   "execution_count": null,
   "metadata": {
    "execution": {
     "iopub.execute_input": "2021-06-14T15:37:15.145025Z",
     "iopub.status.busy": "2021-06-14T15:37:15.138852Z",
     "iopub.status.idle": "2021-06-14T15:37:16.347183Z",
     "shell.execute_reply": "2021-06-14T15:37:16.347652Z",
     "shell.execute_reply.started": "2021-06-14T15:14:29.073602Z"
    },
    "papermill": {
     "duration": 1.315105,
     "end_time": "2021-06-14T15:37:16.347834",
     "exception": false,
     "start_time": "2021-06-14T15:37:15.032729",
     "status": "completed"
    },
    "tags": []
   },
   "outputs": [],
   "source": [
    "# Построим графики распределения значений по их количеству:\n",
    "for col in bin_cols:\n",
    "    plt.figure(figsize=(6, 4))\n",
    "    sns.countplot(df[col])\n",
    "    plt.title(f\"Распределение признака {col}\")"
   ]
  },
  {
   "cell_type": "markdown",
   "metadata": {
    "papermill": {
     "duration": 0.094013,
     "end_time": "2021-06-14T15:37:16.536811",
     "exception": false,
     "start_time": "2021-06-14T15:37:16.442798",
     "status": "completed"
    },
    "tags": []
   },
   "source": [
    "Чаще берут кредит женщины, чем мужчины, люди без хорошей работы (это понятно), люди без загранпаспорта и люди без машины (хотя казалось бы, с машиной самое то кредиты на обслуживание брать...). "
   ]
  },
  {
   "cell_type": "code",
   "execution_count": null,
   "metadata": {
    "execution": {
     "iopub.execute_input": "2021-06-14T15:37:16.731647Z",
     "iopub.status.busy": "2021-06-14T15:37:16.730903Z",
     "iopub.status.idle": "2021-06-14T15:37:17.557568Z",
     "shell.execute_reply": "2021-06-14T15:37:17.556936Z",
     "shell.execute_reply.started": "2021-06-14T15:14:30.043119Z"
    },
    "papermill": {
     "duration": 0.927889,
     "end_time": "2021-06-14T15:37:17.557732",
     "exception": false,
     "start_time": "2021-06-14T15:37:16.629843",
     "status": "completed"
    },
    "tags": []
   },
   "outputs": [],
   "source": [
    "# Построим графики распределения значений по их соотношению с default:\n",
    "for col in bin_cols:\n",
    "    plt.figure(figsize=(8, 4))\n",
    "    prop_df = df[col].groupby(df[\"default\"]).value_counts(\n",
    "        normalize=True).rename(\"percent\").reset_index()\n",
    "    prop_df[\"percent\"] *= 100\n",
    "    sns.barplot(x=col, y=\"percent\", hue=\"default\", data=prop_df)\n",
    "    plt.title(f\"Распределение признака {col}\")"
   ]
  },
  {
   "cell_type": "markdown",
   "metadata": {
    "papermill": {
     "duration": 0.095388,
     "end_time": "2021-06-14T15:37:17.749485",
     "exception": false,
     "start_time": "2021-06-14T15:37:17.654097",
     "status": "completed"
    },
    "tags": []
   },
   "source": [
    "Дефолт чаще встречается у женщин, у людей без машины, у людей с плохой работой и без загранпаспорта."
   ]
  },
  {
   "cell_type": "code",
   "execution_count": null,
   "metadata": {
    "execution": {
     "iopub.execute_input": "2021-06-14T15:37:17.953014Z",
     "iopub.status.busy": "2021-06-14T15:37:17.951989Z",
     "iopub.status.idle": "2021-06-14T15:37:18.106490Z",
     "shell.execute_reply": "2021-06-14T15:37:18.107003Z",
     "shell.execute_reply.started": "2021-06-14T15:14:30.859580Z"
    },
    "papermill": {
     "duration": 0.257099,
     "end_time": "2021-06-14T15:37:18.107186",
     "exception": false,
     "start_time": "2021-06-14T15:37:17.850087",
     "status": "completed"
    },
    "tags": []
   },
   "outputs": [],
   "source": [
    "# Для бинарных признаков мы будем использовать LabelEncoder.\n",
    "label_encoder = LabelEncoder()\n",
    "\n",
    "for column in bin_cols:\n",
    "    df[column] = label_encoder.fit_transform(df[column])   "
   ]
  },
  {
   "cell_type": "code",
   "execution_count": null,
   "metadata": {
    "execution": {
     "iopub.execute_input": "2021-06-14T15:37:18.307611Z",
     "iopub.status.busy": "2021-06-14T15:37:18.306930Z",
     "iopub.status.idle": "2021-06-14T15:37:18.540229Z",
     "shell.execute_reply": "2021-06-14T15:37:18.540711Z",
     "shell.execute_reply.started": "2021-06-14T15:14:31.020462Z"
    },
    "papermill": {
     "duration": 0.337194,
     "end_time": "2021-06-14T15:37:18.540897",
     "exception": false,
     "start_time": "2021-06-14T15:37:18.203703",
     "status": "completed"
    },
    "tags": []
   },
   "outputs": [],
   "source": [
    "# Проверим значимость бинарных переменных:\n",
    "temp_df = df[df['train'] == 1]\n",
    "imp_cat = Series(mutual_info_classif(temp_df[bin_cols],\n",
    "                 temp_df['default'], discrete_features=True),\n",
    "                 index=bin_cols)\n",
    "imp_cat.sort_values(inplace=True)\n",
    "imp_cat.plot(kind='barh')"
   ]
  },
  {
   "cell_type": "markdown",
   "metadata": {
    "papermill": {
     "duration": 0.097714,
     "end_time": "2021-06-14T15:37:18.736685",
     "exception": false,
     "start_time": "2021-06-14T15:37:18.638971",
     "status": "completed"
    },
    "tags": []
   },
   "source": [
    "Все значимые, все оставляем."
   ]
  },
  {
   "cell_type": "code",
   "execution_count": null,
   "metadata": {
    "execution": {
     "iopub.execute_input": "2021-06-14T15:37:18.945162Z",
     "iopub.status.busy": "2021-06-14T15:37:18.944439Z",
     "iopub.status.idle": "2021-06-14T15:37:19.297422Z",
     "shell.execute_reply": "2021-06-14T15:37:19.296862Z",
     "shell.execute_reply.started": "2021-06-14T15:14:31.241939Z"
    },
    "papermill": {
     "duration": 0.461607,
     "end_time": "2021-06-14T15:37:19.297564",
     "exception": false,
     "start_time": "2021-06-14T15:37:18.835957",
     "status": "completed"
    },
    "tags": []
   },
   "outputs": [],
   "source": [
    "# Построим матрицу корреляций для бинарных признаков:\n",
    "plt.figure(figsize=(10,5))\n",
    "sns.heatmap(df[bin_cols+['default']].corr(), annot=True)"
   ]
  },
  {
   "cell_type": "markdown",
   "metadata": {
    "papermill": {
     "duration": 0.09951,
     "end_time": "2021-06-14T15:37:19.497496",
     "exception": false,
     "start_time": "2021-06-14T15:37:19.397986",
     "status": "completed"
    },
    "tags": []
   },
   "source": [
    "Сильно коррелируют car и car_type. Попробуем удалить car как менее значимый, и посмотрим, что изменилось в модели (стало лучше).\n"
   ]
  },
  {
   "cell_type": "code",
   "execution_count": null,
   "metadata": {
    "execution": {
     "iopub.execute_input": "2021-06-14T15:37:19.765638Z",
     "iopub.status.busy": "2021-06-14T15:37:19.764630Z",
     "iopub.status.idle": "2021-06-14T15:37:19.767886Z",
     "shell.execute_reply": "2021-06-14T15:37:19.767207Z",
     "shell.execute_reply.started": "2021-06-14T15:14:31.702942Z"
    },
    "papermill": {
     "duration": 0.117696,
     "end_time": "2021-06-14T15:37:19.768063",
     "exception": false,
     "start_time": "2021-06-14T15:37:19.650367",
     "status": "completed"
    },
    "tags": []
   },
   "outputs": [],
   "source": [
    "df.drop(['car'], axis=1, inplace=True)\n",
    "bin_cols.remove('car')"
   ]
  },
  {
   "cell_type": "markdown",
   "metadata": {
    "papermill": {
     "duration": 0.101963,
     "end_time": "2021-06-14T15:37:19.976434",
     "exception": false,
     "start_time": "2021-06-14T15:37:19.874471",
     "status": "completed"
    },
    "tags": []
   },
   "source": [
    "# Категориальные переменные"
   ]
  },
  {
   "cell_type": "code",
   "execution_count": null,
   "metadata": {
    "execution": {
     "iopub.execute_input": "2021-06-14T15:37:20.212910Z",
     "iopub.status.busy": "2021-06-14T15:37:20.201647Z",
     "iopub.status.idle": "2021-06-14T15:37:21.837885Z",
     "shell.execute_reply": "2021-06-14T15:37:21.837308Z",
     "shell.execute_reply.started": "2021-06-14T15:14:31.720857Z"
    },
    "papermill": {
     "duration": 1.759422,
     "end_time": "2021-06-14T15:37:21.838030",
     "exception": false,
     "start_time": "2021-06-14T15:37:20.078608",
     "status": "completed"
    },
    "tags": []
   },
   "outputs": [],
   "source": [
    "# Построим графики распределения значений по их количеству:\n",
    "for col in cat_cols:\n",
    "    plt.figure(figsize=(6, 4))\n",
    "    sns.countplot(df[col])\n",
    "    plt.title(f\"Распределение признака {col}\")"
   ]
  },
  {
   "cell_type": "code",
   "execution_count": null,
   "metadata": {
    "execution": {
     "iopub.execute_input": "2021-06-14T15:37:22.062955Z",
     "iopub.status.busy": "2021-06-14T15:37:22.062281Z",
     "iopub.status.idle": "2021-06-14T15:37:24.588483Z",
     "shell.execute_reply": "2021-06-14T15:37:24.587792Z",
     "shell.execute_reply.started": "2021-06-14T15:14:33.270896Z"
    },
    "papermill": {
     "duration": 2.641773,
     "end_time": "2021-06-14T15:37:24.588649",
     "exception": false,
     "start_time": "2021-06-14T15:37:21.946876",
     "status": "completed"
    },
    "tags": []
   },
   "outputs": [],
   "source": [
    "# Построим графики распределения значений по их соотношению с default:\n",
    "for col in cat_cols:\n",
    "    plt.figure(figsize=(8,8))\n",
    "    prop_df = df[col].groupby(df[\"default\"]).value_counts(\n",
    "        normalize=True).rename(\"percent\").reset_index()\n",
    "    prop_df[\"percent\"] *= 100\n",
    "    sns.barplot(x=col, y=\"percent\", hue=\"default\", data=prop_df)\n",
    "    plt.title(f\"Распределение признака {col}\")"
   ]
  },
  {
   "cell_type": "markdown",
   "metadata": {
    "execution": {
     "iopub.execute_input": "2021-06-11T10:43:04.085338Z",
     "iopub.status.busy": "2021-06-11T10:43:04.084945Z",
     "iopub.status.idle": "2021-06-11T10:43:04.092253Z",
     "shell.execute_reply": "2021-06-11T10:43:04.090934Z",
     "shell.execute_reply.started": "2021-06-11T10:43:04.085309Z"
    },
    "papermill": {
     "duration": 0.116716,
     "end_time": "2021-06-14T15:37:24.821198",
     "exception": false,
     "start_time": "2021-06-14T15:37:24.704482",
     "status": "completed"
    },
    "tags": []
   },
   "source": [
    "Интересное наблюдение: люди, которые берут кредит в четверг, чуть чаще не способны выплатить кредит в срок, а люди, которые берут его в пятницу, - наоборот.\n",
    "\n",
    "И еще наблюдение: чаще всего не платят в срок молодежь и совсем пожилые люди.\n",
    "\n"
   ]
  },
  {
   "cell_type": "code",
   "execution_count": null,
   "metadata": {
    "execution": {
     "iopub.execute_input": "2021-06-14T15:37:25.076005Z",
     "iopub.status.busy": "2021-06-14T15:37:25.070670Z",
     "iopub.status.idle": "2021-06-14T15:37:25.140703Z",
     "shell.execute_reply": "2021-06-14T15:37:25.139737Z",
     "shell.execute_reply.started": "2021-06-14T15:14:35.751142Z"
    },
    "papermill": {
     "duration": 0.202798,
     "end_time": "2021-06-14T15:37:25.140861",
     "exception": false,
     "start_time": "2021-06-14T15:37:24.938063",
     "status": "completed"
    },
    "tags": []
   },
   "outputs": [],
   "source": [
    "# Преобразуем данные признака education в числа:\n",
    "df['education'] = label_encoder.fit_transform(df['education'])\n",
    "print(dict(enumerate(label_encoder.classes_)))\n",
    "df.sample(3)"
   ]
  },
  {
   "cell_type": "code",
   "execution_count": null,
   "metadata": {
    "execution": {
     "iopub.execute_input": "2021-06-14T15:37:25.378833Z",
     "iopub.status.busy": "2021-06-14T15:37:25.378097Z",
     "iopub.status.idle": "2021-06-14T15:37:25.794525Z",
     "shell.execute_reply": "2021-06-14T15:37:25.793794Z",
     "shell.execute_reply.started": "2021-06-14T15:14:35.828877Z"
    },
    "papermill": {
     "duration": 0.538451,
     "end_time": "2021-06-14T15:37:25.794692",
     "exception": false,
     "start_time": "2021-06-14T15:37:25.256241",
     "status": "completed"
    },
    "tags": []
   },
   "outputs": [],
   "source": [
    "# Проверим значимость категориальных переменных:\n",
    "temp_df = df[df['train'] == 1]\n",
    "imp_cat = Series(mutual_info_classif(temp_df[cat_cols],\n",
    "                 temp_df['default'], discrete_features=True),\n",
    "                 index=cat_cols)\n",
    "imp_cat.sort_values(inplace=True)\n",
    "imp_cat.plot(kind='barh')"
   ]
  },
  {
   "cell_type": "markdown",
   "metadata": {
    "papermill": {
     "duration": 0.117542,
     "end_time": "2021-06-14T15:37:26.031300",
     "exception": false,
     "start_time": "2021-06-14T15:37:25.913758",
     "status": "completed"
    },
    "tags": []
   },
   "source": [
    "Мы видим, что самый значимый признак среди категориальных - есть ли у заемщика связи с клиентами банка. Самый незначительный, но все-таки влияющий на модель, - день недели, когда подана заявка. Оставляем все."
   ]
  },
  {
   "cell_type": "code",
   "execution_count": null,
   "metadata": {
    "execution": {
     "iopub.execute_input": "2021-06-14T15:37:26.274748Z",
     "iopub.status.busy": "2021-06-14T15:37:26.274045Z",
     "iopub.status.idle": "2021-06-14T15:37:27.056046Z",
     "shell.execute_reply": "2021-06-14T15:37:27.056565Z",
     "shell.execute_reply.started": "2021-06-14T15:14:36.245672Z"
    },
    "papermill": {
     "duration": 0.908033,
     "end_time": "2021-06-14T15:37:27.056805",
     "exception": false,
     "start_time": "2021-06-14T15:37:26.148772",
     "status": "completed"
    },
    "tags": []
   },
   "outputs": [],
   "source": [
    "# Построим матрицу корреляций для категориальных признаков:\n",
    "plt.figure(figsize=(15,8))\n",
    "sns.heatmap(df[cat_cols+['default']].corr(), annot=True)"
   ]
  },
  {
   "cell_type": "markdown",
   "metadata": {
    "papermill": {
     "duration": 0.119183,
     "end_time": "2021-06-14T15:37:27.297546",
     "exception": false,
     "start_time": "2021-06-14T15:37:27.178363",
     "status": "completed"
    },
    "tags": []
   },
   "source": [
    "Рабочий адрес менее значим. Попробуем его... того! А, нет, без него хуже."
   ]
  },
  {
   "cell_type": "code",
   "execution_count": null,
   "metadata": {
    "execution": {
     "iopub.execute_input": "2021-06-14T15:37:27.538252Z",
     "iopub.status.busy": "2021-06-14T15:37:27.537578Z",
     "iopub.status.idle": "2021-06-14T15:37:27.540742Z",
     "shell.execute_reply": "2021-06-14T15:37:27.541229Z",
     "shell.execute_reply.started": "2021-06-14T15:14:37.121792Z"
    },
    "papermill": {
     "duration": 0.125343,
     "end_time": "2021-06-14T15:37:27.541424",
     "exception": false,
     "start_time": "2021-06-14T15:37:27.416081",
     "status": "completed"
    },
    "tags": []
   },
   "outputs": [],
   "source": [
    "# df.drop(['work_address'], axis=1, inplace=True)\n",
    "# cat_cols.remove('work_address')"
   ]
  },
  {
   "cell_type": "markdown",
   "metadata": {
    "papermill": {
     "duration": 0.119015,
     "end_time": "2021-06-14T15:37:27.780176",
     "exception": false,
     "start_time": "2021-06-14T15:37:27.661161",
     "status": "completed"
    },
    "tags": []
   },
   "source": [
    "Попробуем объединить рабочий и домашний адреса методом декомпозиции."
   ]
  },
  {
   "cell_type": "code",
   "execution_count": null,
   "metadata": {
    "execution": {
     "iopub.execute_input": "2021-06-14T15:37:28.024164Z",
     "iopub.status.busy": "2021-06-14T15:37:28.023411Z",
     "iopub.status.idle": "2021-06-14T15:37:28.145221Z",
     "shell.execute_reply": "2021-06-14T15:37:28.146288Z",
     "shell.execute_reply.started": "2021-06-14T15:14:37.129487Z"
    },
    "papermill": {
     "duration": 0.245212,
     "end_time": "2021-06-14T15:37:28.146561",
     "exception": false,
     "start_time": "2021-06-14T15:37:27.901349",
     "status": "completed"
    },
    "tags": []
   },
   "outputs": [],
   "source": [
    "from sklearn.decomposition import PCA\n",
    "from sklearn.preprocessing import StandardScaler\n",
    "\n",
    "# Выберем из датасета нужные колонки:\n",
    "data = df[['work_address', 'home_address']].values\n",
    "\n",
    "# Создадим Scaler instance:\n",
    "scaler = StandardScaler()\n",
    "scaled_data = scaler.fit_transform(data)\n",
    "\n",
    "# Из двух столбцов сделаем один путем усечения ненужной информации.\n",
    "pca = PCA(n_components=1)\n",
    "pca.fit(scaled_data)\n",
    "pca_data = pca.transform(scaled_data)\n",
    "df['address'] = pca_data\n",
    "\n",
    "# Уберем ненужные колонки:\n",
    "df = df.drop(['home_address','work_address'],axis=1)\n",
    "\n",
    "# Приведем в порядок списки:\n",
    "cat_cols.remove('home_address')\n",
    "cat_cols.remove('work_address')\n",
    "cat_cols.append('address')"
   ]
  },
  {
   "cell_type": "markdown",
   "metadata": {
    "papermill": {
     "duration": 0.118541,
     "end_time": "2021-06-14T15:37:28.425693",
     "exception": false,
     "start_time": "2021-06-14T15:37:28.307152",
     "status": "completed"
    },
    "tags": []
   },
   "source": [
    "# Приступаем к построению модели. Подготовка данных"
   ]
  },
  {
   "cell_type": "code",
   "execution_count": null,
   "metadata": {
    "execution": {
     "iopub.execute_input": "2021-06-14T15:37:28.671009Z",
     "iopub.status.busy": "2021-06-14T15:37:28.670244Z",
     "iopub.status.idle": "2021-06-14T15:37:28.699637Z",
     "shell.execute_reply": "2021-06-14T15:37:28.700157Z",
     "shell.execute_reply.started": "2021-06-14T15:14:37.284164Z"
    },
    "papermill": {
     "duration": 0.155382,
     "end_time": "2021-06-14T15:37:28.700357",
     "exception": false,
     "start_time": "2021-06-14T15:37:28.544975",
     "status": "completed"
    },
    "tags": []
   },
   "outputs": [],
   "source": [
    "# Делим датасет обратно - на тест и трейн.\n",
    "train = df.query('train == 1').drop(['train'], axis=1)\n",
    "test = df.query('train == 0').drop(['train'], axis=1)"
   ]
  },
  {
   "cell_type": "code",
   "execution_count": null,
   "metadata": {
    "execution": {
     "iopub.execute_input": "2021-06-14T15:37:28.945248Z",
     "iopub.status.busy": "2021-06-14T15:37:28.944366Z",
     "iopub.status.idle": "2021-06-14T15:37:28.950770Z",
     "shell.execute_reply": "2021-06-14T15:37:28.951449Z",
     "shell.execute_reply.started": "2021-06-14T15:14:37.359821Z"
    },
    "papermill": {
     "duration": 0.13014,
     "end_time": "2021-06-14T15:37:28.951718",
     "exception": false,
     "start_time": "2021-06-14T15:37:28.821578",
     "status": "completed"
    },
    "tags": []
   },
   "outputs": [],
   "source": [
    "# Проверим на соответствие значений:\n",
    "print('Размер тренировочного датасета: ', train.shape,\n",
    "      'Размер тестового датасета: ', test.shape, sep='\\n')\n",
    "# Количество строк соответствует исходным."
   ]
  },
  {
   "cell_type": "code",
   "execution_count": null,
   "metadata": {
    "execution": {
     "iopub.execute_input": "2021-06-14T15:37:29.202497Z",
     "iopub.status.busy": "2021-06-14T15:37:29.201100Z",
     "iopub.status.idle": "2021-06-14T15:37:29.528754Z",
     "shell.execute_reply": "2021-06-14T15:37:29.528184Z",
     "shell.execute_reply.started": "2021-06-14T15:14:37.369718Z"
    },
    "papermill": {
     "duration": 0.455883,
     "end_time": "2021-06-14T15:37:29.528913",
     "exception": false,
     "start_time": "2021-06-14T15:37:29.073030",
     "status": "completed"
    },
    "tags": []
   },
   "outputs": [],
   "source": [
    "# Выводим категориальные переменные в 0 или 1.\n",
    "X_cat = \\\n",
    "    OneHotEncoder(sparse=False).fit_transform(train[cat_cols].values)"
   ]
  },
  {
   "cell_type": "code",
   "execution_count": null,
   "metadata": {
    "execution": {
     "iopub.execute_input": "2021-06-14T15:37:29.776808Z",
     "iopub.status.busy": "2021-06-14T15:37:29.776073Z",
     "iopub.status.idle": "2021-06-14T15:37:29.783837Z",
     "shell.execute_reply": "2021-06-14T15:37:29.783212Z",
     "shell.execute_reply.started": "2021-06-14T15:14:37.719187Z"
    },
    "papermill": {
     "duration": 0.134527,
     "end_time": "2021-06-14T15:37:29.783991",
     "exception": false,
     "start_time": "2021-06-14T15:37:29.649464",
     "status": "completed"
    },
    "tags": []
   },
   "outputs": [],
   "source": [
    "# Стандартизация числовых переменных:\n",
    "X_num = StandardScaler().fit_transform(train[num_cols].values)"
   ]
  },
  {
   "cell_type": "code",
   "execution_count": null,
   "metadata": {
    "execution": {
     "iopub.execute_input": "2021-06-14T15:37:30.039418Z",
     "iopub.status.busy": "2021-06-14T15:37:30.038747Z",
     "iopub.status.idle": "2021-06-14T15:37:30.084856Z",
     "shell.execute_reply": "2021-06-14T15:37:30.084302Z",
     "shell.execute_reply.started": "2021-06-14T15:14:37.731844Z"
    },
    "papermill": {
     "duration": 0.180195,
     "end_time": "2021-06-14T15:37:30.085027",
     "exception": false,
     "start_time": "2021-06-14T15:37:29.904832",
     "status": "completed"
    },
    "tags": []
   },
   "outputs": [],
   "source": [
    "# Объединим стандартизованные числовые, полиномиальные, бинарные и закодированные категориальные переменные в одно \n",
    "# признаковое пространство,разделив при этом признаки и целевую переменную.\n",
    "X = np.hstack([X_num, train[bin_cols].values, train[poly_cols].values, X_cat])\n",
    "Y = train['default'].values\n",
    "X_train, X_test, y_train, y_test = train_test_split(X, Y, test_size=0.20, random_state=42)"
   ]
  },
  {
   "cell_type": "markdown",
   "metadata": {
    "papermill": {
     "duration": 0.120063,
     "end_time": "2021-06-14T15:37:30.325780",
     "exception": false,
     "start_time": "2021-06-14T15:37:30.205717",
     "status": "completed"
    },
    "tags": []
   },
   "source": [
    "# Первая попытка обучения модели"
   ]
  },
  {
   "cell_type": "code",
   "execution_count": null,
   "metadata": {
    "execution": {
     "iopub.execute_input": "2021-06-14T15:37:30.571313Z",
     "iopub.status.busy": "2021-06-14T15:37:30.570561Z",
     "iopub.status.idle": "2021-06-14T15:37:31.650066Z",
     "shell.execute_reply": "2021-06-14T15:37:31.649167Z",
     "shell.execute_reply.started": "2021-06-14T15:14:37.793682Z"
    },
    "papermill": {
     "duration": 1.204454,
     "end_time": "2021-06-14T15:37:31.650319",
     "exception": false,
     "start_time": "2021-06-14T15:37:30.445865",
     "status": "completed"
    },
    "tags": []
   },
   "outputs": [],
   "source": [
    "model_1 = LogisticRegression(solver = 'liblinear', max_iter = 1000)\n",
    "model_1.fit(X_train, y_train)\n",
    "y_pred = model_1.predict(X_test)\n",
    "# y_proba = model_1.predict_proba(X_test)[:,1]"
   ]
  },
  {
   "cell_type": "code",
   "execution_count": null,
   "metadata": {
    "execution": {
     "iopub.execute_input": "2021-06-14T15:37:31.948973Z",
     "iopub.status.busy": "2021-06-14T15:37:31.947754Z",
     "iopub.status.idle": "2021-06-14T15:37:32.178102Z",
     "shell.execute_reply": "2021-06-14T15:37:32.178769Z",
     "shell.execute_reply.started": "2021-06-14T15:14:38.786749Z"
    },
    "papermill": {
     "duration": 0.360735,
     "end_time": "2021-06-14T15:37:32.178960",
     "exception": false,
     "start_time": "2021-06-14T15:37:31.818225",
     "status": "completed"
    },
    "tags": []
   },
   "outputs": [],
   "source": [
    "# model = LogisticRegression(max_iter=1000)\n",
    "# model.fit(X_train, y_train)\n",
    "\n",
    "probs = model_1.predict_proba(X_test)\n",
    "probs = probs[:,1]\n",
    "\n",
    "\n",
    "fpr, tpr, threshold = roc_curve(y_test, probs)\n",
    "roc_auc = roc_auc_score(y_test, probs)\n",
    "\n",
    "plt.figure()\n",
    "plt.plot([0, 1], label='Baseline', linestyle='--')\n",
    "plt.plot(fpr, tpr, label = 'Regression')\n",
    "plt.title('Logistic Regression ROC AUC = %0.3f' % roc_auc)\n",
    "plt.ylabel('True Positive Rate')\n",
    "plt.xlabel('False Positive Rate')\n",
    "plt.legend(loc = 'lower right')\n",
    "plt.show()"
   ]
  },
  {
   "cell_type": "code",
   "execution_count": null,
   "metadata": {
    "execution": {
     "iopub.execute_input": "2021-06-14T15:37:32.429486Z",
     "iopub.status.busy": "2021-06-14T15:37:32.428827Z",
     "iopub.status.idle": "2021-06-14T15:37:32.451899Z",
     "shell.execute_reply": "2021-06-14T15:37:32.451359Z",
     "shell.execute_reply.started": "2021-06-14T15:14:39.029303Z"
    },
    "papermill": {
     "duration": 0.1511,
     "end_time": "2021-06-14T15:37:32.452072",
     "exception": false,
     "start_time": "2021-06-14T15:37:32.300972",
     "status": "completed"
    },
    "tags": []
   },
   "outputs": [],
   "source": [
    "# Оценка качества:\n",
    "print('accuracy_score: {}'.format(np.round(accuracy_score(y_test, y_pred), 4)))\n",
    "print('f1_score: {}'.format(np.round(f1_score(y_test, y_pred), 4)))\n",
    "print('recall_score: {}'.format(np.round(recall_score(y_test, y_pred), 4)))\n",
    "print('MSE: {}'.format(np.round(mean_squared_error(y_test, y_pred), 4)))"
   ]
  },
  {
   "cell_type": "code",
   "execution_count": null,
   "metadata": {
    "execution": {
     "iopub.execute_input": "2021-06-14T15:37:32.698994Z",
     "iopub.status.busy": "2021-06-14T15:37:32.698346Z",
     "iopub.status.idle": "2021-06-14T15:37:32.724025Z",
     "shell.execute_reply": "2021-06-14T15:37:32.724465Z",
     "shell.execute_reply.started": "2021-06-14T15:14:39.058727Z"
    },
    "papermill": {
     "duration": 0.152111,
     "end_time": "2021-06-14T15:37:32.724694",
     "exception": false,
     "start_time": "2021-06-14T15:37:32.572583",
     "status": "completed"
    },
    "tags": []
   },
   "outputs": [],
   "source": [
    "confusion_matrix(y_test, y_pred)"
   ]
  },
  {
   "cell_type": "code",
   "execution_count": null,
   "metadata": {
    "execution": {
     "iopub.execute_input": "2021-06-14T15:37:32.972714Z",
     "iopub.status.busy": "2021-06-14T15:37:32.972001Z",
     "iopub.status.idle": "2021-06-14T15:37:33.241427Z",
     "shell.execute_reply": "2021-06-14T15:37:33.241929Z",
     "shell.execute_reply.started": "2021-06-14T15:14:39.088998Z"
    },
    "papermill": {
     "duration": 0.394045,
     "end_time": "2021-06-14T15:37:33.242119",
     "exception": false,
     "start_time": "2021-06-14T15:37:32.848074",
     "status": "completed"
    },
    "tags": []
   },
   "outputs": [],
   "source": [
    "# Визуализация confusion matrix:\n",
    "sns.set_context(context='paper', font_scale=2, rc=None)\n",
    "group_names = ['True Neg', 'False Pos', 'False Neg', 'True Pos']\n",
    "group_counts = ['{0:0.0f}'.format(value) for value in\n",
    "                confusion_matrix(y_test, y_pred).flatten()]\n",
    "labels = [f'{v1}\\n{v2}' for v1, v2 in\n",
    "          zip(group_names, group_counts)]\n",
    "labels = np.asarray(labels).reshape(2, 2)\n",
    "sns.heatmap(confusion_matrix(y_test, y_pred), annot=labels, fmt='', cmap='Blues')"
   ]
  },
  {
   "cell_type": "markdown",
   "metadata": {
    "papermill": {
     "duration": 0.121957,
     "end_time": "2021-06-14T15:37:33.488080",
     "exception": false,
     "start_time": "2021-06-14T15:37:33.366123",
     "status": "completed"
    },
    "tags": []
   },
   "source": [
    "Матрица шикарно предсказывает людей, которые обойдутся без дефолта. Но наша-то задача найти и тех, кто дефолт получит, иначе прощайте, деньги банка...\n",
    "Подумаем еще раз.\n"
   ]
  },
  {
   "cell_type": "markdown",
   "metadata": {
    "papermill": {
     "duration": 0.122283,
     "end_time": "2021-06-14T15:37:33.732778",
     "exception": false,
     "start_time": "2021-06-14T15:37:33.610495",
     "status": "completed"
    },
    "tags": []
   },
   "source": [
    "# Вторая попытка. Oversampling"
   ]
  },
  {
   "cell_type": "code",
   "execution_count": null,
   "metadata": {
    "execution": {
     "iopub.execute_input": "2021-06-14T15:37:33.988792Z",
     "iopub.status.busy": "2021-06-14T15:37:33.988120Z",
     "iopub.status.idle": "2021-06-14T15:37:34.121785Z",
     "shell.execute_reply": "2021-06-14T15:37:34.121233Z",
     "shell.execute_reply.started": "2021-06-14T15:14:39.357209Z"
    },
    "papermill": {
     "duration": 0.263879,
     "end_time": "2021-06-14T15:37:34.121938",
     "exception": false,
     "start_time": "2021-06-14T15:37:33.858059",
     "status": "completed"
    },
    "tags": []
   },
   "outputs": [],
   "source": [
    "# Посмотрим на распределение целевого признака 'default':\n",
    "\n",
    "default_data = df['default'].value_counts()\n",
    "default_labels = list(df['default'].value_counts().index)\n",
    "colors = ['#3366FF', '#FF3399']\n",
    "plt.pie(\n",
    "    default_data,\n",
    "    labels=default_labels,\n",
    "    autopct='%1.1f%%',\n",
    "    shadow=True,\n",
    "    colors=colors,\n",
    "    explode=[0, 0.4],\n",
    "    )\n",
    "plt.title('Default')\n",
    "plt.show()"
   ]
  },
  {
   "cell_type": "markdown",
   "metadata": {
    "papermill": {
     "duration": 0.125558,
     "end_time": "2021-06-14T15:37:34.371995",
     "exception": false,
     "start_time": "2021-06-14T15:37:34.246437",
     "status": "completed"
    },
    "tags": []
   },
   "source": [
    "Клиентов без дефолта в банке значительно больше. Есть у нас тут переобучение, надо с ним бороться."
   ]
  },
  {
   "cell_type": "code",
   "execution_count": null,
   "metadata": {
    "execution": {
     "iopub.execute_input": "2021-06-14T15:37:34.631572Z",
     "iopub.status.busy": "2021-06-14T15:37:34.630379Z",
     "iopub.status.idle": "2021-06-14T15:37:34.738781Z",
     "shell.execute_reply": "2021-06-14T15:37:34.738141Z",
     "shell.execute_reply.started": "2021-06-14T15:14:39.478737Z"
    },
    "papermill": {
     "duration": 0.241096,
     "end_time": "2021-06-14T15:37:34.738931",
     "exception": false,
     "start_time": "2021-06-14T15:37:34.497835",
     "status": "completed"
    },
    "tags": []
   },
   "outputs": [],
   "source": [
    "# Попробуем применить oversampling, чтобы сгладить разницу.\n",
    "zeros = train[train['default'] == 0]\n",
    "ones = train[train['default'] == 1]\n",
    "default_new = int(len(zeros) / len(ones))\n",
    "for i in range(default_new):\n",
    "    train1 = train.append(ones).reset_index(drop=True)"
   ]
  },
  {
   "cell_type": "code",
   "execution_count": null,
   "metadata": {
    "execution": {
     "iopub.execute_input": "2021-06-14T15:37:35.004811Z",
     "iopub.status.busy": "2021-06-14T15:37:35.004068Z",
     "iopub.status.idle": "2021-06-14T15:37:35.431192Z",
     "shell.execute_reply": "2021-06-14T15:37:35.430563Z",
     "shell.execute_reply.started": "2021-06-14T15:14:39.617417Z"
    },
    "papermill": {
     "duration": 0.565196,
     "end_time": "2021-06-14T15:37:35.431340",
     "exception": false,
     "start_time": "2021-06-14T15:37:34.866144",
     "status": "completed"
    },
    "tags": []
   },
   "outputs": [],
   "source": [
    "X_cat = OneHotEncoder(sparse = False).fit_transform(train1[cat_cols].values)\n",
    "X_num = StandardScaler().fit_transform(train1[num_cols].values)\n",
    "X = np.hstack([X_num, train1[bin_cols].values, train1[poly_cols].values, X_cat])\n",
    "Y = train1['default'].values"
   ]
  },
  {
   "cell_type": "code",
   "execution_count": null,
   "metadata": {
    "execution": {
     "iopub.execute_input": "2021-06-14T15:37:35.689787Z",
     "iopub.status.busy": "2021-06-14T15:37:35.689031Z",
     "iopub.status.idle": "2021-06-14T15:37:35.711804Z",
     "shell.execute_reply": "2021-06-14T15:37:35.712298Z",
     "shell.execute_reply.started": "2021-06-14T15:14:40.046591Z"
    },
    "papermill": {
     "duration": 0.15548,
     "end_time": "2021-06-14T15:37:35.712484",
     "exception": false,
     "start_time": "2021-06-14T15:37:35.557004",
     "status": "completed"
    },
    "tags": []
   },
   "outputs": [],
   "source": [
    "X_train, X_test, y_train, y_test = train_test_split(X, Y, test_size=0.20, random_state=42)"
   ]
  },
  {
   "cell_type": "code",
   "execution_count": null,
   "metadata": {
    "execution": {
     "iopub.execute_input": "2021-06-14T15:37:35.970492Z",
     "iopub.status.busy": "2021-06-14T15:37:35.969789Z",
     "iopub.status.idle": "2021-06-14T15:37:37.068677Z",
     "shell.execute_reply": "2021-06-14T15:37:37.067975Z",
     "shell.execute_reply.started": "2021-06-14T15:14:40.077518Z"
    },
    "papermill": {
     "duration": 1.23243,
     "end_time": "2021-06-14T15:37:37.068824",
     "exception": false,
     "start_time": "2021-06-14T15:37:35.836394",
     "status": "completed"
    },
    "tags": []
   },
   "outputs": [],
   "source": [
    "model_2 = LogisticRegression(solver = 'liblinear', max_iter = 2000)\n",
    "model_2.fit(X_train, y_train)\n",
    "probs = model_2.predict_proba(X_test)\n",
    "probs = probs[:,1]\n",
    "\n",
    "\n",
    "fpr, tpr, threshold = roc_curve(y_test, probs)\n",
    "roc_auc = roc_auc_score(y_test, probs)\n",
    "\n",
    "plt.figure()\n",
    "plt.plot([0, 1], label='Baseline', linestyle='--')\n",
    "plt.plot(fpr, tpr, label = 'Regression')\n",
    "plt.title('Logistic Regression ROC AUC = %0.3f' % roc_auc)\n",
    "plt.ylabel('True Positive Rate')\n",
    "plt.xlabel('False Positive Rate')\n",
    "plt.legend(loc = 'lower right')\n",
    "plt.show()"
   ]
  },
  {
   "cell_type": "code",
   "execution_count": null,
   "metadata": {
    "execution": {
     "iopub.execute_input": "2021-06-14T15:37:37.334266Z",
     "iopub.status.busy": "2021-06-14T15:37:37.333162Z",
     "iopub.status.idle": "2021-06-14T15:37:37.337203Z",
     "shell.execute_reply": "2021-06-14T15:37:37.338213Z",
     "shell.execute_reply.started": "2021-06-14T15:14:41.062412Z"
    },
    "papermill": {
     "duration": 0.141506,
     "end_time": "2021-06-14T15:37:37.338502",
     "exception": false,
     "start_time": "2021-06-14T15:37:37.196996",
     "status": "completed"
    },
    "tags": []
   },
   "outputs": [],
   "source": [
    "y_pred = model_2.predict(X_test)"
   ]
  },
  {
   "cell_type": "code",
   "execution_count": null,
   "metadata": {
    "execution": {
     "iopub.execute_input": "2021-06-14T15:37:37.646378Z",
     "iopub.status.busy": "2021-06-14T15:37:37.645211Z",
     "iopub.status.idle": "2021-06-14T15:37:37.671119Z",
     "shell.execute_reply": "2021-06-14T15:37:37.670242Z",
     "shell.execute_reply.started": "2021-06-14T15:14:41.077886Z"
    },
    "papermill": {
     "duration": 0.157981,
     "end_time": "2021-06-14T15:37:37.671317",
     "exception": false,
     "start_time": "2021-06-14T15:37:37.513336",
     "status": "completed"
    },
    "tags": []
   },
   "outputs": [],
   "source": [
    "# Оценка качества:\n",
    "print('accuracy_score: {}'.format(np.round(accuracy_score(y_test, y_pred), 4)))\n",
    "print('f1_score: {}'.format(np.round(f1_score(y_test, y_pred), 4)))\n",
    "print('recall_score: {}'.format(np.round(recall_score(y_test, y_pred), 4)))\n",
    "print('MSE: {}'.format(np.round(mean_squared_error(y_test, y_pred), 4)))"
   ]
  },
  {
   "cell_type": "code",
   "execution_count": null,
   "metadata": {
    "execution": {
     "iopub.execute_input": "2021-06-14T15:37:37.928564Z",
     "iopub.status.busy": "2021-06-14T15:37:37.927916Z",
     "iopub.status.idle": "2021-06-14T15:37:37.958245Z",
     "shell.execute_reply": "2021-06-14T15:37:37.957662Z",
     "shell.execute_reply.started": "2021-06-14T15:14:41.124464Z"
    },
    "papermill": {
     "duration": 0.160291,
     "end_time": "2021-06-14T15:37:37.958387",
     "exception": false,
     "start_time": "2021-06-14T15:37:37.798096",
     "status": "completed"
    },
    "tags": []
   },
   "outputs": [],
   "source": [
    "confusion_matrix(y_test, y_pred)"
   ]
  },
  {
   "cell_type": "code",
   "execution_count": null,
   "metadata": {
    "execution": {
     "iopub.execute_input": "2021-06-14T15:37:38.218250Z",
     "iopub.status.busy": "2021-06-14T15:37:38.217478Z",
     "iopub.status.idle": "2021-06-14T15:37:38.490389Z",
     "shell.execute_reply": "2021-06-14T15:37:38.489840Z",
     "shell.execute_reply.started": "2021-06-14T15:14:41.177621Z"
    },
    "papermill": {
     "duration": 0.406187,
     "end_time": "2021-06-14T15:37:38.490532",
     "exception": false,
     "start_time": "2021-06-14T15:37:38.084345",
     "status": "completed"
    },
    "tags": []
   },
   "outputs": [],
   "source": [
    "# Визуализация confusion matrix:\n",
    "sns.set_context(context='paper', font_scale=2, rc=None)\n",
    "group_names = ['True Neg', 'False Pos', 'False Neg', 'True Pos']\n",
    "group_counts = ['{0:0.0f}'.format(value) for value in\n",
    "                confusion_matrix(y_test, y_pred).flatten()]\n",
    "labels = [f'{v1}\\n{v2}' for v1, v2 in\n",
    "          zip(group_names, group_counts)]\n",
    "labels = np.asarray(labels).reshape(2, 2)\n",
    "sns.heatmap(confusion_matrix(y_test, y_pred), annot=labels, fmt='', cmap='Blues')"
   ]
  },
  {
   "cell_type": "markdown",
   "metadata": {
    "papermill": {
     "duration": 0.126715,
     "end_time": "2021-06-14T15:37:38.745906",
     "exception": false,
     "start_time": "2021-06-14T15:37:38.619191",
     "status": "completed"
    },
    "tags": []
   },
   "source": [
    "Лучше. Но ненамного."
   ]
  },
  {
   "cell_type": "markdown",
   "metadata": {
    "papermill": {
     "duration": 0.128518,
     "end_time": "2021-06-14T15:37:39.002869",
     "exception": false,
     "start_time": "2021-06-14T15:37:38.874351",
     "status": "completed"
    },
    "tags": []
   },
   "source": [
    "# Третья попытка. Гиперпараметры"
   ]
  },
  {
   "cell_type": "markdown",
   "metadata": {
    "papermill": {
     "duration": 0.12749,
     "end_time": "2021-06-14T15:37:39.259199",
     "exception": false,
     "start_time": "2021-06-14T15:37:39.131709",
     "status": "completed"
    },
    "tags": []
   },
   "source": [
    "Их я подобрала руками. Мамой клянус, работает лучше, чем без них! (из рабочей переписки)"
   ]
  },
  {
   "cell_type": "code",
   "execution_count": null,
   "metadata": {
    "execution": {
     "iopub.execute_input": "2021-06-14T15:37:39.520504Z",
     "iopub.status.busy": "2021-06-14T15:37:39.519829Z",
     "iopub.status.idle": "2021-06-14T15:37:40.683846Z",
     "shell.execute_reply": "2021-06-14T15:37:40.683190Z",
     "shell.execute_reply.started": "2021-06-14T15:14:41.411047Z"
    },
    "papermill": {
     "duration": 1.297279,
     "end_time": "2021-06-14T15:37:40.684006",
     "exception": false,
     "start_time": "2021-06-14T15:37:39.386727",
     "status": "completed"
    },
    "tags": []
   },
   "outputs": [],
   "source": [
    "model_3 = LogisticRegression(penalty='l2', class_weight='balanced', max_iter=500, solver = 'liblinear', C = 100)\n",
    "model_3.fit(X_train, y_train)"
   ]
  },
  {
   "cell_type": "code",
   "execution_count": null,
   "metadata": {
    "execution": {
     "iopub.execute_input": "2021-06-14T15:37:40.953038Z",
     "iopub.status.busy": "2021-06-14T15:37:40.951734Z",
     "iopub.status.idle": "2021-06-14T15:37:40.959385Z",
     "shell.execute_reply": "2021-06-14T15:37:40.961009Z",
     "shell.execute_reply.started": "2021-06-14T15:14:42.432844Z"
    },
    "papermill": {
     "duration": 0.148404,
     "end_time": "2021-06-14T15:37:40.961312",
     "exception": false,
     "start_time": "2021-06-14T15:37:40.812908",
     "status": "completed"
    },
    "tags": []
   },
   "outputs": [],
   "source": [
    "y_pred = model_3.predict(X_test)"
   ]
  },
  {
   "cell_type": "code",
   "execution_count": null,
   "metadata": {
    "execution": {
     "iopub.execute_input": "2021-06-14T15:37:41.279298Z",
     "iopub.status.busy": "2021-06-14T15:37:41.277451Z",
     "iopub.status.idle": "2021-06-14T15:37:41.505605Z",
     "shell.execute_reply": "2021-06-14T15:37:41.506193Z",
     "shell.execute_reply.started": "2021-06-14T15:14:42.447508Z"
    },
    "papermill": {
     "duration": 0.366094,
     "end_time": "2021-06-14T15:37:41.506370",
     "exception": false,
     "start_time": "2021-06-14T15:37:41.140276",
     "status": "completed"
    },
    "tags": []
   },
   "outputs": [],
   "source": [
    "probs = model_3.predict_proba(X_test)\n",
    "probs = probs[:,1]\n",
    "\n",
    "\n",
    "fpr, tpr, threshold = roc_curve(y_test, probs)\n",
    "roc_auc = roc_auc_score(y_test, probs)\n",
    "\n",
    "plt.figure()\n",
    "plt.plot([0, 1], label='Baseline', linestyle='--')\n",
    "plt.plot(fpr, tpr, label = 'Regression')\n",
    "plt.title('Logistic Regression ROC AUC = %0.3f' % roc_auc)\n",
    "plt.ylabel('True Positive Rate')\n",
    "plt.xlabel('False Positive Rate')\n",
    "plt.legend(loc = 'lower right')\n",
    "plt.show()"
   ]
  },
  {
   "cell_type": "code",
   "execution_count": null,
   "metadata": {
    "execution": {
     "iopub.execute_input": "2021-06-14T15:37:41.770044Z",
     "iopub.status.busy": "2021-06-14T15:37:41.769020Z",
     "iopub.status.idle": "2021-06-14T15:37:41.801986Z",
     "shell.execute_reply": "2021-06-14T15:37:41.802526Z",
     "shell.execute_reply.started": "2021-06-14T15:14:42.684362Z"
    },
    "papermill": {
     "duration": 0.16676,
     "end_time": "2021-06-14T15:37:41.802734",
     "exception": false,
     "start_time": "2021-06-14T15:37:41.635974",
     "status": "completed"
    },
    "tags": []
   },
   "outputs": [],
   "source": [
    "# Оценка качества:\n",
    "print('accuracy_score: {}'.format(np.round(accuracy_score(y_test, y_pred), 4)))\n",
    "print('f1_score: {}'.format(np.round(f1_score(y_test, y_pred), 4)))\n",
    "print('recall_score: {}'.format(np.round(recall_score(y_test, y_pred), 4)))\n",
    "print('MSE: {}'.format(np.round(mean_squared_error(y_test, y_pred), 4)))"
   ]
  },
  {
   "cell_type": "code",
   "execution_count": null,
   "metadata": {
    "execution": {
     "iopub.execute_input": "2021-06-14T15:37:42.076532Z",
     "iopub.status.busy": "2021-06-14T15:37:42.075467Z",
     "iopub.status.idle": "2021-06-14T15:37:42.325641Z",
     "shell.execute_reply": "2021-06-14T15:37:42.324803Z",
     "shell.execute_reply.started": "2021-06-14T15:14:42.718567Z"
    },
    "papermill": {
     "duration": 0.391816,
     "end_time": "2021-06-14T15:37:42.325801",
     "exception": false,
     "start_time": "2021-06-14T15:37:41.933985",
     "status": "completed"
    },
    "tags": []
   },
   "outputs": [],
   "source": [
    "# Визуализация confusion matrix:\n",
    "sns.set_context(context='paper', font_scale=2, rc=None)\n",
    "group_names = ['True Neg', 'False Pos', 'False Neg', 'True Pos']\n",
    "group_counts = ['{0:0.0f}'.format(value) for value in\n",
    "                confusion_matrix(y_test, y_pred).flatten()]\n",
    "labels = [f'{v1}\\n{v2}' for v1, v2 in\n",
    "          zip(group_names, group_counts)]\n",
    "labels = np.asarray(labels).reshape(2, 2)\n",
    "sns.heatmap(confusion_matrix(y_test, y_pred), annot=labels, fmt='', cmap='Blues')"
   ]
  },
  {
   "cell_type": "code",
   "execution_count": null,
   "metadata": {
    "execution": {
     "iopub.execute_input": "2021-06-14T15:37:42.599237Z",
     "iopub.status.busy": "2021-06-14T15:37:42.598195Z",
     "iopub.status.idle": "2021-06-14T15:37:42.771785Z",
     "shell.execute_reply": "2021-06-14T15:37:42.772882Z",
     "shell.execute_reply.started": "2021-06-14T15:14:42.973962Z"
    },
    "papermill": {
     "duration": 0.314315,
     "end_time": "2021-06-14T15:37:42.773184",
     "exception": false,
     "start_time": "2021-06-14T15:37:42.458869",
     "status": "completed"
    },
    "tags": []
   },
   "outputs": [],
   "source": [
    "X_cat_test = OneHotEncoder(sparse = False).fit_transform(test[cat_cols].values)\n",
    "X_num_test = StandardScaler().fit_transform(test[num_cols].values)\n",
    "# X_test2 = np.hstack([X_num_test, test[bin_cols].values, X_cat_test])\n",
    "X_test2 = np.hstack([X_num_test, test[bin_cols].values, test[poly_cols].values, X_cat_test])\n",
    "y_probs = model_3.predict_proba(X_test2)[:,1]"
   ]
  },
  {
   "cell_type": "code",
   "execution_count": null,
   "metadata": {
    "execution": {
     "iopub.execute_input": "2021-06-14T15:37:43.088914Z",
     "iopub.status.busy": "2021-06-14T15:37:43.088217Z",
     "iopub.status.idle": "2021-06-14T15:37:43.097199Z",
     "shell.execute_reply": "2021-06-14T15:37:43.098177Z",
     "shell.execute_reply.started": "2021-06-14T15:14:43.146786Z"
    },
    "papermill": {
     "duration": 0.145712,
     "end_time": "2021-06-14T15:37:43.098482",
     "exception": false,
     "start_time": "2021-06-14T15:37:42.952770",
     "status": "completed"
    },
    "tags": []
   },
   "outputs": [],
   "source": [
    "y_probs = model_3.predict_proba(X_test2)[:,1]"
   ]
  },
  {
   "cell_type": "markdown",
   "metadata": {
    "papermill": {
     "duration": 0.130255,
     "end_time": "2021-06-14T15:37:43.407232",
     "exception": false,
     "start_time": "2021-06-14T15:37:43.276977",
     "status": "completed"
    },
    "tags": []
   },
   "source": [
    "# Применяем полученный результат на тестовых данных"
   ]
  },
  {
   "cell_type": "code",
   "execution_count": null,
   "metadata": {
    "execution": {
     "iopub.execute_input": "2021-06-14T15:37:43.671669Z",
     "iopub.status.busy": "2021-06-14T15:37:43.670957Z",
     "iopub.status.idle": "2021-06-14T15:37:43.672790Z",
     "shell.execute_reply": "2021-06-14T15:37:43.673319Z",
     "shell.execute_reply.started": "2021-06-14T15:14:43.165694Z"
    },
    "papermill": {
     "duration": 0.136599,
     "end_time": "2021-06-14T15:37:43.673492",
     "exception": false,
     "start_time": "2021-06-14T15:37:43.536893",
     "status": "completed"
    },
    "tags": []
   },
   "outputs": [],
   "source": [
    "test['default'] = y_probs"
   ]
  },
  {
   "cell_type": "code",
   "execution_count": null,
   "metadata": {
    "execution": {
     "iopub.execute_input": "2021-06-14T15:37:43.937350Z",
     "iopub.status.busy": "2021-06-14T15:37:43.936687Z",
     "iopub.status.idle": "2021-06-14T15:37:43.951520Z",
     "shell.execute_reply": "2021-06-14T15:37:43.951980Z",
     "shell.execute_reply.started": "2021-06-14T15:14:43.173322Z"
    },
    "papermill": {
     "duration": 0.149499,
     "end_time": "2021-06-14T15:37:43.952155",
     "exception": false,
     "start_time": "2021-06-14T15:37:43.802656",
     "status": "completed"
    },
    "tags": []
   },
   "outputs": [],
   "source": [
    "submission = test[['client_id','default']]\n",
    "display(submission.sample(10))\n",
    "display(submission.shape)"
   ]
  },
  {
   "cell_type": "code",
   "execution_count": null,
   "metadata": {
    "execution": {
     "iopub.execute_input": "2021-06-14T15:37:44.220814Z",
     "iopub.status.busy": "2021-06-14T15:37:44.220138Z",
     "iopub.status.idle": "2021-06-14T15:37:44.354134Z",
     "shell.execute_reply": "2021-06-14T15:37:44.353537Z",
     "shell.execute_reply.started": "2021-06-14T15:14:43.200264Z"
    },
    "papermill": {
     "duration": 0.270912,
     "end_time": "2021-06-14T15:37:44.354301",
     "exception": false,
     "start_time": "2021-06-14T15:37:44.083389",
     "status": "completed"
    },
    "tags": []
   },
   "outputs": [],
   "source": [
    "submission.to_csv('submission.csv', index=False)"
   ]
  },
  {
   "cell_type": "markdown",
   "metadata": {
    "papermill": {
     "duration": 0.130549,
     "end_time": "2021-06-14T15:37:44.615775",
     "exception": false,
     "start_time": "2021-06-14T15:37:44.485226",
     "status": "completed"
    },
    "tags": []
   },
   "source": [
    "Поскольку я решила немного поиграть с моделями, то для соревнования оставляю версию 38 (сравнивала - ничем от этой не отличается, но у этой на одну сотую меньше результат). Но времени хватило только на RandomForest - он показал отличные результаты на тренировочных данных, но на тестовых провалился. Попозже (после сдачи проекта) попробую его докрутить (интересно же!)"
   ]
  },
  {
   "cell_type": "code",
   "execution_count": null,
   "metadata": {
    "execution": {
     "iopub.execute_input": "2021-06-14T15:37:44.882904Z",
     "iopub.status.busy": "2021-06-14T15:37:44.882203Z",
     "iopub.status.idle": "2021-06-14T15:37:59.607144Z",
     "shell.execute_reply": "2021-06-14T15:37:59.606580Z",
     "shell.execute_reply.started": "2021-06-14T15:14:43.371613Z"
    },
    "papermill": {
     "duration": 14.859687,
     "end_time": "2021-06-14T15:37:59.607297",
     "exception": false,
     "start_time": "2021-06-14T15:37:44.747610",
     "status": "completed"
    },
    "tags": []
   },
   "outputs": [],
   "source": [
    "from sklearn.ensemble import RandomForestClassifier\n",
    "\n",
    "model_4 = RandomForestClassifier()\n",
    "model_4.fit(X_train, y_train)\n",
    "\n",
    "y_pred_rf = model_4.predict(X_test)\n",
    "cf_matrix = confusion_matrix(y_test,y_pred_rf)"
   ]
  },
  {
   "cell_type": "code",
   "execution_count": null,
   "metadata": {
    "execution": {
     "iopub.execute_input": "2021-06-14T15:37:59.877337Z",
     "iopub.status.busy": "2021-06-14T15:37:59.876674Z",
     "iopub.status.idle": "2021-06-14T15:38:00.554586Z",
     "shell.execute_reply": "2021-06-14T15:38:00.554054Z",
     "shell.execute_reply.started": "2021-06-14T15:14:57.339519Z"
    },
    "papermill": {
     "duration": 0.816126,
     "end_time": "2021-06-14T15:38:00.554756",
     "exception": false,
     "start_time": "2021-06-14T15:37:59.738630",
     "status": "completed"
    },
    "tags": []
   },
   "outputs": [],
   "source": [
    "probs = model_4.predict_proba(X_test)\n",
    "probs = probs[:,1]\n",
    "\n",
    "\n",
    "fpr, tpr, threshold = roc_curve(y_test, probs)\n",
    "roc_auc = roc_auc_score(y_test, probs)\n",
    "\n",
    "plt.figure()\n",
    "plt.plot([0, 1], label='Baseline', linestyle='--')\n",
    "plt.plot(fpr, tpr, label = 'Regression')\n",
    "plt.title('Logistic Regression ROC AUC = %0.3f' % roc_auc)\n",
    "plt.ylabel('True Positive Rate')\n",
    "plt.xlabel('False Positive Rate')\n",
    "plt.legend(loc = 'lower right')\n",
    "plt.show()"
   ]
  },
  {
   "cell_type": "code",
   "execution_count": null,
   "metadata": {
    "execution": {
     "iopub.execute_input": "2021-06-14T15:38:00.831086Z",
     "iopub.status.busy": "2021-06-14T15:38:00.830327Z",
     "iopub.status.idle": "2021-06-14T15:38:01.060712Z",
     "shell.execute_reply": "2021-06-14T15:38:01.060181Z",
     "shell.execute_reply.started": "2021-06-14T15:14:57.987055Z"
    },
    "papermill": {
     "duration": 0.371201,
     "end_time": "2021-06-14T15:38:01.060867",
     "exception": false,
     "start_time": "2021-06-14T15:38:00.689666",
     "status": "completed"
    },
    "tags": []
   },
   "outputs": [],
   "source": [
    "# Визуализация confusion matrix:\n",
    "sns.set_context(context='paper', font_scale=2, rc=None)\n",
    "group_names = ['True Neg', 'False Pos', 'False Neg', 'True Pos']\n",
    "group_counts = ['{0:0.0f}'.format(value) for value in\n",
    "                confusion_matrix(y_test, y_pred_rf).flatten()]\n",
    "labels = [f'{v1}\\n{v2}' for v1, v2 in\n",
    "          zip(group_names, group_counts)]\n",
    "labels = np.asarray(labels).reshape(2, 2)\n",
    "sns.heatmap(confusion_matrix(y_test, y_pred_rf), annot=labels, fmt='', cmap='Blues')"
   ]
  },
  {
   "cell_type": "markdown",
   "metadata": {
    "papermill": {
     "duration": 0.133182,
     "end_time": "2021-06-14T15:38:01.329219",
     "exception": false,
     "start_time": "2021-06-14T15:38:01.196037",
     "status": "completed"
    },
    "tags": []
   },
   "source": [
    "Отличные результаты. Но только на тренировочном."
   ]
  },
  {
   "cell_type": "code",
   "execution_count": null,
   "metadata": {
    "papermill": {
     "duration": 0.132535,
     "end_time": "2021-06-14T15:38:01.594457",
     "exception": false,
     "start_time": "2021-06-14T15:38:01.461922",
     "status": "completed"
    },
    "tags": []
   },
   "outputs": [],
   "source": []
  }
 ],
 "metadata": {
  "kernelspec": {
   "display_name": "Python 3",
   "language": "python",
   "name": "python3"
  },
  "language_info": {
   "codemirror_mode": {
    "name": "ipython",
    "version": 3
   },
   "file_extension": ".py",
   "mimetype": "text/x-python",
   "name": "python",
   "nbconvert_exporter": "python",
   "pygments_lexer": "ipython3",
   "version": "3.8.5"
  },
  "papermill": {
   "default_parameters": {},
   "duration": 71.014856,
   "end_time": "2021-06-14T15:38:02.841075",
   "environment_variables": {},
   "exception": null,
   "input_path": "__notebook__.ipynb",
   "output_path": "__notebook__.ipynb",
   "parameters": {},
   "start_time": "2021-06-14T15:36:51.826219",
   "version": "2.3.3"
  }
 },
 "nbformat": 4,
 "nbformat_minor": 5
}
