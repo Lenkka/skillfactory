{
 "cells": [
  {
   "cell_type": "code",
   "execution_count": 33,
   "metadata": {},
   "outputs": [],
   "source": [
    "import pandas as pd\n",
    "import re\n",
    "import datetime\n",
    "from datetime import datetime, timedelta\n",
    "import matplotlib.pyplot as plt\n",
    "import seaborn as sns\n",
    "from itertools import combinations\n",
    "from scipy.stats import ttest_ind\n",
    "import numpy as np\n"
   ]
  },
  {
   "cell_type": "code",
   "execution_count": 34,
   "metadata": {},
   "outputs": [
    {
     "name": "stdout",
     "output_type": "stream",
     "text": [
      "<class 'pandas.core.frame.DataFrame'>\n",
      "RangeIndex: 127 entries, 0 to 126\n",
      "Data columns (total 8 columns):\n",
      " #   Column             Non-Null Count  Dtype  \n",
      "---  ------             --------------  -----  \n",
      " 0   flight_id          127 non-null    int64  \n",
      " 1   departure_airport  127 non-null    object \n",
      " 2   arrival_airport    127 non-null    object \n",
      " 3   actual_departure   127 non-null    object \n",
      " 4   delay              127 non-null    float64\n",
      " 5   profit             118 non-null    float64\n",
      " 6   economy_percent    127 non-null    int64  \n",
      " 7   business_percent   127 non-null    int64  \n",
      "dtypes: float64(2), int64(3), object(3)\n",
      "memory usage: 8.1+ KB\n"
     ]
    }
   ],
   "source": [
    "pd.set_option('display.max_rows', 50)  # показывать больше строк\n",
    "pd.set_option('display.max_columns', 50)  # показывать больше колонок\n",
    "\n",
    "flight1 = pd.read_csv('eda_flights9.csv')\n",
    "flight = flight1.copy()\n",
    "flight.info()"
   ]
  },
  {
   "cell_type": "code",
   "execution_count": 35,
   "metadata": {},
   "outputs": [],
   "source": [
    "# функция для построения боксплотов по отношению к profit\n",
    "\n",
    "def get_boxplot(column):\n",
    "    fig, ax = plt.subplots(figsize=(14, 4))\n",
    "    sns.boxplot(x=column, y='profit',\n",
    "                data=flight.loc[flight.loc[:, column].isin(\n",
    "                    flight.loc[:, column].value_counts().index[:10])],\n",
    "                ax=ax)\n",
    "    plt.xticks(rotation=45)\n",
    "    ax.set_title('Boxplot for ' + column)\n",
    "    plt.show()"
   ]
  },
  {
   "cell_type": "markdown",
   "metadata": {},
   "source": [
    "# Общий анализ данных"
   ]
  },
  {
   "cell_type": "code",
   "execution_count": 36,
   "metadata": {},
   "outputs": [
    {
     "data": {
      "text/html": [
       "<div>\n",
       "<style scoped>\n",
       "    .dataframe tbody tr th:only-of-type {\n",
       "        vertical-align: middle;\n",
       "    }\n",
       "\n",
       "    .dataframe tbody tr th {\n",
       "        vertical-align: top;\n",
       "    }\n",
       "\n",
       "    .dataframe thead th {\n",
       "        text-align: right;\n",
       "    }\n",
       "</style>\n",
       "<table border=\"1\" class=\"dataframe\">\n",
       "  <thead>\n",
       "    <tr style=\"text-align: right;\">\n",
       "      <th></th>\n",
       "      <th>flight_id</th>\n",
       "      <th>departure_airport</th>\n",
       "      <th>arrival_airport</th>\n",
       "      <th>actual_departure</th>\n",
       "      <th>delay</th>\n",
       "      <th>profit</th>\n",
       "      <th>economy_percent</th>\n",
       "      <th>business_percent</th>\n",
       "    </tr>\n",
       "  </thead>\n",
       "  <tbody>\n",
       "    <tr>\n",
       "      <th>0</th>\n",
       "      <td>136119</td>\n",
       "      <td>AAQ</td>\n",
       "      <td>SVO</td>\n",
       "      <td>2017-01-03T10:08:00Z</td>\n",
       "      <td>3.0</td>\n",
       "      <td>1.446855e+06</td>\n",
       "      <td>86</td>\n",
       "      <td>91</td>\n",
       "    </tr>\n",
       "    <tr>\n",
       "      <th>1</th>\n",
       "      <td>136120</td>\n",
       "      <td>AAQ</td>\n",
       "      <td>SVO</td>\n",
       "      <td>2017-02-24T10:07:00Z</td>\n",
       "      <td>2.0</td>\n",
       "      <td>1.403337e+06</td>\n",
       "      <td>83</td>\n",
       "      <td>91</td>\n",
       "    </tr>\n",
       "    <tr>\n",
       "      <th>2</th>\n",
       "      <td>136122</td>\n",
       "      <td>AAQ</td>\n",
       "      <td>SVO</td>\n",
       "      <td>2017-01-08T10:08:00Z</td>\n",
       "      <td>3.0</td>\n",
       "      <td>1.226896e+06</td>\n",
       "      <td>73</td>\n",
       "      <td>83</td>\n",
       "    </tr>\n",
       "    <tr>\n",
       "      <th>3</th>\n",
       "      <td>136130</td>\n",
       "      <td>AAQ</td>\n",
       "      <td>SVO</td>\n",
       "      <td>2017-02-13T10:07:00Z</td>\n",
       "      <td>2.0</td>\n",
       "      <td>1.354537e+06</td>\n",
       "      <td>82</td>\n",
       "      <td>83</td>\n",
       "    </tr>\n",
       "    <tr>\n",
       "      <th>4</th>\n",
       "      <td>136131</td>\n",
       "      <td>AAQ</td>\n",
       "      <td>SVO</td>\n",
       "      <td>2017-01-28T10:07:00Z</td>\n",
       "      <td>2.0</td>\n",
       "      <td>1.610737e+06</td>\n",
       "      <td>94</td>\n",
       "      <td>100</td>\n",
       "    </tr>\n",
       "  </tbody>\n",
       "</table>\n",
       "</div>"
      ],
      "text/plain": [
       "   flight_id departure_airport arrival_airport      actual_departure  delay  \\\n",
       "0     136119               AAQ             SVO  2017-01-03T10:08:00Z    3.0   \n",
       "1     136120               AAQ             SVO  2017-02-24T10:07:00Z    2.0   \n",
       "2     136122               AAQ             SVO  2017-01-08T10:08:00Z    3.0   \n",
       "3     136130               AAQ             SVO  2017-02-13T10:07:00Z    2.0   \n",
       "4     136131               AAQ             SVO  2017-01-28T10:07:00Z    2.0   \n",
       "\n",
       "         profit  economy_percent  business_percent  \n",
       "0  1.446855e+06               86                91  \n",
       "1  1.403337e+06               83                91  \n",
       "2  1.226896e+06               73                83  \n",
       "3  1.354537e+06               82                83  \n",
       "4  1.610737e+06               94               100  "
      ]
     },
     "execution_count": 36,
     "metadata": {},
     "output_type": "execute_result"
    }
   ],
   "source": [
    "flight.head()"
   ]
  },
  {
   "cell_type": "markdown",
   "metadata": {},
   "source": [
    "Выведем строки с пустыми значениями в столбце profit и посмотрим, чем они отличаются от остальных."
   ]
  },
  {
   "cell_type": "code",
   "execution_count": 37,
   "metadata": {},
   "outputs": [
    {
     "data": {
      "text/html": [
       "<div>\n",
       "<style scoped>\n",
       "    .dataframe tbody tr th:only-of-type {\n",
       "        vertical-align: middle;\n",
       "    }\n",
       "\n",
       "    .dataframe tbody tr th {\n",
       "        vertical-align: top;\n",
       "    }\n",
       "\n",
       "    .dataframe thead th {\n",
       "        text-align: right;\n",
       "    }\n",
       "</style>\n",
       "<table border=\"1\" class=\"dataframe\">\n",
       "  <thead>\n",
       "    <tr style=\"text-align: right;\">\n",
       "      <th></th>\n",
       "      <th>flight_id</th>\n",
       "      <th>departure_airport</th>\n",
       "      <th>arrival_airport</th>\n",
       "      <th>actual_departure</th>\n",
       "      <th>delay</th>\n",
       "      <th>profit</th>\n",
       "      <th>economy_percent</th>\n",
       "      <th>business_percent</th>\n",
       "    </tr>\n",
       "  </thead>\n",
       "  <tbody>\n",
       "    <tr>\n",
       "      <th>59</th>\n",
       "      <td>136511</td>\n",
       "      <td>AAQ</td>\n",
       "      <td>NOZ</td>\n",
       "      <td>2017-02-21T06:15:00Z</td>\n",
       "      <td>5.0</td>\n",
       "      <td>NaN</td>\n",
       "      <td>0</td>\n",
       "      <td>0</td>\n",
       "    </tr>\n",
       "    <tr>\n",
       "      <th>60</th>\n",
       "      <td>136513</td>\n",
       "      <td>AAQ</td>\n",
       "      <td>NOZ</td>\n",
       "      <td>2017-02-28T06:13:00Z</td>\n",
       "      <td>3.0</td>\n",
       "      <td>NaN</td>\n",
       "      <td>0</td>\n",
       "      <td>0</td>\n",
       "    </tr>\n",
       "    <tr>\n",
       "      <th>61</th>\n",
       "      <td>136514</td>\n",
       "      <td>AAQ</td>\n",
       "      <td>NOZ</td>\n",
       "      <td>2017-02-07T06:14:00Z</td>\n",
       "      <td>4.0</td>\n",
       "      <td>NaN</td>\n",
       "      <td>0</td>\n",
       "      <td>0</td>\n",
       "    </tr>\n",
       "    <tr>\n",
       "      <th>62</th>\n",
       "      <td>136523</td>\n",
       "      <td>AAQ</td>\n",
       "      <td>NOZ</td>\n",
       "      <td>2017-01-10T06:14:00Z</td>\n",
       "      <td>4.0</td>\n",
       "      <td>NaN</td>\n",
       "      <td>0</td>\n",
       "      <td>0</td>\n",
       "    </tr>\n",
       "    <tr>\n",
       "      <th>63</th>\n",
       "      <td>136540</td>\n",
       "      <td>AAQ</td>\n",
       "      <td>NOZ</td>\n",
       "      <td>2017-01-17T06:14:00Z</td>\n",
       "      <td>4.0</td>\n",
       "      <td>NaN</td>\n",
       "      <td>0</td>\n",
       "      <td>0</td>\n",
       "    </tr>\n",
       "    <tr>\n",
       "      <th>64</th>\n",
       "      <td>136544</td>\n",
       "      <td>AAQ</td>\n",
       "      <td>NOZ</td>\n",
       "      <td>2017-01-31T06:10:00Z</td>\n",
       "      <td>0.0</td>\n",
       "      <td>NaN</td>\n",
       "      <td>0</td>\n",
       "      <td>0</td>\n",
       "    </tr>\n",
       "    <tr>\n",
       "      <th>65</th>\n",
       "      <td>136546</td>\n",
       "      <td>AAQ</td>\n",
       "      <td>NOZ</td>\n",
       "      <td>2017-01-03T06:13:00Z</td>\n",
       "      <td>3.0</td>\n",
       "      <td>NaN</td>\n",
       "      <td>0</td>\n",
       "      <td>0</td>\n",
       "    </tr>\n",
       "    <tr>\n",
       "      <th>66</th>\n",
       "      <td>136560</td>\n",
       "      <td>AAQ</td>\n",
       "      <td>NOZ</td>\n",
       "      <td>2017-01-24T06:13:00Z</td>\n",
       "      <td>3.0</td>\n",
       "      <td>NaN</td>\n",
       "      <td>0</td>\n",
       "      <td>0</td>\n",
       "    </tr>\n",
       "    <tr>\n",
       "      <th>67</th>\n",
       "      <td>136567</td>\n",
       "      <td>AAQ</td>\n",
       "      <td>NOZ</td>\n",
       "      <td>2017-02-14T06:12:00Z</td>\n",
       "      <td>2.0</td>\n",
       "      <td>NaN</td>\n",
       "      <td>0</td>\n",
       "      <td>0</td>\n",
       "    </tr>\n",
       "  </tbody>\n",
       "</table>\n",
       "</div>"
      ],
      "text/plain": [
       "    flight_id departure_airport arrival_airport      actual_departure  delay  \\\n",
       "59     136511               AAQ             NOZ  2017-02-21T06:15:00Z    5.0   \n",
       "60     136513               AAQ             NOZ  2017-02-28T06:13:00Z    3.0   \n",
       "61     136514               AAQ             NOZ  2017-02-07T06:14:00Z    4.0   \n",
       "62     136523               AAQ             NOZ  2017-01-10T06:14:00Z    4.0   \n",
       "63     136540               AAQ             NOZ  2017-01-17T06:14:00Z    4.0   \n",
       "64     136544               AAQ             NOZ  2017-01-31T06:10:00Z    0.0   \n",
       "65     136546               AAQ             NOZ  2017-01-03T06:13:00Z    3.0   \n",
       "66     136560               AAQ             NOZ  2017-01-24T06:13:00Z    3.0   \n",
       "67     136567               AAQ             NOZ  2017-02-14T06:12:00Z    2.0   \n",
       "\n",
       "    profit  economy_percent  business_percent  \n",
       "59     NaN                0                 0  \n",
       "60     NaN                0                 0  \n",
       "61     NaN                0                 0  \n",
       "62     NaN                0                 0  \n",
       "63     NaN                0                 0  \n",
       "64     NaN                0                 0  \n",
       "65     NaN                0                 0  \n",
       "66     NaN                0                 0  \n",
       "67     NaN                0                 0  "
      ]
     },
     "execution_count": 37,
     "metadata": {},
     "output_type": "execute_result"
    }
   ],
   "source": [
    "flight[pd.isnull(flight.profit)]"
   ]
  },
  {
   "cell_type": "markdown",
   "metadata": {},
   "source": [
    "Как мы видим, пропуски в столбце profit соответствуют пропускам в столбце tf_amount, где мы считаем стоимость всех проданных билетов. В остальном данные по этим рейсам удивительно похожи: пункт назначения, тип воздушного судна и приблизительно - время полета. Кажется, мы нашли регулярно повторяющийся пустой рейс. Сохраним эти строки в отдельный датасет, а из основного датасета их удалим."
   ]
  },
  {
   "cell_type": "code",
   "execution_count": 38,
   "metadata": {},
   "outputs": [],
   "source": [
    "without_passenger = flight[pd.isnull(flight.profit)]\n",
    "\n",
    "flight = flight.dropna(subset=['profit'], axis=0)\n",
    "flight.reset_index(drop=True, inplace=True)"
   ]
  },
  {
   "cell_type": "markdown",
   "metadata": {},
   "source": [
    "Логика у меня следующая: поскольку рейс регулярный и все про него знают, значит, он в расписании зачем-то нужен. Поэтому не надо предлагать снять этот рейс и не надо заполнять пустые значения медианами или средними. Надо просто исключить эти рейсы из рассмотрения. Посмотрим, остались ли у нас рейсы в Новокузнецк?"
   ]
  },
  {
   "cell_type": "code",
   "execution_count": 39,
   "metadata": {},
   "outputs": [
    {
     "data": {
      "text/html": [
       "<div>\n",
       "<style scoped>\n",
       "    .dataframe tbody tr th:only-of-type {\n",
       "        vertical-align: middle;\n",
       "    }\n",
       "\n",
       "    .dataframe tbody tr th {\n",
       "        vertical-align: top;\n",
       "    }\n",
       "\n",
       "    .dataframe thead th {\n",
       "        text-align: right;\n",
       "    }\n",
       "</style>\n",
       "<table border=\"1\" class=\"dataframe\">\n",
       "  <thead>\n",
       "    <tr style=\"text-align: right;\">\n",
       "      <th></th>\n",
       "      <th>flight_id</th>\n",
       "      <th>departure_airport</th>\n",
       "      <th>arrival_airport</th>\n",
       "      <th>actual_departure</th>\n",
       "      <th>delay</th>\n",
       "      <th>profit</th>\n",
       "      <th>economy_percent</th>\n",
       "      <th>business_percent</th>\n",
       "    </tr>\n",
       "  </thead>\n",
       "  <tbody>\n",
       "  </tbody>\n",
       "</table>\n",
       "</div>"
      ],
      "text/plain": [
       "Empty DataFrame\n",
       "Columns: [flight_id, departure_airport, arrival_airport, actual_departure, delay, profit, economy_percent, business_percent]\n",
       "Index: []"
      ]
     },
     "execution_count": 39,
     "metadata": {},
     "output_type": "execute_result"
    }
   ],
   "source": [
    "flight[flight.arrival_airport.str.match(\"NOZ\", na=False)]"
   ]
  },
  {
   "cell_type": "markdown",
   "metadata": {},
   "source": [
    "Новокузнецк из рассмотрения выпал.\n",
    "\n",
    "Со строками все понятно, посмотрим на колонки. "
   ]
  },
  {
   "cell_type": "code",
   "execution_count": 40,
   "metadata": {},
   "outputs": [
    {
     "data": {
      "text/plain": [
       "Index(['flight_id', 'departure_airport', 'arrival_airport', 'actual_departure',\n",
       "       'delay', 'profit', 'economy_percent', 'business_percent'],\n",
       "      dtype='object')"
      ]
     },
     "execution_count": 40,
     "metadata": {},
     "output_type": "execute_result"
    }
   ],
   "source": [
    "flight.columns"
   ]
  },
  {
   "cell_type": "markdown",
   "metadata": {},
   "source": [
    "Не хватает признаков, которые могут быть полезны потом. Добавим колонку с зашифрованными днями недели (0 - понедельник, 6 - воскресенье) и колонки с месяцем и с часом отбытия."
   ]
  },
  {
   "cell_type": "code",
   "execution_count": 41,
   "metadata": {},
   "outputs": [],
   "source": [
    "flight.actual_departure = pd.to_datetime(flight['actual_departure'])\n",
    "flight['departure_day_of_week'] = flight['actual_departure'].dt.dayofweek\n",
    "flight['departure_time'] = flight['actual_departure'].dt.hour\n",
    "flight['departure_month'] = flight['actual_departure'].dt.month"
   ]
  },
  {
   "cell_type": "code",
   "execution_count": 42,
   "metadata": {},
   "outputs": [],
   "source": [
    "flight['profit'] = round(flight['profit'])"
   ]
  },
  {
   "cell_type": "code",
   "execution_count": 43,
   "metadata": {},
   "outputs": [
    {
     "data": {
      "text/plain": [
       "count    1.180000e+02\n",
       "mean     1.041207e+06\n",
       "std      4.126718e+05\n",
       "min      4.642740e+05\n",
       "25%      6.796740e+05\n",
       "50%      9.469020e+05\n",
       "75%      1.423787e+06\n",
       "max      1.681896e+06\n",
       "Name: profit, dtype: float64"
      ]
     },
     "execution_count": 43,
     "metadata": {},
     "output_type": "execute_result"
    },
    {
     "data": {
      "image/png": "[encoded data removed]",
      "text/plain": [
       "<Figure size 432x288 with 1 Axes>"
      ]
     },
     "metadata": {
      "needs_background": "light"
     },
     "output_type": "display_data"
    }
   ],
   "source": [
    "flight.profit.hist(bins=15)\n",
    "flight.profit.describe()"
   ]
  },
  {
   "cell_type": "markdown",
   "metadata": {},
   "source": [
    "Позднее мы проверим гипотезу, что это прибыль, сгруппированная по двум аэропортам."
   ]
  },
  {
   "cell_type": "code",
   "execution_count": 44,
   "metadata": {},
   "outputs": [],
   "source": [
    "flight_num_cols = ['delay', 'profit', 'economy_percent', 'business_percent']"
   ]
  },
  {
   "cell_type": "code",
   "execution_count": 45,
   "metadata": {},
   "outputs": [
    {
     "data": {
      "image/png": "[encoded data removed]",
      "text/plain": [
       "<Figure size 720x720 with 2 Axes>"
      ]
     },
     "metadata": {
      "needs_background": "light"
     },
     "output_type": "display_data"
    }
   ],
   "source": [
    "sns.heatmap(flight[flight_num_cols].corr(), annot=True)\n",
    "fig = plt.gcf()\n",
    "fig.set_size_inches(10, 10)"
   ]
  },
  {
   "cell_type": "markdown",
   "metadata": {},
   "source": [
    "По этой визуализации мы видим, что все колонки слабо коррелируют друг с другом и могут быть использованы в анализе. "
   ]
  },
  {
   "cell_type": "code",
   "execution_count": 46,
   "metadata": {},
   "outputs": [
    {
     "data": {
      "image/png": "[encoded data removed]",
      "text/plain": [
       "<Figure size 1008x288 with 1 Axes>"
      ]
     },
     "metadata": {
      "needs_background": "light"
     },
     "output_type": "display_data"
    },
    {
     "data": {
      "image/png": "[encoded data removed]",
      "text/plain": [
       "<Figure size 1008x288 with 1 Axes>"
      ]
     },
     "metadata": {
      "needs_background": "light"
     },
     "output_type": "display_data"
    },
    {
     "data": {
      "image/png": "[encoded data removed]",
      "text/plain": [
       "<Figure size 1008x288 with 1 Axes>"
      ]
     },
     "metadata": {
      "needs_background": "light"
     },
     "output_type": "display_data"
    },
    {
     "data": {
      "image/png": "[encoded data removed]",
      "text/plain": [
       "<Figure size 1008x288 with 1 Axes>"
      ]
     },
     "metadata": {
      "needs_background": "light"
     },
     "output_type": "display_data"
    },
    {
     "data": {
      "image/png": "[encoded data removed]",
      "text/plain": [
       "<Figure size 1008x288 with 1 Axes>"
      ]
     },
     "metadata": {
      "needs_background": "light"
     },
     "output_type": "display_data"
    },
    {
     "data": {
      "image/png": "[encoded data removed]",
      "text/plain": [
       "<Figure size 1008x288 with 1 Axes>"
      ]
     },
     "metadata": {
      "needs_background": "light"
     },
     "output_type": "display_data"
    },
    {
     "data": {
      "image/png": "[encoded data removed]",
      "text/plain": [
       "<Figure size 1008x288 with 1 Axes>"
      ]
     },
     "metadata": {
      "needs_background": "light"
     },
     "output_type": "display_data"
    }
   ],
   "source": [
    "for col in ['arrival_airport', 'delay', 'economy_percent', 'business_percent', 'departure_day_of_week', 'departure_time', 'departure_month']:\n",
    "    get_boxplot(col)"
   ]
  },
  {
   "cell_type": "markdown",
   "metadata": {},
   "source": [
    "Что мы видим:\n",
    "\n",
    "1. Рейсы в Белгород существенно менее прибыльные, чем в Москву, однако закрыть целое направление - это задача более глубокого исследования. Попробуем в дальнейшем сгруппировать рейсы по направлениям и посмотреть на каждое отдельно.\n",
    "2. Среди опозданий есть аномальное значение - надо его проверить дополнительно.\n",
    "3. Чаще всего рейсы задерживаются на 2-3 минуты. А прилетают чаще всего на те же 2-3 минуты позже. Мы подтвердили, что задержка и опоздание связаны, и их можно исключить из рассмотрения на первом этапе.\n",
    "4. Надо внимательнее изучить связь между прибыльностью рейсов и днями недели, по которым они летают.\n",
    "4. У нас есть два штатных времени отбытия: скорее всего, это время регулярного отбытия из обоих аэропортов."
   ]
  },
  {
   "cell_type": "markdown",
   "metadata": {},
   "source": [
    "# Исследование по направлениям"
   ]
  },
  {
   "cell_type": "code",
   "execution_count": 47,
   "metadata": {},
   "outputs": [
    {
     "data": {
      "text/plain": [
       "<AxesSubplot:xlabel='arrival_airport', ylabel='profit'>"
      ]
     },
     "execution_count": 47,
     "metadata": {},
     "output_type": "execute_result"
    },
    {
     "data": {
      "image/png": "[encoded data removed]",
      "text/plain": [
       "<Figure size 432x288 with 1 Axes>"
      ]
     },
     "metadata": {
      "needs_background": "light"
     },
     "output_type": "display_data"
    }
   ],
   "source": [
    "airport_profit = flight[['flight_id', 'arrival_airport', 'profit',\n",
    "                         'departure_day_of_week', 'actual_departure', 'departure_time', 'economy_percent', 'business_percent']]\n",
    "sns.barplot(x='arrival_airport', y='profit', data=airport_profit)"
   ]
  },
  {
   "cell_type": "markdown",
   "metadata": {},
   "source": [
    "Мы видим, что в целом направление на Москву гораздо прибыльнее, чем на Белгород. Подсчитаем разницу между их средними значениями."
   ]
  },
  {
   "cell_type": "code",
   "execution_count": 48,
   "metadata": {},
   "outputs": [
    {
     "data": {
      "text/plain": [
       "795222"
      ]
     },
     "execution_count": 48,
     "metadata": {},
     "output_type": "execute_result"
    }
   ],
   "source": [
    "round(airport_profit[airport_profit.arrival_airport.str.match(\n",
    "    \"SVO\", na=False)]['profit'].mean() - airport_profit[airport_profit.arrival_airport.str.match(\n",
    "    \"EGO\", na=False)]['profit'].mean())"
   ]
  },
  {
   "cell_type": "markdown",
   "metadata": {},
   "source": [
    "Разница впечатляет. Однако закрывать целое направление - не задача нашего исследования. Но можно посмотреть на относительную прибыль, которую они приносят? Примем за примерную оценку идеальной прибыли случай, когда все места в самолете заполнены. Найдем эти рейсы среди московских, а затем получим идеальную прибыль для направления на Москву."
   ]
  },
  {
   "cell_type": "code",
   "execution_count": 49,
   "metadata": {},
   "outputs": [
    {
     "data": {
      "text/html": [
       "<div>\n",
       "<style scoped>\n",
       "    .dataframe tbody tr th:only-of-type {\n",
       "        vertical-align: middle;\n",
       "    }\n",
       "\n",
       "    .dataframe tbody tr th {\n",
       "        vertical-align: top;\n",
       "    }\n",
       "\n",
       "    .dataframe thead th {\n",
       "        text-align: right;\n",
       "    }\n",
       "</style>\n",
       "<table border=\"1\" class=\"dataframe\">\n",
       "  <thead>\n",
       "    <tr style=\"text-align: right;\">\n",
       "      <th></th>\n",
       "      <th>flight_id</th>\n",
       "      <th>arrival_airport</th>\n",
       "      <th>profit</th>\n",
       "      <th>departure_day_of_week</th>\n",
       "      <th>actual_departure</th>\n",
       "      <th>departure_time</th>\n",
       "      <th>economy_percent</th>\n",
       "      <th>business_percent</th>\n",
       "    </tr>\n",
       "  </thead>\n",
       "  <tbody>\n",
       "    <tr>\n",
       "      <th>19</th>\n",
       "      <td>136226</td>\n",
       "      <td>SVO</td>\n",
       "      <td>1681896.0</td>\n",
       "      <td>0</td>\n",
       "      <td>2017-01-30 10:08:00+00:00</td>\n",
       "      <td>10</td>\n",
       "      <td>100</td>\n",
       "      <td>100</td>\n",
       "    </tr>\n",
       "    <tr>\n",
       "      <th>32</th>\n",
       "      <td>136316</td>\n",
       "      <td>SVO</td>\n",
       "      <td>1681896.0</td>\n",
       "      <td>3</td>\n",
       "      <td>2017-01-12 10:07:00+00:00</td>\n",
       "      <td>10</td>\n",
       "      <td>100</td>\n",
       "      <td>100</td>\n",
       "    </tr>\n",
       "  </tbody>\n",
       "</table>\n",
       "</div>"
      ],
      "text/plain": [
       "    flight_id arrival_airport     profit  departure_day_of_week  \\\n",
       "19     136226             SVO  1681896.0                      0   \n",
       "32     136316             SVO  1681896.0                      3   \n",
       "\n",
       "            actual_departure  departure_time  economy_percent  \\\n",
       "19 2017-01-30 10:08:00+00:00              10              100   \n",
       "32 2017-01-12 10:07:00+00:00              10              100   \n",
       "\n",
       "    business_percent  \n",
       "19               100  \n",
       "32               100  "
      ]
     },
     "execution_count": 49,
     "metadata": {},
     "output_type": "execute_result"
    }
   ],
   "source": [
    "airport_profit.loc[(airport_profit['arrival_airport'] == 'SVO') & (\n",
    "    airport_profit['economy_percent'] == 100) & (airport_profit['business_percent'] == 100)]"
   ]
  },
  {
   "cell_type": "code",
   "execution_count": 58,
   "metadata": {},
   "outputs": [
    {
     "name": "stdout",
     "output_type": "stream",
     "text": [
      "Идеальная прибыль для московских рейсов равна 1681896\n"
     ]
    }
   ],
   "source": [
    "ideal_profit_msk = round(airport_profit.loc[(airport_profit['arrival_airport'] == 'SVO') & (\n",
    "    airport_profit['economy_percent'] == 100) & (airport_profit['business_percent'] == 100)]['profit'].mean())\n",
    "\n",
    "print('Идеальная прибыль для московских рейсов равна', ideal_profit_msk)"
   ]
  },
  {
   "cell_type": "markdown",
   "metadata": {},
   "source": [
    "То же самое для Белгорода"
   ]
  },
  {
   "cell_type": "code",
   "execution_count": 52,
   "metadata": {},
   "outputs": [
    {
     "data": {
      "text/html": [
       "<div>\n",
       "<style scoped>\n",
       "    .dataframe tbody tr th:only-of-type {\n",
       "        vertical-align: middle;\n",
       "    }\n",
       "\n",
       "    .dataframe tbody tr th {\n",
       "        vertical-align: top;\n",
       "    }\n",
       "\n",
       "    .dataframe thead th {\n",
       "        text-align: right;\n",
       "    }\n",
       "</style>\n",
       "<table border=\"1\" class=\"dataframe\">\n",
       "  <thead>\n",
       "    <tr style=\"text-align: right;\">\n",
       "      <th></th>\n",
       "      <th>flight_id</th>\n",
       "      <th>arrival_airport</th>\n",
       "      <th>profit</th>\n",
       "      <th>departure_day_of_week</th>\n",
       "      <th>actual_departure</th>\n",
       "      <th>departure_time</th>\n",
       "      <th>economy_percent</th>\n",
       "      <th>business_percent</th>\n",
       "    </tr>\n",
       "  </thead>\n",
       "  <tbody>\n",
       "    <tr>\n",
       "      <th>61</th>\n",
       "      <td>136600</td>\n",
       "      <td>EGO</td>\n",
       "      <td>698574.0</td>\n",
       "      <td>2</td>\n",
       "      <td>2017-02-08 09:26:00+00:00</td>\n",
       "      <td>9</td>\n",
       "      <td>100</td>\n",
       "      <td>100</td>\n",
       "    </tr>\n",
       "    <tr>\n",
       "      <th>62</th>\n",
       "      <td>136605</td>\n",
       "      <td>EGO</td>\n",
       "      <td>697239.0</td>\n",
       "      <td>2</td>\n",
       "      <td>2017-02-15 09:28:00+00:00</td>\n",
       "      <td>9</td>\n",
       "      <td>100</td>\n",
       "      <td>100</td>\n",
       "    </tr>\n",
       "    <tr>\n",
       "      <th>84</th>\n",
       "      <td>136755</td>\n",
       "      <td>EGO</td>\n",
       "      <td>698574.0</td>\n",
       "      <td>5</td>\n",
       "      <td>2017-01-21 09:30:00+00:00</td>\n",
       "      <td>9</td>\n",
       "      <td>100</td>\n",
       "      <td>100</td>\n",
       "    </tr>\n",
       "    <tr>\n",
       "      <th>85</th>\n",
       "      <td>136757</td>\n",
       "      <td>EGO</td>\n",
       "      <td>699908.0</td>\n",
       "      <td>4</td>\n",
       "      <td>2017-01-27 09:30:00+00:00</td>\n",
       "      <td>9</td>\n",
       "      <td>100</td>\n",
       "      <td>100</td>\n",
       "    </tr>\n",
       "    <tr>\n",
       "      <th>86</th>\n",
       "      <td>136758</td>\n",
       "      <td>EGO</td>\n",
       "      <td>699908.0</td>\n",
       "      <td>3</td>\n",
       "      <td>2017-01-12 09:26:00+00:00</td>\n",
       "      <td>9</td>\n",
       "      <td>100</td>\n",
       "      <td>100</td>\n",
       "    </tr>\n",
       "    <tr>\n",
       "      <th>91</th>\n",
       "      <td>136781</td>\n",
       "      <td>EGO</td>\n",
       "      <td>698574.0</td>\n",
       "      <td>5</td>\n",
       "      <td>2017-01-14 09:26:00+00:00</td>\n",
       "      <td>9</td>\n",
       "      <td>100</td>\n",
       "      <td>100</td>\n",
       "    </tr>\n",
       "    <tr>\n",
       "      <th>94</th>\n",
       "      <td>136815</td>\n",
       "      <td>EGO</td>\n",
       "      <td>697239.0</td>\n",
       "      <td>6</td>\n",
       "      <td>2017-02-19 09:26:00+00:00</td>\n",
       "      <td>9</td>\n",
       "      <td>100</td>\n",
       "      <td>100</td>\n",
       "    </tr>\n",
       "    <tr>\n",
       "      <th>97</th>\n",
       "      <td>136827</td>\n",
       "      <td>EGO</td>\n",
       "      <td>697239.0</td>\n",
       "      <td>5</td>\n",
       "      <td>2017-02-18 09:26:00+00:00</td>\n",
       "      <td>9</td>\n",
       "      <td>100</td>\n",
       "      <td>100</td>\n",
       "    </tr>\n",
       "    <tr>\n",
       "      <th>99</th>\n",
       "      <td>136841</td>\n",
       "      <td>EGO</td>\n",
       "      <td>697239.0</td>\n",
       "      <td>1</td>\n",
       "      <td>2017-02-07 09:25:00+00:00</td>\n",
       "      <td>9</td>\n",
       "      <td>100</td>\n",
       "      <td>100</td>\n",
       "    </tr>\n",
       "    <tr>\n",
       "      <th>102</th>\n",
       "      <td>136857</td>\n",
       "      <td>EGO</td>\n",
       "      <td>698574.0</td>\n",
       "      <td>0</td>\n",
       "      <td>2017-02-13 09:31:00+00:00</td>\n",
       "      <td>9</td>\n",
       "      <td>100</td>\n",
       "      <td>100</td>\n",
       "    </tr>\n",
       "    <tr>\n",
       "      <th>104</th>\n",
       "      <td>136869</td>\n",
       "      <td>EGO</td>\n",
       "      <td>698574.0</td>\n",
       "      <td>1</td>\n",
       "      <td>2017-01-31 09:26:00+00:00</td>\n",
       "      <td>9</td>\n",
       "      <td>100</td>\n",
       "      <td>100</td>\n",
       "    </tr>\n",
       "    <tr>\n",
       "      <th>105</th>\n",
       "      <td>136871</td>\n",
       "      <td>EGO</td>\n",
       "      <td>698574.0</td>\n",
       "      <td>4</td>\n",
       "      <td>2017-01-13 09:28:00+00:00</td>\n",
       "      <td>9</td>\n",
       "      <td>100</td>\n",
       "      <td>100</td>\n",
       "    </tr>\n",
       "    <tr>\n",
       "      <th>106</th>\n",
       "      <td>136875</td>\n",
       "      <td>EGO</td>\n",
       "      <td>698574.0</td>\n",
       "      <td>3</td>\n",
       "      <td>2017-02-16 09:29:00+00:00</td>\n",
       "      <td>9</td>\n",
       "      <td>100</td>\n",
       "      <td>100</td>\n",
       "    </tr>\n",
       "    <tr>\n",
       "      <th>109</th>\n",
       "      <td>136900</td>\n",
       "      <td>EGO</td>\n",
       "      <td>697239.0</td>\n",
       "      <td>2</td>\n",
       "      <td>2017-02-01 09:30:00+00:00</td>\n",
       "      <td>9</td>\n",
       "      <td>100</td>\n",
       "      <td>100</td>\n",
       "    </tr>\n",
       "    <tr>\n",
       "      <th>112</th>\n",
       "      <td>136927</td>\n",
       "      <td>EGO</td>\n",
       "      <td>697239.0</td>\n",
       "      <td>6</td>\n",
       "      <td>2017-01-22 09:28:00+00:00</td>\n",
       "      <td>9</td>\n",
       "      <td>100</td>\n",
       "      <td>100</td>\n",
       "    </tr>\n",
       "    <tr>\n",
       "      <th>116</th>\n",
       "      <td>136953</td>\n",
       "      <td>EGO</td>\n",
       "      <td>698574.0</td>\n",
       "      <td>0</td>\n",
       "      <td>2017-02-27 09:27:00+00:00</td>\n",
       "      <td>9</td>\n",
       "      <td>100</td>\n",
       "      <td>100</td>\n",
       "    </tr>\n",
       "  </tbody>\n",
       "</table>\n",
       "</div>"
      ],
      "text/plain": [
       "     flight_id arrival_airport    profit  departure_day_of_week  \\\n",
       "61      136600             EGO  698574.0                      2   \n",
       "62      136605             EGO  697239.0                      2   \n",
       "84      136755             EGO  698574.0                      5   \n",
       "85      136757             EGO  699908.0                      4   \n",
       "86      136758             EGO  699908.0                      3   \n",
       "91      136781             EGO  698574.0                      5   \n",
       "94      136815             EGO  697239.0                      6   \n",
       "97      136827             EGO  697239.0                      5   \n",
       "99      136841             EGO  697239.0                      1   \n",
       "102     136857             EGO  698574.0                      0   \n",
       "104     136869             EGO  698574.0                      1   \n",
       "105     136871             EGO  698574.0                      4   \n",
       "106     136875             EGO  698574.0                      3   \n",
       "109     136900             EGO  697239.0                      2   \n",
       "112     136927             EGO  697239.0                      6   \n",
       "116     136953             EGO  698574.0                      0   \n",
       "\n",
       "             actual_departure  departure_time  economy_percent  \\\n",
       "61  2017-02-08 09:26:00+00:00               9              100   \n",
       "62  2017-02-15 09:28:00+00:00               9              100   \n",
       "84  2017-01-21 09:30:00+00:00               9              100   \n",
       "85  2017-01-27 09:30:00+00:00               9              100   \n",
       "86  2017-01-12 09:26:00+00:00               9              100   \n",
       "91  2017-01-14 09:26:00+00:00               9              100   \n",
       "94  2017-02-19 09:26:00+00:00               9              100   \n",
       "97  2017-02-18 09:26:00+00:00               9              100   \n",
       "99  2017-02-07 09:25:00+00:00               9              100   \n",
       "102 2017-02-13 09:31:00+00:00               9              100   \n",
       "104 2017-01-31 09:26:00+00:00               9              100   \n",
       "105 2017-01-13 09:28:00+00:00               9              100   \n",
       "106 2017-02-16 09:29:00+00:00               9              100   \n",
       "109 2017-02-01 09:30:00+00:00               9              100   \n",
       "112 2017-01-22 09:28:00+00:00               9              100   \n",
       "116 2017-02-27 09:27:00+00:00               9              100   \n",
       "\n",
       "     business_percent  \n",
       "61                100  \n",
       "62                100  \n",
       "84                100  \n",
       "85                100  \n",
       "86                100  \n",
       "91                100  \n",
       "94                100  \n",
       "97                100  \n",
       "99                100  \n",
       "102               100  \n",
       "104               100  \n",
       "105               100  \n",
       "106               100  \n",
       "109               100  \n",
       "112               100  \n",
       "116               100  "
      ]
     },
     "execution_count": 52,
     "metadata": {},
     "output_type": "execute_result"
    }
   ],
   "source": [
    "airport_profit.loc[(airport_profit['arrival_airport'] == 'EGO') & (\n",
    "    airport_profit['economy_percent'] == 100) & (airport_profit['business_percent'] == 100)]"
   ]
  },
  {
   "cell_type": "markdown",
   "metadata": {},
   "source": [
    "Таких гораздо больше"
   ]
  },
  {
   "cell_type": "code",
   "execution_count": 57,
   "metadata": {},
   "outputs": [
    {
     "name": "stdout",
     "output_type": "stream",
     "text": [
      "Идеальная прибыль для белгородских рейсов равна 698240\n"
     ]
    }
   ],
   "source": [
    "ideal_profit_blg = round(airport_profit.loc[(airport_profit['arrival_airport'] == 'EGO') & (\n",
    "    airport_profit['economy_percent'] == 100) & (airport_profit['business_percent'] == 100)]['profit'].mean())\n",
    "\n",
    "print('Идеальная прибыль для белгородских рейсов равна', ideal_profit_blg)"
   ]
  },
  {
   "cell_type": "code",
   "execution_count": 59,
   "metadata": {},
   "outputs": [
    {
     "name": "stdout",
     "output_type": "stream",
     "text": [
      "Прибыльность направления на Москву - 86%\n"
     ]
    }
   ],
   "source": [
    "percent_profit_msk = round((airport_profit[airport_profit.arrival_airport.str.match(\n",
    "    \"SVO\", na=False)]['profit'].mean()/ideal_profit_msk)*100)\n",
    "print('Прибыльность направления на Москву - {}%'.format(percent_profit_msk))"
   ]
  },
  {
   "cell_type": "code",
   "execution_count": 60,
   "metadata": {},
   "outputs": [
    {
     "name": "stdout",
     "output_type": "stream",
     "text": [
      "Прибыльность направления на Белгород - 92%\n"
     ]
    }
   ],
   "source": [
    "percent_profit_blg = round((airport_profit[airport_profit.arrival_airport.str.match(\n",
    "    \"EGO\", na=False)]['profit'].mean()/ideal_profit_blg)*100)\n",
    "print('Прибыльность направления на Белгород - {}%'.format(percent_profit_blg))"
   ]
  },
  {
   "cell_type": "markdown",
   "metadata": {},
   "source": [
    "Так какое направление у нас более убыточное, а? :)"
   ]
  },
  {
   "cell_type": "markdown",
   "metadata": {},
   "source": [
    "Вычислим рейсы с самой маленькой прибылью по обоим направлениям."
   ]
  },
  {
   "cell_type": "code",
   "execution_count": 112,
   "metadata": {},
   "outputs": [
    {
     "name": "stdout",
     "output_type": "stream",
     "text": [
      "Самый убыточный рейс в Москву -      flight_id  departure_day_of_week     profit\n",
      "54     136464                      0  1193896.0\n",
      "Самый убыточный рейс в Белгород -      flight_id  departure_day_of_week    profit\n",
      "93     136807                      3  464274.0\n"
     ]
    }
   ],
   "source": [
    "min_profit_SVO = airport_profit[airport_profit.arrival_airport.str.match(\n",
    "    \"SVO\", na=False)]['profit'].min()\n",
    "min_profit_EGO = airport_profit[airport_profit.arrival_airport.str.match(\n",
    "    \"EGO\", na=False)]['profit'].min()\n",
    "\n",
    "print('Самый убыточный рейс в Москву - ',\n",
    "      flight.loc[flight.profit == min_profit_SVO][['flight_id', 'departure_day_of_week', 'profit']])\n",
    "print('Самый убыточный рейс в Белгород - ',\n",
    "      flight.loc[flight.profit == min_profit_EGO][['flight_id', 'departure_day_of_week', 'profit']])"
   ]
  },
  {
   "cell_type": "code",
   "execution_count": 113,
   "metadata": {},
   "outputs": [],
   "source": [
    "airport_profit_sorted_SVO = airport_profit[airport_profit.arrival_airport.str.match(\n",
    "    \"SVO\", na=False)].sort_values(['profit', 'departure_day_of_week'])\n",
    "airport_profit_sorted_EGO = airport_profit[airport_profit.arrival_airport.str.match(\n",
    "    \"EGO\", na=False)].sort_values(['profit', 'departure_day_of_week'])"
   ]
  },
  {
   "cell_type": "markdown",
   "metadata": {},
   "source": [
    "## По дням недели"
   ]
  },
  {
   "cell_type": "markdown",
   "metadata": {},
   "source": [
    "Проверим нашу гипотезу о \"плохих\" рейсах, проведя анализ заполненности рейса по дням недели и датам. Начнем с Москвы:"
   ]
  },
  {
   "cell_type": "code",
   "execution_count": 114,
   "metadata": {},
   "outputs": [
    {
     "data": {
      "text/plain": [
       "departure_day_of_week\n",
       "1    90.777778\n",
       "4    89.000000\n",
       "3    87.500000\n",
       "5    87.125000\n",
       "0    86.444444\n",
       "2    85.500000\n",
       "6    79.666667\n",
       "Name: economy_percent, dtype: float64"
      ]
     },
     "execution_count": 114,
     "metadata": {},
     "output_type": "execute_result"
    }
   ],
   "source": [
    "airport_profit_sorted_SVO.groupby('departure_day_of_week')[\n",
    "    'economy_percent'].mean().sort_values(ascending=False)"
   ]
  },
  {
   "cell_type": "code",
   "execution_count": 115,
   "metadata": {},
   "outputs": [
    {
     "data": {
      "text/plain": [
       "departure_day_of_week\n",
       "4    91.375000\n",
       "5    90.125000\n",
       "1    87.555556\n",
       "3    86.125000\n",
       "2    86.125000\n",
       "6    85.666667\n",
       "0    84.111111\n",
       "Name: business_percent, dtype: float64"
      ]
     },
     "execution_count": 115,
     "metadata": {},
     "output_type": "execute_result"
    }
   ],
   "source": [
    "airport_profit_sorted_SVO.groupby('departure_day_of_week')[\n",
    "    'business_percent'].mean().sort_values(ascending=False)"
   ]
  },
  {
   "cell_type": "code",
   "execution_count": 116,
   "metadata": {},
   "outputs": [
    {
     "data": {
      "text/plain": [
       "departure_day_of_week\n",
       "1    1.502216e+06\n",
       "4    1.491542e+06\n",
       "5    1.463221e+06\n",
       "3    1.446861e+06\n",
       "0    1.421189e+06\n",
       "2    1.416271e+06\n",
       "6    1.337385e+06\n",
       "Name: profit, dtype: float64"
      ]
     },
     "execution_count": 116,
     "metadata": {},
     "output_type": "execute_result"
    }
   ],
   "source": [
    "airport_profit_sorted_SVO.groupby(['departure_day_of_week'])[\n",
    "    'profit'].mean().sort_values(ascending=False)"
   ]
  },
  {
   "cell_type": "markdown",
   "metadata": {},
   "source": [
    "Мы видим, что наиболее популярный день для отлета в Москву в общем - это вторник. Бизнес-класс больше всего заполнен в пятницу и в субботу: закончив работу, деловые люди спешат домой. То есть рейсы во вторник, в пятницу и в субботу снимать не стоит.\n",
    "\n",
    "Самые незагруженные и неприбыльные дни в разных комбинациях - это понедельник, среда и воскресенье. Их в свете отмены рейсов мы будем рассматривать в первую очередь.\n",
    "\n",
    "Здесь есть еще одно соображение: в январе у нас новогодние каникулы, на которые московская публика может съездить к относительно теплому морю. Необходимо посмотреть распределение по числам в январе. Под подозрение попадает последний день новогодних каникул и первый день после них. В 2017 году каникулы закончились 8 января."
   ]
  },
  {
   "cell_type": "code",
   "execution_count": 117,
   "metadata": {},
   "outputs": [
    {
     "data": {
      "text/html": [
       "<div>\n",
       "<style scoped>\n",
       "    .dataframe tbody tr th:only-of-type {\n",
       "        vertical-align: middle;\n",
       "    }\n",
       "\n",
       "    .dataframe tbody tr th {\n",
       "        vertical-align: top;\n",
       "    }\n",
       "\n",
       "    .dataframe thead th {\n",
       "        text-align: right;\n",
       "    }\n",
       "</style>\n",
       "<table border=\"1\" class=\"dataframe\">\n",
       "  <thead>\n",
       "    <tr style=\"text-align: right;\">\n",
       "      <th></th>\n",
       "      <th>flight_id</th>\n",
       "      <th>arrival_airport</th>\n",
       "      <th>profit</th>\n",
       "      <th>ideal_profit</th>\n",
       "      <th>departure_day_of_week</th>\n",
       "      <th>actual_departure</th>\n",
       "      <th>departure_time</th>\n",
       "      <th>economy_percent</th>\n",
       "      <th>business_percent</th>\n",
       "    </tr>\n",
       "  </thead>\n",
       "  <tbody>\n",
       "    <tr>\n",
       "      <th>54</th>\n",
       "      <td>136464</td>\n",
       "      <td>SVO</td>\n",
       "      <td>1193896.0</td>\n",
       "      <td>1.940307e+06</td>\n",
       "      <td>0</td>\n",
       "      <td>2017-01-09 10:07:00+00:00</td>\n",
       "      <td>10</td>\n",
       "      <td>78</td>\n",
       "      <td>58</td>\n",
       "    </tr>\n",
       "    <tr>\n",
       "      <th>21</th>\n",
       "      <td>136250</td>\n",
       "      <td>SVO</td>\n",
       "      <td>1201655.0</td>\n",
       "      <td>1.940307e+06</td>\n",
       "      <td>2</td>\n",
       "      <td>2017-02-08 10:06:00+00:00</td>\n",
       "      <td>10</td>\n",
       "      <td>77</td>\n",
       "      <td>66</td>\n",
       "    </tr>\n",
       "    <tr>\n",
       "      <th>2</th>\n",
       "      <td>136122</td>\n",
       "      <td>SVO</td>\n",
       "      <td>1226896.0</td>\n",
       "      <td>1.940307e+06</td>\n",
       "      <td>6</td>\n",
       "      <td>2017-01-08 10:08:00+00:00</td>\n",
       "      <td>10</td>\n",
       "      <td>73</td>\n",
       "      <td>83</td>\n",
       "    </tr>\n",
       "    <tr>\n",
       "      <th>12</th>\n",
       "      <td>136178</td>\n",
       "      <td>SVO</td>\n",
       "      <td>1232537.0</td>\n",
       "      <td>1.940307e+06</td>\n",
       "      <td>6</td>\n",
       "      <td>2017-01-29 10:10:00+00:00</td>\n",
       "      <td>10</td>\n",
       "      <td>76</td>\n",
       "      <td>75</td>\n",
       "    </tr>\n",
       "    <tr>\n",
       "      <th>38</th>\n",
       "      <td>136360</td>\n",
       "      <td>SVO</td>\n",
       "      <td>1251296.0</td>\n",
       "      <td>1.940307e+06</td>\n",
       "      <td>6</td>\n",
       "      <td>2017-02-05 10:08:00+00:00</td>\n",
       "      <td>10</td>\n",
       "      <td>72</td>\n",
       "      <td>91</td>\n",
       "    </tr>\n",
       "  </tbody>\n",
       "</table>\n",
       "</div>"
      ],
      "text/plain": [
       "    flight_id arrival_airport     profit  ideal_profit  departure_day_of_week  \\\n",
       "54     136464             SVO  1193896.0  1.940307e+06                      0   \n",
       "21     136250             SVO  1201655.0  1.940307e+06                      2   \n",
       "2      136122             SVO  1226896.0  1.940307e+06                      6   \n",
       "12     136178             SVO  1232537.0  1.940307e+06                      6   \n",
       "38     136360             SVO  1251296.0  1.940307e+06                      6   \n",
       "\n",
       "            actual_departure  departure_time  economy_percent  \\\n",
       "54 2017-01-09 10:07:00+00:00              10               78   \n",
       "21 2017-02-08 10:06:00+00:00              10               77   \n",
       "2  2017-01-08 10:08:00+00:00              10               73   \n",
       "12 2017-01-29 10:10:00+00:00              10               76   \n",
       "38 2017-02-05 10:08:00+00:00              10               72   \n",
       "\n",
       "    business_percent  \n",
       "54                58  \n",
       "21                66  \n",
       "2                 83  \n",
       "12                75  \n",
       "38                91  "
      ]
     },
     "execution_count": 117,
     "metadata": {},
     "output_type": "execute_result"
    }
   ],
   "source": [
    "airport_profit_sorted_SVO.head(5)\n"
   ]
  },
  {
   "cell_type": "markdown",
   "metadata": {},
   "source": [
    "Рейс 136464 подходит под условия: он приносит наименьшую прибыль, приходится на понедельник и на первый день после длинных выходных. Это первый кандидат на снятие."
   ]
  },
  {
   "cell_type": "markdown",
   "metadata": {},
   "source": [
    "Однако поскольку данные в анализе не полные, необходимо провести дополнительное исследование. Для него мы выбрали 5 наименее прибыльных рейсов и проверили дополнительной выборкой, в которую попали рейсы, которые приходятся на наименее загруженные дни и прибыль от которых ниже нижнего квантиля. Для Москвы эти списки совпадают."
   ]
  },
  {
   "cell_type": "code",
   "execution_count": 118,
   "metadata": {},
   "outputs": [
    {
     "data": {
      "text/plain": [
       "count    5.900000e+01\n",
       "mean     1.438818e+06\n",
       "std      1.325791e+05\n",
       "min      1.193896e+06\n",
       "25%      1.341137e+06\n",
       "50%      1.426537e+06\n",
       "75%      1.536337e+06\n",
       "max      1.681896e+06\n",
       "Name: profit, dtype: float64"
      ]
     },
     "execution_count": 118,
     "metadata": {},
     "output_type": "execute_result"
    },
    {
     "data": {
      "image/png": "[encoded data removed]",
      "text/plain": [
       "<Figure size 432x288 with 1 Axes>"
      ]
     },
     "metadata": {
      "needs_background": "light"
     },
     "output_type": "display_data"
    }
   ],
   "source": [
    "airport_profit_sorted_SVO.profit.hist(bins=15)\n",
    "airport_profit_sorted_SVO.profit.describe()"
   ]
  },
  {
   "cell_type": "markdown",
   "metadata": {},
   "source": [
    "На графике видно, что более и менее прибыльные рейсы распределены относительно нормально."
   ]
  },
  {
   "cell_type": "code",
   "execution_count": 119,
   "metadata": {},
   "outputs": [
    {
     "data": {
      "text/html": [
       "<div>\n",
       "<style scoped>\n",
       "    .dataframe tbody tr th:only-of-type {\n",
       "        vertical-align: middle;\n",
       "    }\n",
       "\n",
       "    .dataframe tbody tr th {\n",
       "        vertical-align: top;\n",
       "    }\n",
       "\n",
       "    .dataframe thead th {\n",
       "        text-align: right;\n",
       "    }\n",
       "</style>\n",
       "<table border=\"1\" class=\"dataframe\">\n",
       "  <thead>\n",
       "    <tr style=\"text-align: right;\">\n",
       "      <th></th>\n",
       "      <th>flight_id</th>\n",
       "      <th>arrival_airport</th>\n",
       "      <th>profit</th>\n",
       "      <th>ideal_profit</th>\n",
       "      <th>departure_day_of_week</th>\n",
       "      <th>actual_departure</th>\n",
       "      <th>departure_time</th>\n",
       "      <th>economy_percent</th>\n",
       "      <th>business_percent</th>\n",
       "    </tr>\n",
       "  </thead>\n",
       "  <tbody>\n",
       "    <tr>\n",
       "      <th>54</th>\n",
       "      <td>136464</td>\n",
       "      <td>SVO</td>\n",
       "      <td>1193896.0</td>\n",
       "      <td>1.940307e+06</td>\n",
       "      <td>0</td>\n",
       "      <td>2017-01-09 10:07:00+00:00</td>\n",
       "      <td>10</td>\n",
       "      <td>78</td>\n",
       "      <td>58</td>\n",
       "    </tr>\n",
       "    <tr>\n",
       "      <th>21</th>\n",
       "      <td>136250</td>\n",
       "      <td>SVO</td>\n",
       "      <td>1201655.0</td>\n",
       "      <td>1.940307e+06</td>\n",
       "      <td>2</td>\n",
       "      <td>2017-02-08 10:06:00+00:00</td>\n",
       "      <td>10</td>\n",
       "      <td>77</td>\n",
       "      <td>66</td>\n",
       "    </tr>\n",
       "    <tr>\n",
       "      <th>2</th>\n",
       "      <td>136122</td>\n",
       "      <td>SVO</td>\n",
       "      <td>1226896.0</td>\n",
       "      <td>1.940307e+06</td>\n",
       "      <td>6</td>\n",
       "      <td>2017-01-08 10:08:00+00:00</td>\n",
       "      <td>10</td>\n",
       "      <td>73</td>\n",
       "      <td>83</td>\n",
       "    </tr>\n",
       "    <tr>\n",
       "      <th>12</th>\n",
       "      <td>136178</td>\n",
       "      <td>SVO</td>\n",
       "      <td>1232537.0</td>\n",
       "      <td>1.940307e+06</td>\n",
       "      <td>6</td>\n",
       "      <td>2017-01-29 10:10:00+00:00</td>\n",
       "      <td>10</td>\n",
       "      <td>76</td>\n",
       "      <td>75</td>\n",
       "    </tr>\n",
       "    <tr>\n",
       "      <th>38</th>\n",
       "      <td>136360</td>\n",
       "      <td>SVO</td>\n",
       "      <td>1251296.0</td>\n",
       "      <td>1.940307e+06</td>\n",
       "      <td>6</td>\n",
       "      <td>2017-02-05 10:08:00+00:00</td>\n",
       "      <td>10</td>\n",
       "      <td>72</td>\n",
       "      <td>91</td>\n",
       "    </tr>\n",
       "  </tbody>\n",
       "</table>\n",
       "</div>"
      ],
      "text/plain": [
       "    flight_id arrival_airport     profit  ideal_profit  departure_day_of_week  \\\n",
       "54     136464             SVO  1193896.0  1.940307e+06                      0   \n",
       "21     136250             SVO  1201655.0  1.940307e+06                      2   \n",
       "2      136122             SVO  1226896.0  1.940307e+06                      6   \n",
       "12     136178             SVO  1232537.0  1.940307e+06                      6   \n",
       "38     136360             SVO  1251296.0  1.940307e+06                      6   \n",
       "\n",
       "            actual_departure  departure_time  economy_percent  \\\n",
       "54 2017-01-09 10:07:00+00:00              10               78   \n",
       "21 2017-02-08 10:06:00+00:00              10               77   \n",
       "2  2017-01-08 10:08:00+00:00              10               73   \n",
       "12 2017-01-29 10:10:00+00:00              10               76   \n",
       "38 2017-02-05 10:08:00+00:00              10               72   \n",
       "\n",
       "    business_percent  \n",
       "54                58  \n",
       "21                66  \n",
       "2                 83  \n",
       "12                75  \n",
       "38                91  "
      ]
     },
     "execution_count": 119,
     "metadata": {},
     "output_type": "execute_result"
    }
   ],
   "source": [
    "airport_profit_sorted_SVO.loc[(airport_profit_sorted_SVO['departure_day_of_week'].isin([0, 2, 6])) & (\n",
    "    airport_profit_sorted_SVO['profit'] < airport_profit_sorted_SVO['profit'].quantile(0.25))].head(5)"
   ]
  },
  {
   "cell_type": "markdown",
   "metadata": {},
   "source": [
    "Проведем такой же анализ для Белгорода. "
   ]
  },
  {
   "cell_type": "code",
   "execution_count": 120,
   "metadata": {},
   "outputs": [
    {
     "data": {
      "text/plain": [
       "departure_day_of_week\n",
       "2    97.375000\n",
       "5    93.625000\n",
       "4    92.500000\n",
       "1    92.222222\n",
       "6    92.111111\n",
       "3    91.500000\n",
       "0    89.777778\n",
       "Name: economy_percent, dtype: float64"
      ]
     },
     "execution_count": 120,
     "metadata": {},
     "output_type": "execute_result"
    }
   ],
   "source": [
    "airport_profit_sorted_EGO.groupby('departure_day_of_week')[\n",
    "    'economy_percent'].mean().sort_values(ascending=False)"
   ]
  },
  {
   "cell_type": "code",
   "execution_count": 121,
   "metadata": {},
   "outputs": [
    {
     "data": {
      "text/plain": [
       "departure_day_of_week\n",
       "2    100.000000\n",
       "5     93.500000\n",
       "6     92.222222\n",
       "0     91.555556\n",
       "4     90.375000\n",
       "3     89.500000\n",
       "1     87.888889\n",
       "Name: business_percent, dtype: float64"
      ]
     },
     "execution_count": 121,
     "metadata": {},
     "output_type": "execute_result"
    }
   ],
   "source": [
    "airport_profit_sorted_EGO.groupby('departure_day_of_week')[\n",
    "    'business_percent'].mean().sort_values(ascending=False)"
   ]
  },
  {
   "cell_type": "code",
   "execution_count": 122,
   "metadata": {},
   "outputs": [
    {
     "data": {
      "text/plain": [
       "departure_day_of_week\n",
       "2    686427.750000\n",
       "5    650690.250000\n",
       "6    640743.888889\n",
       "4    639769.875000\n",
       "3    632532.375000\n",
       "1    631295.666667\n",
       "0    627607.000000\n",
       "Name: profit, dtype: float64"
      ]
     },
     "execution_count": 122,
     "metadata": {},
     "output_type": "execute_result"
    }
   ],
   "source": [
    "airport_profit_sorted_EGO.groupby(['departure_day_of_week'])[\n",
    "    'profit'].mean().sort_values(ascending=False)"
   ]
  },
  {
   "cell_type": "markdown",
   "metadata": {},
   "source": [
    "На рейсах в Белгород наибольшая загруженность в среду и в субботу как в общем, так и для бизнес-класса. Это же и самые прибыльные дни. А "
   ]
  },
  {
   "cell_type": "code",
   "execution_count": 123,
   "metadata": {},
   "outputs": [
    {
     "data": {
      "text/html": [
       "<div>\n",
       "<style scoped>\n",
       "    .dataframe tbody tr th:only-of-type {\n",
       "        vertical-align: middle;\n",
       "    }\n",
       "\n",
       "    .dataframe tbody tr th {\n",
       "        vertical-align: top;\n",
       "    }\n",
       "\n",
       "    .dataframe thead th {\n",
       "        text-align: right;\n",
       "    }\n",
       "</style>\n",
       "<table border=\"1\" class=\"dataframe\">\n",
       "  <thead>\n",
       "    <tr style=\"text-align: right;\">\n",
       "      <th></th>\n",
       "      <th>flight_id</th>\n",
       "      <th>arrival_airport</th>\n",
       "      <th>profit</th>\n",
       "      <th>ideal_profit</th>\n",
       "      <th>departure_day_of_week</th>\n",
       "      <th>actual_departure</th>\n",
       "      <th>departure_time</th>\n",
       "      <th>economy_percent</th>\n",
       "      <th>business_percent</th>\n",
       "    </tr>\n",
       "  </thead>\n",
       "  <tbody>\n",
       "    <tr>\n",
       "      <th>93</th>\n",
       "      <td>136807</td>\n",
       "      <td>EGO</td>\n",
       "      <td>464274.0</td>\n",
       "      <td>820880.347222</td>\n",
       "      <td>3</td>\n",
       "      <td>2017-02-23 09:28:00+00:00</td>\n",
       "      <td>9</td>\n",
       "      <td>70</td>\n",
       "      <td>66</td>\n",
       "    </tr>\n",
       "    <tr>\n",
       "      <th>68</th>\n",
       "      <td>136642</td>\n",
       "      <td>EGO</td>\n",
       "      <td>465608.0</td>\n",
       "      <td>820880.347222</td>\n",
       "      <td>0</td>\n",
       "      <td>2017-01-30 09:28:00+00:00</td>\n",
       "      <td>9</td>\n",
       "      <td>63</td>\n",
       "      <td>83</td>\n",
       "    </tr>\n",
       "    <tr>\n",
       "      <th>100</th>\n",
       "      <td>136844</td>\n",
       "      <td>EGO</td>\n",
       "      <td>508374.0</td>\n",
       "      <td>820880.347222</td>\n",
       "      <td>1</td>\n",
       "      <td>2017-02-28 09:26:00+00:00</td>\n",
       "      <td>9</td>\n",
       "      <td>85</td>\n",
       "      <td>50</td>\n",
       "    </tr>\n",
       "    <tr>\n",
       "      <th>107</th>\n",
       "      <td>136887</td>\n",
       "      <td>EGO</td>\n",
       "      <td>529808.0</td>\n",
       "      <td>820880.347222</td>\n",
       "      <td>4</td>\n",
       "      <td>2017-01-20 09:30:00+00:00</td>\n",
       "      <td>9</td>\n",
       "      <td>82</td>\n",
       "      <td>66</td>\n",
       "    </tr>\n",
       "    <tr>\n",
       "      <th>111</th>\n",
       "      <td>136922</td>\n",
       "      <td>EGO</td>\n",
       "      <td>541074.0</td>\n",
       "      <td>820880.347222</td>\n",
       "      <td>5</td>\n",
       "      <td>2017-02-11 09:27:00+00:00</td>\n",
       "      <td>9</td>\n",
       "      <td>77</td>\n",
       "      <td>83</td>\n",
       "    </tr>\n",
       "  </tbody>\n",
       "</table>\n",
       "</div>"
      ],
      "text/plain": [
       "     flight_id arrival_airport    profit   ideal_profit  \\\n",
       "93      136807             EGO  464274.0  820880.347222   \n",
       "68      136642             EGO  465608.0  820880.347222   \n",
       "100     136844             EGO  508374.0  820880.347222   \n",
       "107     136887             EGO  529808.0  820880.347222   \n",
       "111     136922             EGO  541074.0  820880.347222   \n",
       "\n",
       "     departure_day_of_week          actual_departure  departure_time  \\\n",
       "93                       3 2017-02-23 09:28:00+00:00               9   \n",
       "68                       0 2017-01-30 09:28:00+00:00               9   \n",
       "100                      1 2017-02-28 09:26:00+00:00               9   \n",
       "107                      4 2017-01-20 09:30:00+00:00               9   \n",
       "111                      5 2017-02-11 09:27:00+00:00               9   \n",
       "\n",
       "     economy_percent  business_percent  \n",
       "93                70                66  \n",
       "68                63                83  \n",
       "100               85                50  \n",
       "107               82                66  \n",
       "111               77                83  "
      ]
     },
     "execution_count": 123,
     "metadata": {},
     "output_type": "execute_result"
    }
   ],
   "source": [
    "airport_profit_sorted_EGO.head(5)"
   ]
  },
  {
   "cell_type": "markdown",
   "metadata": {},
   "source": [
    "Гипотеза снова подтверждается. Рейс 136807 принес меньше всего прибыли и приходится на четверг - один из самых \"слабых\" дней недели для этого направления.\n",
    "\n",
    "\n",
    "Однако поскольку данные в анализе не полные, необходимо провести дополнительное исследование. Для него мы выбрали 5 наименее прибыльных рейсов и проверили дополнительной выборкой, в которую попали рейсы, которые приходятся на наименее загруженные дни и прибыль от которых ниже нижнего квантиля. Для Белгорода эти списки совпадают на 80% (последняя позиция в списках разнится)."
   ]
  },
  {
   "cell_type": "code",
   "execution_count": 124,
   "metadata": {},
   "outputs": [
    {
     "data": {
      "text/plain": [
       "count        59.000000\n",
       "mean     643596.288136\n",
       "std       65685.099085\n",
       "min      464274.000000\n",
       "25%      599956.500000\n",
       "50%      679674.000000\n",
       "75%      697239.000000\n",
       "max      699908.000000\n",
       "Name: profit, dtype: float64"
      ]
     },
     "execution_count": 124,
     "metadata": {},
     "output_type": "execute_result"
    },
    {
     "data": {
      "image/png": "[encoded data removed]",
      "text/plain": [
       "<Figure size 432x288 with 1 Axes>"
      ]
     },
     "metadata": {
      "needs_background": "light"
     },
     "output_type": "display_data"
    }
   ],
   "source": [
    "airport_profit_sorted_EGO.profit.hist(bins=10)\n",
    "airport_profit_sorted_EGO.profit.describe()"
   ]
  },
  {
   "cell_type": "code",
   "execution_count": 125,
   "metadata": {},
   "outputs": [
    {
     "data": {
      "text/html": [
       "<div>\n",
       "<style scoped>\n",
       "    .dataframe tbody tr th:only-of-type {\n",
       "        vertical-align: middle;\n",
       "    }\n",
       "\n",
       "    .dataframe tbody tr th {\n",
       "        vertical-align: top;\n",
       "    }\n",
       "\n",
       "    .dataframe thead th {\n",
       "        text-align: right;\n",
       "    }\n",
       "</style>\n",
       "<table border=\"1\" class=\"dataframe\">\n",
       "  <thead>\n",
       "    <tr style=\"text-align: right;\">\n",
       "      <th></th>\n",
       "      <th>flight_id</th>\n",
       "      <th>arrival_airport</th>\n",
       "      <th>profit</th>\n",
       "      <th>ideal_profit</th>\n",
       "      <th>departure_day_of_week</th>\n",
       "      <th>actual_departure</th>\n",
       "      <th>departure_time</th>\n",
       "      <th>economy_percent</th>\n",
       "      <th>business_percent</th>\n",
       "    </tr>\n",
       "  </thead>\n",
       "  <tbody>\n",
       "    <tr>\n",
       "      <th>93</th>\n",
       "      <td>136807</td>\n",
       "      <td>EGO</td>\n",
       "      <td>464274.0</td>\n",
       "      <td>820880.347222</td>\n",
       "      <td>3</td>\n",
       "      <td>2017-02-23 09:28:00+00:00</td>\n",
       "      <td>9</td>\n",
       "      <td>70</td>\n",
       "      <td>66</td>\n",
       "    </tr>\n",
       "    <tr>\n",
       "      <th>68</th>\n",
       "      <td>136642</td>\n",
       "      <td>EGO</td>\n",
       "      <td>465608.0</td>\n",
       "      <td>820880.347222</td>\n",
       "      <td>0</td>\n",
       "      <td>2017-01-30 09:28:00+00:00</td>\n",
       "      <td>9</td>\n",
       "      <td>63</td>\n",
       "      <td>83</td>\n",
       "    </tr>\n",
       "    <tr>\n",
       "      <th>100</th>\n",
       "      <td>136844</td>\n",
       "      <td>EGO</td>\n",
       "      <td>508374.0</td>\n",
       "      <td>820880.347222</td>\n",
       "      <td>1</td>\n",
       "      <td>2017-02-28 09:26:00+00:00</td>\n",
       "      <td>9</td>\n",
       "      <td>85</td>\n",
       "      <td>50</td>\n",
       "    </tr>\n",
       "    <tr>\n",
       "      <th>107</th>\n",
       "      <td>136887</td>\n",
       "      <td>EGO</td>\n",
       "      <td>529808.0</td>\n",
       "      <td>820880.347222</td>\n",
       "      <td>4</td>\n",
       "      <td>2017-01-20 09:30:00+00:00</td>\n",
       "      <td>9</td>\n",
       "      <td>82</td>\n",
       "      <td>66</td>\n",
       "    </tr>\n",
       "    <tr>\n",
       "      <th>65</th>\n",
       "      <td>136620</td>\n",
       "      <td>EGO</td>\n",
       "      <td>548108.0</td>\n",
       "      <td>820880.347222</td>\n",
       "      <td>4</td>\n",
       "      <td>2017-02-17 09:30:00+00:00</td>\n",
       "      <td>9</td>\n",
       "      <td>82</td>\n",
       "      <td>75</td>\n",
       "    </tr>\n",
       "  </tbody>\n",
       "</table>\n",
       "</div>"
      ],
      "text/plain": [
       "     flight_id arrival_airport    profit   ideal_profit  \\\n",
       "93      136807             EGO  464274.0  820880.347222   \n",
       "68      136642             EGO  465608.0  820880.347222   \n",
       "100     136844             EGO  508374.0  820880.347222   \n",
       "107     136887             EGO  529808.0  820880.347222   \n",
       "65      136620             EGO  548108.0  820880.347222   \n",
       "\n",
       "     departure_day_of_week          actual_departure  departure_time  \\\n",
       "93                       3 2017-02-23 09:28:00+00:00               9   \n",
       "68                       0 2017-01-30 09:28:00+00:00               9   \n",
       "100                      1 2017-02-28 09:26:00+00:00               9   \n",
       "107                      4 2017-01-20 09:30:00+00:00               9   \n",
       "65                       4 2017-02-17 09:30:00+00:00               9   \n",
       "\n",
       "     economy_percent  business_percent  \n",
       "93                70                66  \n",
       "68                63                83  \n",
       "100               85                50  \n",
       "107               82                66  \n",
       "65                82                75  "
      ]
     },
     "execution_count": 125,
     "metadata": {},
     "output_type": "execute_result"
    }
   ],
   "source": [
    "airport_profit_sorted_EGO.loc[(airport_profit_sorted_EGO['departure_day_of_week'].isin([0, 1, 3, 4])) & (\n",
    "    airport_profit_sorted_EGO['profit'] < airport_profit_sorted_EGO['profit'].quantile(0.25))].head(5)"
   ]
  },
  {
   "cell_type": "markdown",
   "metadata": {},
   "source": [
    "# Выводы"
   ]
  },
  {
   "cell_type": "markdown",
   "metadata": {},
   "source": [
    "## Итерация 1"
   ]
  },
  {
   "cell_type": "markdown",
   "metadata": {},
   "source": [
    "Кандидатами на вылет у нас становятся рейсы 136807 на Белгород и 136464 на Москву. Проверим их на относительную прибыль:"
   ]
  },
  {
   "cell_type": "code",
   "execution_count": 62,
   "metadata": {},
   "outputs": [
    {
     "name": "stdout",
     "output_type": "stream",
     "text": [
      "Относительная прибыль самого убыточного рейса на Москву приблизительно равна 70%, а на Белгород - 66%\n"
     ]
    }
   ],
   "source": [
    "percent_profit_flight_msk = round(int(airport_profit[airport_profit.flight_id == 136464]['profit'] /ideal_profit_msk*100))\n",
    "\n",
    "percent_profit_flight_blg = round(int(airport_profit[airport_profit.flight_id == 136807]['profit'] /ideal_profit_blg*100))\n",
    "\n",
    "print('Относительная прибыль самого убыточного рейса на Москву приблизительно равна {}%, а на Белгород - {}%'.format(\n",
    "    percent_profit_flight_msk, percent_profit_flight_blg))"
   ]
  },
  {
   "cell_type": "markdown",
   "metadata": {},
   "source": [
    "## Итерация 2"
   ]
  },
  {
   "cell_type": "markdown",
   "metadata": {},
   "source": [
    "Все-таки самым убыточным признан рейс на Белгород под номером 136807. Он и является зоной повышенного риска для компании."
   ]
  },
  {
   "cell_type": "markdown",
   "metadata": {},
   "source": [
    "# Дополнительные исследования"
   ]
  },
  {
   "cell_type": "markdown",
   "metadata": {},
   "source": [
    "В графиках была выдающаяся задержка рейса. Посмотрим на рейс, который так задержался"
   ]
  },
  {
   "cell_type": "code",
   "execution_count": 128,
   "metadata": {},
   "outputs": [
    {
     "data": {
      "text/plain": [
       "count    118.000000\n",
       "mean       7.771186\n",
       "std       29.560140\n",
       "min        0.000000\n",
       "25%        2.000000\n",
       "50%        3.000000\n",
       "75%        4.000000\n",
       "max      207.000000\n",
       "Name: delay, dtype: float64"
      ]
     },
     "execution_count": 128,
     "metadata": {},
     "output_type": "execute_result"
    },
    {
     "data": {
      "image/png": "[encoded data removed]",
      "text/plain": [
       "<Figure size 432x288 with 1 Axes>"
      ]
     },
     "metadata": {
      "needs_background": "light"
     },
     "output_type": "display_data"
    }
   ],
   "source": [
    "flight.delay.hist(bins=15)\n",
    "flight.delay.describe()"
   ]
  },
  {
   "cell_type": "code",
   "execution_count": 129,
   "metadata": {},
   "outputs": [
    {
     "data": {
      "text/html": [
       "<div>\n",
       "<style scoped>\n",
       "    .dataframe tbody tr th:only-of-type {\n",
       "        vertical-align: middle;\n",
       "    }\n",
       "\n",
       "    .dataframe tbody tr th {\n",
       "        vertical-align: top;\n",
       "    }\n",
       "\n",
       "    .dataframe thead th {\n",
       "        text-align: right;\n",
       "    }\n",
       "</style>\n",
       "<table border=\"1\" class=\"dataframe\">\n",
       "  <thead>\n",
       "    <tr style=\"text-align: right;\">\n",
       "      <th></th>\n",
       "      <th>flight_id</th>\n",
       "      <th>delay</th>\n",
       "    </tr>\n",
       "  </thead>\n",
       "  <tbody>\n",
       "    <tr>\n",
       "      <th>35</th>\n",
       "      <td>136345</td>\n",
       "      <td>207.0</td>\n",
       "    </tr>\n",
       "    <tr>\n",
       "      <th>67</th>\n",
       "      <td>136632</td>\n",
       "      <td>197.0</td>\n",
       "    </tr>\n",
       "    <tr>\n",
       "      <th>101</th>\n",
       "      <td>136855</td>\n",
       "      <td>162.0</td>\n",
       "    </tr>\n",
       "    <tr>\n",
       "      <th>117</th>\n",
       "      <td>136956</td>\n",
       "      <td>8.0</td>\n",
       "    </tr>\n",
       "    <tr>\n",
       "      <th>25</th>\n",
       "      <td>136269</td>\n",
       "      <td>8.0</td>\n",
       "    </tr>\n",
       "  </tbody>\n",
       "</table>\n",
       "</div>"
      ],
      "text/plain": [
       "     flight_id  delay\n",
       "35      136345  207.0\n",
       "67      136632  197.0\n",
       "101     136855  162.0\n",
       "117     136956    8.0\n",
       "25      136269    8.0"
      ]
     },
     "execution_count": 129,
     "metadata": {},
     "output_type": "execute_result"
    }
   ],
   "source": [
    "flight.loc[flight['delay'] > flight['delay'].quantile(0.75)].sort_values(by = 'delay', ascending = False)[['flight_id', 'delay']].head(5)"
   ]
  },
  {
   "cell_type": "markdown",
   "metadata": {},
   "source": [
    "Мы видим три рейса с аномальными значениями задержки. Хорошо бы для полноты картины узнать, что произошло, и выплачивали ли какие-то компенсации пассажирам этих рейсов."
   ]
  },
  {
   "cell_type": "markdown",
   "metadata": {},
   "source": [
    "# Аналитическая записка"
   ]
  },
  {
   "cell_type": "markdown",
   "metadata": {},
   "source": [
    "## Затраты на рейс складываются из:\n",
    "\n",
    "твердых затрат (не зависят от количества летных часов)\n",
    "- повременная часть заработной платы экипажа;\n",
    "- расходы на экипаж (форма, бортовое питание);\n",
    "- стоянка самолета (взлет и посадка (аренда трапов, проезд по рулевым дорожкам), сверхнормативная стоянка, аренда стоек в аэропорту, использование терминалов и сервисов аэропорта)\n",
    "- постоянные расходы на пассажиров (пледы-подушки, рекламно-сувенирная продукция)\n",
    "- аэропортовые сборы (метеообеспечение, обеспечение авиационной безопасности)\n",
    "\n",
    "операционных и эксплуатационных расходов (рассчитываются исходя из количества летных часов) \n",
    "- топливо; \n",
    "- спецжидкости, масла;\n",
    "- техническое обслуживание самолета (плановое ТО, интенсивный ремонт); \n",
    "- сдельная часть зарплаты экипажа;\n",
    "- аэронавигация;\n",
    "- некоторые виды страхования;\n",
    "- переменные расходы на пассажиров (питание (эконом, бизнес-класс, спецпитание, напитки), санитарно-гигиенические принадлежности) \n",
    "\n",
    "форс-мажоров\n",
    "\n",
    "- срочный ремонт;\n",
    "- компенсации за задержку рейсов;\n",
    "- экстренная посадка.\n",
    "\n",
    "Прочие расходы, в том числе административные, лизинговые, амортизационные, налоги, страховки\n",
    "\n",
    "\n",
    "## Доходы от рейса складываются из:\n",
    "\n",
    "- продажи билетов;\n",
    "- платных услуг (сверхнормативный багаж, совместная рассадка)\n",
    "- продажа напитков, дополнительного питания, сувениров\n",
    "\n",
    "## Дополнительная экономия на рейсе:\n",
    "\n",
    "- аренда дальних стоянок;\n",
    "- использование автобуса вместо трапа.\n",
    "\n",
    "## Прочее:\n",
    "\n",
    "Пассажиры могут оплачивать часть стоимости билетов милями или другими бонусами\n",
    "\n",
    "\n",
    "## Наиболее крупные группы затрат авиакомпаний непосредственно на рейс:\n",
    "\n",
    "Топливо и прочие ГСМ: от 29 до 34%\n",
    "Зарплата экипажа: 20%\n",
    "Ремонт и ТО: 11%\n",
    "\n",
    "## NB:\n",
    "Отмена рейса должна сопровождаться перекидыванием воздушного судна на другое направление, так как простой самолета обходится ненамного дешевле, чем его эксплуатация (дополнительная парковка, ТО в период простоя, доставка самолета к месту парковки и так далее). Поэтому целесообразно одновременно провести анализ более перспективных направлений, на одно из которых можно перенаправить освободившийся борт.\n",
    "\n",
    "\n",
    "## О текущем исследовании\n",
    "\n",
    "В настоящем исследовании прибыль сведена к разности между стоимостью проданных билетов и стоимостью потраченного на полет топлива (от взлета до посадки - затраты на рулежные дорожки мы во внимание не принимаем).\n",
    "\n",
    "Остальные доходы и затраты признаны по условиям задачи константами, которые на оценку прибыльности не влияют.\n",
    "\n",
    "Для дополнительной глубины анализа введен параметр идеальной прибыли. По-хорошему ее надо бы рассчитывать для полностью загруженного самолета, вылетевшего и прилетевшего в точности по расписанию, однако более простой приблизительной оценкой будет средняя прибыль всех рейсов, заполненных на 100% (по направлениям).\n",
    "\n",
    "Источники информации: https://bricsmagazine.com/ru/articles/ekonomika-poleta\n",
    "https://www.airsoft-bit.ru/airport/124-polet-tasks\n",
    "https://aviav.ru/kak-opredelyaetsya-tsena-bileta-na-samolet.html\n",
    "https://studref.com/305952/ekonomika/metod_rascheta_sebestoimosti_aviaperevozok_opredeleniya_finansovogo_rezultata_summam_pokrytiya"
   ]
  },
  {
   "cell_type": "code",
   "execution_count": null,
   "metadata": {},
   "outputs": [],
   "source": []
  }
 ],
 "metadata": {
  "kernelspec": {
   "display_name": "Python 3",
   "language": "python",
   "name": "python3"
  },
  "language_info": {
   "codemirror_mode": {
    "name": "ipython",
    "version": 3
   },
   "file_extension": ".py",
   "mimetype": "text/x-python",
   "name": "python",
   "nbconvert_exporter": "python",
   "pygments_lexer": "ipython3",
   "version": "3.8.5"
  }
 },
 "nbformat": 4,
 "nbformat_minor": 4
}
