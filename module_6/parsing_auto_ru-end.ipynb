{
 "cells": [
  {
   "cell_type": "markdown",
   "metadata": {},
   "source": [
    "Источник:\n",
    "\n",
    "https://github.com/dst10rds6/rds6/blob/master/kaggle/kaggle_rds6_Car%20Price%20prediction_v3.ipynb"
   ]
  },
  {
   "cell_type": "code",
   "execution_count": 1,
   "metadata": {},
   "outputs": [],
   "source": [
    "import pandas as pd\n",
    "import requests, json\n",
    "import time\n",
    "\n"
   ]
  },
  {
   "cell_type": "code",
   "execution_count": 2,
   "metadata": {},
   "outputs": [
    {
     "name": "stdout",
     "output_type": "stream",
     "text": [
      "Кол-во марок:  262\n"
     ]
    },
    {
     "data": {
      "text/html": [
       "<div>\n",
       "<style scoped>\n",
       "    .dataframe tbody tr th:only-of-type {\n",
       "        vertical-align: middle;\n",
       "    }\n",
       "\n",
       "    .dataframe tbody tr th {\n",
       "        vertical-align: top;\n",
       "    }\n",
       "\n",
       "    .dataframe thead th {\n",
       "        text-align: right;\n",
       "    }\n",
       "</style>\n",
       "<table border=\"1\" class=\"dataframe\">\n",
       "  <thead>\n",
       "    <tr style=\"text-align: right;\">\n",
       "      <th></th>\n",
       "      <th>Models</th>\n",
       "    </tr>\n",
       "    <tr>\n",
       "      <th>Mark</th>\n",
       "      <th></th>\n",
       "    </tr>\n",
       "  </thead>\n",
       "  <tbody>\n",
       "    <tr>\n",
       "      <th>AC</th>\n",
       "      <td>['378_GT', 'ACE', 'ACECA', 'COBRA']</td>\n",
       "    </tr>\n",
       "    <tr>\n",
       "      <th>ACURA</th>\n",
       "      <td>['CL', 'CSX', 'EL', 'ILX', 'INTEGRA', 'LEGEND'...</td>\n",
       "    </tr>\n",
       "  </tbody>\n",
       "</table>\n",
       "</div>"
      ],
      "text/plain": [
       "                                                  Models\n",
       "Mark                                                    \n",
       "AC                   ['378_GT', 'ACE', 'ACECA', 'COBRA']\n",
       "ACURA  ['CL', 'CSX', 'EL', 'ILX', 'INTEGRA', 'LEGEND'..."
      ]
     },
     "metadata": {},
     "output_type": "display_data"
    }
   ],
   "source": [
    "df_marks_and_models = pd.read_csv('all_car_brands_and_their_models_from_auto_ru.csv', index_col=0)\n",
    "print('Кол-во марок: ', df_marks_and_models.shape[0])\n",
    "display(df_marks_and_models.head(2))"
   ]
  },
  {
   "cell_type": "code",
   "execution_count": 3,
   "metadata": {},
   "outputs": [],
   "source": [
    "dict_of_num_cars_of_models ={'AC':2, 'Acura':94, 'Alfa Romeo':65, 'Alpina':10, \n",
    "                             'AMC':2, 'Ariel':1, 'Asia':1, 'Aston Martin':25, \n",
    "                             'Audi':4093, 'Austin Healey':1, 'Bajaj':3, \n",
    "                             'Bentley':104, 'BMW':7423, 'Borgward':1, \n",
    "                             'Brilliance':10, 'Buick':17, 'BYD':22, \n",
    "                             'Cadillac':321, 'Changan':100, 'Chery':593, \n",
    "                             'Chevrolet':3670, 'Chrysler':316, 'Citroen':1142, \n",
    "                             'Dacia':9, 'Daewoo':1024, 'Daihatsu':47, \n",
    "                             'Daimler':5, 'Datsun':212, 'Delage':1, 'Derways':2, \n",
    "                             'DKW':1, 'Dodge':413, 'DongFeng':25, 'Doninvest':2, \n",
    "                             'DS':3, 'DW Hower':8, 'Eagle':1, 'Excalibur':1, \n",
    "                             'FAW':66, 'Ferrari':29, 'Fiat':206, 'Ford':4812, \n",
    "                             'Foton':2, 'GAC':14, 'Geely':302, 'Genesis':54, \n",
    "                             'GMC':26, 'Great Wall':420, 'Hafei':6, 'Haima':12, \n",
    "                             'Haval':110, 'Hawtai':4, 'Heinkel':1, 'Honda':1179, \n",
    "                             'HuangHai':1, 'Hummer':70, 'Hyundai':5712, \n",
    "                             'Infiniti':1041, 'Innocenti':1, 'Iran Khodro':21, \n",
    "                             'Isuzu':43, 'JAC':8, 'Jaguar':308, 'Jeep':466, 'JMC':1, \n",
    "                             'Kia':5595, 'LADA (ВАЗ)':8935, 'Lamborghini':14, \n",
    "                             'Lancia':8, 'Land Rover':1616, 'Lexus':985, \n",
    "                             'Lifan':295, 'Lincoln':62, 'Lotus':1, 'Luxgen':9, \n",
    "                             'Mahindra':1, 'Maserati':54, 'Maybach':7, \n",
    "                             'Mazda':2311, 'McLaren':5, 'Mercedes-Benz':8005, \n",
    "                             'Mercury':16, 'Metrocab':2, 'MG':10, 'MINI':313, \n",
    "                             'Mitsubishi':3935, 'Mitsuoka':3, 'Nissan':5776, \n",
    "                             'Oldsmobile':10, 'Opel':3131, 'Packard':2, \n",
    "                             'Peugeot':1636, 'Plymouth':13, 'Pontiac':38, \n",
    "                             'Porsche':714, 'Proton':3, 'PUCH':1, 'Ravon':112, \n",
    "                             'Renault':2771, 'Rolls-Royce':55, 'Rover':69, \n",
    "                             'Saab':147, 'Saturn':9, 'Scion':9, 'SEAT':77, \n",
    "                             'Shanghai Maple':1, 'Skoda':2810, 'Smart':89, \n",
    "                             'SsangYong':718, 'Subaru':934, 'Suzuki':878, \n",
    "                             'Tatra':5, 'Tesla':43, 'Tianma':2, 'Toyota':4648, \n",
    "                             'Triumph':1, 'Vauxhall':1, 'Volkswagen':7109, \n",
    "                             'Volvo':2069, 'Vortex':91, 'Wartburg':1, 'Willys':2, \n",
    "                             'Zotye':15, 'ZX':4, 'ГАЗ':935, 'Гоночный болид':2, \n",
    "                             'ЗАЗ':231, 'ЗИЛ':2, 'ИЖ':129, 'ЛуАЗ':45, \n",
    "                             'Москвич':198, 'СМЗ':4, 'ТагАЗ':68, 'УАЗ':1107}"
   ]
  },
  {
   "cell_type": "code",
   "execution_count": 4,
   "metadata": {},
   "outputs": [],
   "source": [
    "# уберем модели с кол-вом объявлений ниже 300 и повысим регистр индексов \n",
    "list_keys_to_delete = []\n",
    "for mark in dict_of_num_cars_of_models.keys():\n",
    "    if dict_of_num_cars_of_models[mark] < 300:\n",
    "        list_keys_to_delete.append(mark)\n",
    "    \n",
    "for key in list_keys_to_delete: del dict_of_num_cars_of_models[key]\n",
    "\n",
    "for mark in list(dict_of_num_cars_of_models.keys()):\n",
    "    mark_up = mark.upper()\n",
    "    dict_of_num_cars_of_models[mark_up]=dict_of_num_cars_of_models.pop(mark)"
   ]
  },
  {
   "cell_type": "code",
   "execution_count": 5,
   "metadata": {},
   "outputs": [
    {
     "name": "stdout",
     "output_type": "stream",
     "text": [
      "AUDI,BMW,CADILLAC,CHERY,CHEVROLET,CHRYSLER,CITROEN,DAEWOO,DODGE,FORD,GEELY,GREAT WALL,HONDA,HYUNDAI,INFINITI,JAGUAR,JEEP,KIA,LADA (ВАЗ),LAND ROVER,LEXUS,MAZDA,MERCEDES-BENZ,MINI,MITSUBISHI,NISSAN,OPEL,PEUGEOT,PORSCHE,RENAULT,SKODA,SSANGYONG,SUBARU,SUZUKI,TOYOTA,VOLKSWAGEN,VOLVO,ГАЗ,УАЗ\n"
     ]
    }
   ],
   "source": [
    "# посмотрим на список получившихся моделей\n",
    "print(*dict_of_num_cars_of_models, sep=',')"
   ]
  },
  {
   "cell_type": "code",
   "execution_count": 6,
   "metadata": {},
   "outputs": [],
   "source": [
    "# Удалим отечественные модели\n",
    "for key in ['LADA (ВАЗ)','ГАЗ','УАЗ']: del dict_of_num_cars_of_models[key]"
   ]
  },
  {
   "cell_type": "code",
   "execution_count": 7,
   "metadata": {},
   "outputs": [
    {
     "name": "stdout",
     "output_type": "stream",
     "text": [
      "всего марок с кол-вом объявлений более 300:= 36\n",
      "список марок, которые нужно проверить := GREAT WALL LAND ROVER MERCEDES-BENZ SSANGYONG\n"
     ]
    }
   ],
   "source": [
    "# проверим что названия моделей совпадаю с названиями каталога сайта auto.Ru\n",
    "list_marks_df = list(df_marks_and_models.index)\n",
    "list_marks_to_check = []\n",
    "for mark in dict_of_num_cars_of_models.keys():\n",
    "    if mark not in list_marks_df:\n",
    "        list_marks_to_check.append(mark)\n",
    "print(f'всего марок с кол-вом объявлений более 300:= {len(dict_of_num_cars_of_models)}')\n",
    "print('список марок, которые нужно проверить :=', *list_marks_to_check)"
   ]
  },
  {
   "cell_type": "code",
   "execution_count": 10,
   "metadata": {},
   "outputs": [
    {
     "data": {
      "text/plain": [
       "420"
      ]
     },
     "execution_count": 10,
     "metadata": {},
     "output_type": "execute_result"
    }
   ],
   "source": [
    "dict_of_num_cars_of_models['GREAT WALL']"
   ]
  },
  {
   "cell_type": "code",
   "execution_count": 8,
   "metadata": {},
   "outputs": [],
   "source": [
    "# исправим несоответствия\n",
    "dict_of_num_cars_of_models['GREAT_WALL']=dict_of_num_cars_of_models.pop('GREAT WALL')\n",
    "dict_of_num_cars_of_models['LAND_ROVER']=dict_of_num_cars_of_models.pop('LAND ROVER')\n",
    "dict_of_num_cars_of_models['MERCEDES']=dict_of_num_cars_of_models.pop('MERCEDES-BENZ')\n",
    "dict_of_num_cars_of_models['SSANG_YONG']=dict_of_num_cars_of_models.pop('SSANGYONG')"
   ]
  },
  {
   "cell_type": "code",
   "execution_count": 9,
   "metadata": {},
   "outputs": [
    {
     "name": "stdout",
     "output_type": "stream",
     "text": [
      "всего марок с кол-вом объявлений более 300 := 36\n",
      "список марок, которые нужно проверить :=\n"
     ]
    }
   ],
   "source": [
    "# еще раз проверим что названия моделей совпадаю с названиями каталога сайта auto.Ru\n",
    "list_marks_df = list(df_marks_and_models.index)\n",
    "list_marks_to_check = []\n",
    "for mark in dict_of_num_cars_of_models.keys():\n",
    "    if mark not in list_marks_df:\n",
    "        list_marks_to_check.append(mark)\n",
    "print(f'всего марок с кол-вом объявлений более 300 := {len(dict_of_num_cars_of_models)}')\n",
    "print('список марок, которые нужно проверить :=', *list_marks_to_check)"
   ]
  },
  {
   "cell_type": "code",
   "execution_count": 10,
   "metadata": {},
   "outputs": [],
   "source": [
    "# запишем список релевантных марок для парсинга\n",
    "list_of_relevant_marks = list(dict_of_num_cars_of_models.keys())"
   ]
  },
  {
   "cell_type": "code",
   "execution_count": 11,
   "metadata": {},
   "outputs": [
    {
     "name": "stdout",
     "output_type": "stream",
     "text": [
      "примерное кол-во строк после парсинга должно быть := 89189\n"
     ]
    }
   ],
   "source": [
    "sum_of_ads = sum(dict_of_num_cars_of_models.values())\n",
    "print(f\"примерное кол-во строк после парсинга должно быть := {sum_of_ads}\")"
   ]
  },
  {
   "cell_type": "markdown",
   "metadata": {},
   "source": [
    "3. Подготовка к парсингу"
   ]
  },
  {
   "cell_type": "code",
   "execution_count": 12,
   "metadata": {},
   "outputs": [],
   "source": [
    "HEADERS = {\n",
    "    'Accept': '*/*',\n",
    "    'Accept-Encoding': 'gzip, deflate, br',\n",
    "    'Accept-Language': 'ru-RU,ru;q=0.8,en-US;q=0.5,en;q=0.3',\n",
    "    'Connection': 'keep-alive',\n",
    "    'Content-Length': '137',\n",
    "    'content-type': 'application/json',\n",
    "    'Cookie': '_csrf_token=1c0ed592ec162073ac34d79ce511f0e50d195f763abd8c24; autoru_sid=a%3Ag5e3b198b299o5jhpv6nlk0ro4daqbpf.fa3630dbc880ea80147c661111fb3270%7C1580931467355.604800.8HnYnADZ6dSuzP1gctE0Fw.cd59AHgDSjoJxSYHCHfDUoj-f2orbR5pKj6U0ddu1G4; autoruuid=g5e3b198b299o5jhpv6nlk0ro4daqbpf.fa3630dbc880ea80147c661111fb3270; suid=48a075680eac323f3f9ad5304157467a.bc50c5bde34519f174ccdba0bd791787; from_lifetime=1580933172327; from=yandex; X-Vertis-DC=myt; crookie=bp+bI7U7P7sm6q0mpUwAgWZrbzx3jePMKp8OPHqMwu9FdPseXCTs3bUqyAjp1fRRTDJ9Z5RZEdQLKToDLIpc7dWxb90=; cmtchd=MTU4MDkzMTQ3MjU0NQ==; yandexuid=1758388111580931457; bltsr=1; ',\n",
    "    'Host': 'auto.ru',\n",
    "    'origin': 'https://auto.ru/cars/all/',\n",
    "    'Referer': 'https://auto.ru/cars/all/',\n",
    "    'User-Agent': 'Mozilla/5.0 (Windows NT 10.0; Win64; x64; rv:72.0) Gecko/20100101 Firefox/72.0',\n",
    "    'x-client-app-version': '202002.03.092255',\n",
    "    'x-client-date': '1580933207763',\n",
    "    'x-csrf-token': '1c0ed592ec162073ac34d79ce511f0e50d195f763abd8c24',\n",
    "    'x-page-request-id': '60142cd4f0c0edf51f96fd0134c6f02a',\n",
    "    'x-requested-with': 'fetch'\n",
    "}"
   ]
  },
  {
   "cell_type": "code",
   "execution_count": 13,
   "metadata": {},
   "outputs": [],
   "source": [
    "url = \"https://auto.ru/-/ajax/desktop/listing/\""
   ]
  },
  {
   "cell_type": "code",
   "execution_count": 14,
   "metadata": {},
   "outputs": [
    {
     "name": "stdout",
     "output_type": "stream",
     "text": [
      "{'availability': 'IN_STOCK', 'category': 'cars', 'color_hex': 'FAFBFB', 'delivery_info': {}, 'description': 'Продаю бурную эмоцию, легендарный V10! \\nПолностью обслужен! Автомобиль в достойном состоянии, не стыдно показывать!подвеска, мотор, коробка без каких либо нареканий!!!!!\\nНа 134 тысячах поставил новое сцепление в сборе с выжемным, корзиной, а так же маховиком, новый гидроаккумулятор. Заменил масло в коробке. Делал в raceport. На все работы имеются документы. Поставил новую рулевую рейку! В прошлом сезоне заменил тормозные диски по кругу. Все только оригинал! Ни одного ДТП!!! \\nГотов на любые проверки за ваш счёт! Комплектация полная, бесключевой доступ, активный круизконтроль, доводчики, проекция, Музыка индивидуал. В салон не поставлю!!!!!!!!!!!!!!!!!!!!!!!', 'discount_options': {}, 'documents': {'owners_number': 4, 'custom_cleared': True, 'year': 2008, 'vin': 'WBS**************', 'pts': 'DUPLICATE', 'license_plate': '******|797', 'vin_resolution': 'OK'}, 'is_favorite': False, 'old_category_id': 15, 'owner_expenses': {'transport_tax': {'tax_by_year': 76050, 'year': 2021, 'rid': 213, 'rate': 150, 'horse_power': 507, 'holding_period_month': 12, 'boost': 1}, 'osago_insurance': [{'insurance_company': 'TINKOFF', 'price': 6309}]}, 'score': {'transparency': 82, 'price': 0.5, 'health': 73}, 'section': 'used', 'seller_type': 'PRIVATE', 'shark_info': {'suitable_credit_product_ids': ['alfabank-1', 'tinkoff-1', 'gazprombank-1', 'raiffeisen-1', 'vtb-1', 'rosgosstrah-1'], 'precondition': {'interest_rate': 6.5, 'terms_months': 60, 'monthly_payment': '26023'}}, 'status': 'ACTIVE', 'tags': ['proven_owner', 'big', 'prestige', 'comfort', 'allowed_for_credit', 'fast', 'vin_offers_history', 'options', 'available_for_checkup', 'style', 'handling', 'vin_resolution_ok', 'vin_checked', 'sport', 'no_accidents', 'equitable_price', 'withNumericFeaturePairs'], 'relevance': {'catboost_relevance_offline': 0.004474128067560324, 'catboost_relevance_online': 0.5546913930410896, 'fresh_relevance1': '42350000', 'fresh_date': '1624915430000', 'catboost_relevance_offline_boosted': 0.004474128067560324, 'catboost_relevance_online_boosted': 0.5546913930410896, 'auction_model_value': 0.5546913930410896}, 'additional_info': {'hidden': False, 'is_on_moderation': False, 'not_disturb': True, 'update_date': '1625933040000', 'creation_date': '1624915430000', 'mobile_autoservices_url': 'https://m.auto.ru/autoservice/all_works/BMW/?geo_id=213', 'hot_info': {'is_hot': False, 'start_time': '2021-06-28T21:23:50Z', 'end_time': '2021-06-28T21:23:50Z'}, 'fresh_date': '1624915430000', 'counters_start_date': '1624915430000', 'chat_only': False, 'dealer_card_promo': 'DONT_SHOW', 'review_summary': {'avg_rating': 4.5, 'counter': 6}, 'price_stats': {}, 'booking': {}, 'days_in_stock': 20, 'days_on_sale': 20, 'can_view': False}, 'counters': {}, 'grouping_info': None, 'hash': '79b487c8', 'id': '1104086930', 'price_info': {'price': 1330000, 'currency': 'RUR', 'EUR': 15188, 'RUR': 1330000, 'USD': 17933, 'with_nds': False}, 'price_history': [{'EUR': 15188, 'RUR': 1330000, 'USD': 17933, 'create_timestamp': 1625092608000}], 'recall_info': {}, 'saleId': '1104086930-79b487c8', 'salon': None, 'seller': {'location': {'address': 'Житная улица, 12А', 'coord': {'latitude': 55.753216, 'longitude': 37.622505}, 'geobase_id': '213', 'region_info': {'id': '213', 'name': 'Москва', 'genitive': 'Москвы', 'dative': 'Москве', 'accusative': 'Москву', 'prepositional': 'Москве', 'preposition': 'в', 'latitude': 55.753215, 'longitude': 37.622504, 'parent_ids': ['213', '1', '3', '225', '10001', '10000']}, 'timezone_info': {'name': 'Europe/Moscow', 'abbr': '', 'offset': 0, 'dst': False}}, 'name': 'id67361368', 'phones': [], 'redirect_phones': True, 'chats_enabled': True, 'call_hours': {'call_hour_start': 10, 'call_hour_end': 0, 'call_minute_end': 0, 'call_minute_start': 0}}, 'service_prices': [], 'services': [], 'state': {'mileage': 137000, 'state_not_beaten': True, 'image_urls': [{'sizes': {'small': '//avatars.mds.yandex.net/get-autoru-vos/5361123/0d4650cdb0a16aa6991fd05143b35577/small', 'thumb_m': '//avatars.mds.yandex.net/get-autoru-vos/5361123/0d4650cdb0a16aa6991fd05143b35577/thumb_m', '320x240': '//avatars.mds.yandex.net/get-autoru-vos/5361123/0d4650cdb0a16aa6991fd05143b35577/320x240', '456x342': '//avatars.mds.yandex.net/get-autoru-vos/5361123/0d4650cdb0a16aa6991fd05143b35577/456x342', '456x342n': '//avatars.mds.yandex.net/get-autoru-vos/5361123/0d4650cdb0a16aa6991fd05143b35577/456x342n', '1200x900': '//avatars.mds.yandex.net/get-autoru-vos/5361123/0d4650cdb0a16aa6991fd05143b35577/1200x900', '1200x900n': '//avatars.mds.yandex.net/get-autoru-vos/5361123/0d4650cdb0a16aa6991fd05143b35577/1200x900n'}, 'photo_class': 'AUTO_VIEW_3_4_FRONT_RIGHT', 'preview': 'data:image/jpeg;base64,/9j/4AAQSkZJRgABAgAAAQABAAD/2wBDAAMCAgMCAgMDAwMEAwMEBQgFBQQEBQoHBwYIDAoMDAsKCwsNDhIQDQ4RDgsLEBYQERMUFRUVDA8XGBYUGBIUFRT/2wBDAQMEBAUEBQkFBQkUDQsNFBQUFBQUFBQUFBQUFBQUFBQUFBQUFBQUFBQUFBQUFBQUFBQUFBQUFBQUFBQUFBQUFBT/wAARCAASABgDASIAAhEBAxEB/8QAHwAAAQUBAQEBAQEAAAAAAAAAAAECAwQFBgcICQoL/8QAtRAAAgEDAwIEAwUFBAQAAAF9AQIDAAQRBRIhMUEGE1FhByJxFDKBkaEII0KxwRVS0fAkM2JyggkKFhcYGRolJicoKSo0NTY3ODk6Q0RFRkdISUpTVFVWV1hZWmNkZWZnaGlqc3R1dnd4eXqDhIWGh4iJipKTlJWWl5iZmqKjpKWmp6ipqrKztLW2t7i5usLDxMXGx8jJytLT1NXW19jZ2uHi4+Tl5ufo6erx8vP09fb3+Pn6/8QAHwEAAwEBAQEBAQEBAQAAAAAAAAECAwQFBgcICQoL/8QAtREAAgECBAQDBAcFBAQAAQJ3AAECAxEEBSExBhJBUQdhcRMiMoEIFEKRobHBCSMzUvAVYnLRChYkNOEl8RcYGRomJygpKjU2Nzg5OkNERUZHSElKU1RVVldYWVpjZGVmZ2hpanN0dXZ3eHl6goOEhYaHiImKkpOUlZaXmJmaoqOkpaanqKmqsrO0tba3uLm6wsPExcbHyMnK0tPU1dbX2Nna4uPk5ebn6Onq8vP09fb3+Pn6/9oADAMBAAIRAxEAPwCl+yt4s8beKvgro/hDTdLsJrOzlljn1C41EQSRqJpG27Cjk8TEg4x0Fe52vw21iy07zdc1nSbB3dUjkilwI2JOxNzjErEkc7V5xha+Rvhx4b1Xw9FFr2leE9P1O3uIri1Iu0ENysT8sN2xiyksDjK8cdDWv8SdF1/x/p/gOystPHhrStBu2vr2GWVm+0XAKFCq7mJChXA3NkBziqo0qDjzNavU5p1araSZ6F8TvDXifwwLw65r1tqekSsI9O0/TpHFzcEKTIGRsRhQAcNu7jI6ZKfDo1zN4cvPGfiS5l1W+mc6fprXbcBmIMrIgAVVAXHygDd7iis506bfuo1hOaXvai/s+ky+CW3nfsvnRd3O1RFFgD29q7DxfEggfCKPl9KKKml8CJWxD8bo1h+Hvw3ijUJH9hkk2KMDcViJbHrkk596KKKtDP/Z'}, {'sizes': {'small': '//avatars.mds.yandex.net/get-autoru-vos/5235238/784df7eecf5dc1146897bd9c61bfa86e/small', 'thumb_m': '//avatars.mds.yandex.net/get-autoru-vos/5235238/784df7eecf5dc1146897bd9c61bfa86e/thumb_m', '320x240': '//avatars.mds.yandex.net/get-autoru-vos/5235238/784df7eecf5dc1146897bd9c61bfa86e/320x240', '456x342': '//avatars.mds.yandex.net/get-autoru-vos/5235238/784df7eecf5dc1146897bd9c61bfa86e/456x342', '456x342n': '//avatars.mds.yandex.net/get-autoru-vos/5235238/784df7eecf5dc1146897bd9c61bfa86e/456x342n', '1200x900': '//avatars.mds.yandex.net/get-autoru-vos/5235238/784df7eecf5dc1146897bd9c61bfa86e/1200x900', '1200x900n': '//avatars.mds.yandex.net/get-autoru-vos/5235238/784df7eecf5dc1146897bd9c61bfa86e/1200x900n'}, 'photo_class': 'AUTO_VIEW_3_4_FRONT_LEFT', 'preview': 'data:image/jpeg;base64,/9j/4AAQSkZJRgABAgAAAQABAAD/2wBDAAMCAgMCAgMDAwMEAwMEBQgFBQQEBQoHBwYIDAoMDAsKCwsNDhIQDQ4RDgsLEBYQERMUFRUVDA8XGBYUGBIUFRT/2wBDAQMEBAUEBQkFBQkUDQsNFBQUFBQUFBQUFBQUFBQUFBQUFBQUFBQUFBQUFBQUFBQUFBQUFBQUFBQUFBQUFBQUFBT/wAARCAASABgDASIAAhEBAxEB/8QAHwAAAQUBAQEBAQEAAAAAAAAAAAECAwQFBgcICQoL/8QAtRAAAgEDAwIEAwUFBAQAAAF9AQIDAAQRBRIhMUEGE1FhByJxFDKBkaEII0KxwRVS0fAkM2JyggkKFhcYGRolJicoKSo0NTY3ODk6Q0RFRkdISUpTVFVWV1hZWmNkZWZnaGlqc3R1dnd4eXqDhIWGh4iJipKTlJWWl5iZmqKjpKWmp6ipqrKztLW2t7i5usLDxMXGx8jJytLT1NXW19jZ2uHi4+Tl5ufo6erx8vP09fb3+Pn6/8QAHwEAAwEBAQEBAQEBAQAAAAAAAAECAwQFBgcICQoL/8QAtREAAgECBAQDBAcFBAQAAQJ3AAECAxEEBSExBhJBUQdhcRMiMoEIFEKRobHBCSMzUvAVYnLRChYkNOEl8RcYGRomJygpKjU2Nzg5OkNERUZHSElKU1RVVldYWVpjZGVmZ2hpanN0dXZ3eHl6goOEhYaHiImKkpOUlZaXmJmaoqOkpaanqKmqsrO0tba3uLm6wsPExcbHyMnK0tPU1dbX2Nna4uPk5ebn6Onq8vP09fb3+Pn6/9oADAMBAAIRAxEAPwDxT4NaFN4O8TTX3ifRbm2maeM2xkhZlAaIrIp6/Lubv6ZrN+yW3gm48d6drWlXstrqLvFZx+QzxxLubDDPyrztI289favbb39pnxN4Fubm61EWdhOZkCx6vZOYkh+YOqlSrK+SnzEtwCNpyceseDP2stF8ReH49Qn1rwxPf2+n3N3cWdpM/wA8kZbbGiscjdhQA+CxbKggjPmyXKuaS38zfd2ifKekeCrzwz+yx4usrm1u5YLkWs4uGt5BFI0n7yJY2YDJC4JA6Hp60V9UXvjm8+K/h3w0PEkAH2SzjluoPIXbNeGIB32k4VQS4C47546Arm+tJdDqjQlbc2/E6K9nIGUMNvQivHYoI11Y7Y1GW7KKKK4Y7HY9zu7JQsCYAHHaiiimB//Z'}, {'sizes': {'small': '//avatars.mds.yandex.net/get-autoru-vos/5232274/10788539990c17b6178a4322d5404a34/small', 'thumb_m': '//avatars.mds.yandex.net/get-autoru-vos/5232274/10788539990c17b6178a4322d5404a34/thumb_m', '320x240': '//avatars.mds.yandex.net/get-autoru-vos/5232274/10788539990c17b6178a4322d5404a34/320x240', '456x342': '//avatars.mds.yandex.net/get-autoru-vos/5232274/10788539990c17b6178a4322d5404a34/456x342', '456x342n': '//avatars.mds.yandex.net/get-autoru-vos/5232274/10788539990c17b6178a4322d5404a34/456x342n', '1200x900': '//avatars.mds.yandex.net/get-autoru-vos/5232274/10788539990c17b6178a4322d5404a34/1200x900', '1200x900n': '//avatars.mds.yandex.net/get-autoru-vos/5232274/10788539990c17b6178a4322d5404a34/1200x900n'}, 'photo_class': 'AUTO_VIEW_DISK_LEFT', 'preview': 'data:image/jpeg;base64,/9j/4AAQSkZJRgABAgAAAQABAAD/2wBDAAMCAgMCAgMDAwMEAwMEBQgFBQQEBQoHBwYIDAoMDAsKCwsNDhIQDQ4RDgsLEBYQERMUFRUVDA8XGBYUGBIUFRT/2wBDAQMEBAUEBQkFBQkUDQsNFBQUFBQUFBQUFBQUFBQUFBQUFBQUFBQUFBQUFBQUFBQUFBQUFBQUFBQUFBQUFBQUFBT/wAARCAASABgDASIAAhEBAxEB/8QAHwAAAQUBAQEBAQEAAAAAAAAAAAECAwQFBgcICQoL/8QAtRAAAgEDAwIEAwUFBAQAAAF9AQIDAAQRBRIhMUEGE1FhByJxFDKBkaEII0KxwRVS0fAkM2JyggkKFhcYGRolJicoKSo0NTY3ODk6Q0RFRkdISUpTVFVWV1hZWmNkZWZnaGlqc3R1dnd4eXqDhIWGh4iJipKTlJWWl5iZmqKjpKWmp6ipqrKztLW2t7i5usLDxMXGx8jJytLT1NXW19jZ2uHi4+Tl5ufo6erx8vP09fb3+Pn6/8QAHwEAAwEBAQEBAQEBAQAAAAAAAAECAwQFBgcICQoL/8QAtREAAgECBAQDBAcFBAQAAQJ3AAECAxEEBSExBhJBUQdhcRMiMoEIFEKRobHBCSMzUvAVYnLRChYkNOEl8RcYGRomJygpKjU2Nzg5OkNERUZHSElKU1RVVldYWVpjZGVmZ2hpanN0dXZ3eHl6goOEhYaHiImKkpOUlZaXmJmaoqOkpaanqKmqsrO0tba3uLm6wsPExcbHyMnK0tPU1dbX2Nna4uPk5ebn6Onq8vP09fb3+Pn6/9oADAMBAAIRAxEAPwDyr9krwf4zufF954tj0mbxbpmnxzWIhvb6OKL7Q6dWDsCwVSegbll6ckfRUHgHx28unva+EtMe1ljDXOdRaMwsCQQAzpuJGGyFwM45xk8Pa6/efDfxzeax4N8OWMmjXtnFbXmlJdSRM0kckriVHKFdxEpBBHbtmvN/2pPjrrWp6l4I1Lw1caz4Xn0yWWe6tZImiPmjYUJKEpKuAwHzd2yBuweGMFOykjrqSd24s+pbb4S6tcyzeboASCIK0DW1+spDA88Fj7EcetFZfjbxci6Z4c1ePWPEWmnXUinSTRI5p1hZkQ4bh0RfmH31I4PTmik8PF6qbRCqtaOCZx9goMjcCud+IGk2Op6Tcx3lnb3cYQsEniVwDzzgiiit2NHxp400uyttUeOK0gijVshEiUAfgBRRRQQj/9k='}, {'sizes': {'small': '//avatars.mds.yandex.net/get-autoru-vos/4473469/7028599a42e56506fba03fa18a46cbb5/small', 'thumb_m': '//avatars.mds.yandex.net/get-autoru-vos/4473469/7028599a42e56506fba03fa18a46cbb5/thumb_m', '320x240': '//avatars.mds.yandex.net/get-autoru-vos/4473469/7028599a42e56506fba03fa18a46cbb5/320x240', '456x342': '//avatars.mds.yandex.net/get-autoru-vos/4473469/7028599a42e56506fba03fa18a46cbb5/456x342', '456x342n': '//avatars.mds.yandex.net/get-autoru-vos/4473469/7028599a42e56506fba03fa18a46cbb5/456x342n', '1200x900': '//avatars.mds.yandex.net/get-autoru-vos/4473469/7028599a42e56506fba03fa18a46cbb5/1200x900', '1200x900n': '//avatars.mds.yandex.net/get-autoru-vos/4473469/7028599a42e56506fba03fa18a46cbb5/1200x900n'}, 'photo_class': 'AUTO_VIEW_3_4_BACK_LEFT', 'preview': 'data:image/jpeg;base64,/9j/4AAQSkZJRgABAgAAAQABAAD/2wBDAAMCAgMCAgMDAwMEAwMEBQgFBQQEBQoHBwYIDAoMDAsKCwsNDhIQDQ4RDgsLEBYQERMUFRUVDA8XGBYUGBIUFRT/2wBDAQMEBAUEBQkFBQkUDQsNFBQUFBQUFBQUFBQUFBQUFBQUFBQUFBQUFBQUFBQUFBQUFBQUFBQUFBQUFBQUFBQUFBT/wAARCAASABgDASIAAhEBAxEB/8QAHwAAAQUBAQEBAQEAAAAAAAAAAAECAwQFBgcICQoL/8QAtRAAAgEDAwIEAwUFBAQAAAF9AQIDAAQRBRIhMUEGE1FhByJxFDKBkaEII0KxwRVS0fAkM2JyggkKFhcYGRolJicoKSo0NTY3ODk6Q0RFRkdISUpTVFVWV1hZWmNkZWZnaGlqc3R1dnd4eXqDhIWGh4iJipKTlJWWl5iZmqKjpKWmp6ipqrKztLW2t7i5usLDxMXGx8jJytLT1NXW19jZ2uHi4+Tl5ufo6erx8vP09fb3+Pn6/8QAHwEAAwEBAQEBAQEBAQAAAAAAAAECAwQFBgcICQoL/8QAtREAAgECBAQDBAcFBAQAAQJ3AAECAxEEBSExBhJBUQdhcRMiMoEIFEKRobHBCSMzUvAVYnLRChYkNOEl8RcYGRomJygpKjU2Nzg5OkNERUZHSElKU1RVVldYWVpjZGVmZ2hpanN0dXZ3eHl6goOEhYaHiImKkpOUlZaXmJmaoqOkpaanqKmqsrO0tba3uLm6wsPExcbHyMnK0tPU1dbX2Nna4uPk5ebn6Onq8vP09fb3+Pn6/9oADAMBAAIRAxEAPwD4M8I+HNUnjjMCzeXOoxKYnMbDPYhTnBHbpX1f+zp4S8b/AAz1zRPiFaaN/wAJRoDSvZzJYWtxJPFnHmHy2iVgQpxuwRycZwcfR/wY+OPibwj4D0Tw/ruhXGuyaZAtqdRsbxTLMinCMYpAvzbdoPz8kE55rlPAP7Q9/fWninw18Y7LXbjN60tjNYadckPCzP8Auy1sOAuFIJP8XsK8KWI5rq34nXHCqMk5O3yPHPAXxA8UaD8Sb9/FPh280a61/V4JmllsXQW8DzEbQCNvyhgMMOB+dFafiP4pp4t8Ypp+jeDdTvba3fypptZ064W6mQNycsjcEDq+D680VhUpe1s9vmjaPuXS1+89c0slXTBx83auj1JQbZwQDz3oorje56Edi9cor+EtCnZQ05aaMykZYqpG1c9cDsO1FFFA0f/Z'}, {'sizes': {'small': '//avatars.mds.yandex.net/get-autoru-vos/5275337/bbe644a7d9b7fe95e5048e4c56b5e8bb/small', 'thumb_m': '//avatars.mds.yandex.net/get-autoru-vos/5275337/bbe644a7d9b7fe95e5048e4c56b5e8bb/thumb_m', '320x240': '//avatars.mds.yandex.net/get-autoru-vos/5275337/bbe644a7d9b7fe95e5048e4c56b5e8bb/320x240', '456x342': '//avatars.mds.yandex.net/get-autoru-vos/5275337/bbe644a7d9b7fe95e5048e4c56b5e8bb/456x342', '456x342n': '//avatars.mds.yandex.net/get-autoru-vos/5275337/bbe644a7d9b7fe95e5048e4c56b5e8bb/456x342n', '1200x900': '//avatars.mds.yandex.net/get-autoru-vos/5275337/bbe644a7d9b7fe95e5048e4c56b5e8bb/1200x900', '1200x900n': '//avatars.mds.yandex.net/get-autoru-vos/5275337/bbe644a7d9b7fe95e5048e4c56b5e8bb/1200x900n'}, 'photo_class': 'AUTO_VIEW_3_4_BACK_RIGHT', 'preview': 'data:image/jpeg;base64,/9j/4AAQSkZJRgABAgAAAQABAAD/2wBDAAMCAgMCAgMDAwMEAwMEBQgFBQQEBQoHBwYIDAoMDAsKCwsNDhIQDQ4RDgsLEBYQERMUFRUVDA8XGBYUGBIUFRT/2wBDAQMEBAUEBQkFBQkUDQsNFBQUFBQUFBQUFBQUFBQUFBQUFBQUFBQUFBQUFBQUFBQUFBQUFBQUFBQUFBQUFBQUFBT/wAARCAASABgDASIAAhEBAxEB/8QAHwAAAQUBAQEBAQEAAAAAAAAAAAECAwQFBgcICQoL/8QAtRAAAgEDAwIEAwUFBAQAAAF9AQIDAAQRBRIhMUEGE1FhByJxFDKBkaEII0KxwRVS0fAkM2JyggkKFhcYGRolJicoKSo0NTY3ODk6Q0RFRkdISUpTVFVWV1hZWmNkZWZnaGlqc3R1dnd4eXqDhIWGh4iJipKTlJWWl5iZmqKjpKWmp6ipqrKztLW2t7i5usLDxMXGx8jJytLT1NXW19jZ2uHi4+Tl5ufo6erx8vP09fb3+Pn6/8QAHwEAAwEBAQEBAQEBAQAAAAAAAAECAwQFBgcICQoL/8QAtREAAgECBAQDBAcFBAQAAQJ3AAECAxEEBSExBhJBUQdhcRMiMoEIFEKRobHBCSMzUvAVYnLRChYkNOEl8RcYGRomJygpKjU2Nzg5OkNERUZHSElKU1RVVldYWVpjZGVmZ2hpanN0dXZ3eHl6goOEhYaHiImKkpOUlZaXmJmaoqOkpaanqKmqsrO0tba3uLm6wsPExcbHyMnK0tPU1dbX2Nna4uPk5ebn6Onq8vP09fb3+Pn6/9oADAMBAAIRAxEAPwCe18d+JvFXw3vG+22b273yrpE8zARMkYBCsVJY4bI7cA+lbWl6R4y8fWmh6Fb3Gg6TMm4XNxcX5mS5QnLEQph8DJ4zg9CeawPiz4z1/wCE+jwXdvZ6HF4XtJEtVtd6LJGpP3/KkhAJJydqsfrjJHOfD/8Aat+F8d9PrGoWlwmqLIBEn9hxs67eVeNoo+AST95sgjtXl0q3O+a10d8qajo3Yb47fx3eR3tpffD/AFWO2tbe4t/7YljkVIghkKSqqllIIcfxnHPOKKr+Cvi78TfG/wAOdfsZ9MnkudfuruRdXvbkg2kEwAEcMWM/J820lgBkcGivR5kcGvU+m9ItILlnjmhjljY4KOoYH8DXLfE7wfoOhy2kunaJp2nyyYLva2kcbMeeSVAzRRXzmG/iHtV/hMO2UI0IUAAjkDvzRRRXurY8p7n/2Q=='}], 'images_count': 16}, 'sub_category': 'cars', 'vehicle_info': {'configuration': {'id': '2305650', 'body_type': 'COUPE', 'doors_count': 2, 'auto_class': 'E', 'human_name': 'Купе', 'trunk_volume_min': 450, 'body_type_group': 'COUPE', 'main_photo': {'sizes': {'orig': '//avatars.mds.yandex.net/get-verba/787013/2a000001609d5155024445cf90dacc4c135c/orig', 'wizardv3mr': '//avatars.mds.yandex.net/get-verba/787013/2a000001609d5155024445cf90dacc4c135c/wizardv3mr', 'cattouch': '//avatars.mds.yandex.net/get-verba/787013/2a000001609d5155024445cf90dacc4c135c/cattouch'}}, 'tags': ['big', 'style']}, 'complectation': {'id': '0'}, 'equipment': {'cruise-control': True, 'asr': True, 'tinted-glass': True, 'start-stop-function': True, 'esp': True, 'adaptive-light': True, 'sport-seats': True, 'aux': True, 'drive-mode-sys': True, 'electro-window-front': True, 'e-adjustment-wheel': True, 'light-sensor': True, 'xenon': True, 'audiosystem-tv': True, 'automatic-lighting-control': True, 'ashtray-and-cigarette-lighter': True, 'navigation': True, 'computer': True, 'keyless-entry': True, 'wheel-power': True, 'passenger-seat-electric': True, 'alarm': True, 'lock': True, 'light-cleaner': True, 'electro-mirrors': True, 'drl': True, 'steering-wheel-gear-shift-paddles': True, 'leather-gear-stick': True, 'start-button': True, 'rain-sensor': True, 'mirrors-heat': True, 'tyre-pressure': True, 'power-latching-doors': True, 'audiosystem-cd': True, 'dark-interior': True, 'leather': True, '19-inch-wheels': True, 'abs': True, 'wheel-leather': True, 'driver-seat-memory': True, 'immo': True, 'climate-control-2': True, 'electro-rear-seat': True, 'auto-mirrors': True, 'black-roof': True}, 'mark_info': {'code': 'BMW', 'name': 'BMW', 'ru_name': 'БМВ', 'logo': {'name': 'mark-logo', 'sizes': {'logo': '//avatars.mds.yandex.net/get-verba/1030388/2a00000179af8e23344d871bcfa394f0c60d/logo', 'big-logo': '//avatars.mds.yandex.net/get-verba/1030388/2a00000179af8e23344d871bcfa394f0c60d/dealer_logo', 'black-logo': '//avatars.mds.yandex.net/get-verba/1540742/2a00000179af8dfaeb3c09e4554cda405806/logo'}}, 'numeric_id': '3141'}, 'model_info': {'code': 'M6', 'name': 'M6', 'ru_name': 'М6', 'morphology': {}, 'nameplate': {'code': '', 'name': '', 'semantic_url': ''}}, 'steering_wheel': 'LEFT', 'super_gen': {'id': '3722951', 'name': 'II (E63/E64)', 'ru_name': '2 (E63/E64)', 'year_from': 2005, 'year_to': 2010, 'price_segment': 'PREMIUM'}, 'tech_param': {'id': '2305651', 'displacement': 4999, 'engine_type': 'GASOLINE', 'gear_type': 'REAR_DRIVE', 'transmission': 'ROBOT', 'power': 507, 'power_kvt': 373, 'human_name': '5.0 AMT (507 л.с.)', 'acceleration': 4.6, 'clearance_min': 110, 'fuel_rate': 14.8}, 'vendor': 'EUROPEAN'}, 'lk_summary': '5.0\\xa0AMT (507\\xa0л.с.), купе, задний, бензин', 'multiposting': {}}\n"
     ]
    }
   ],
   "source": [
    "# сделаем тестовый вызов запроса для BMW модели M6 и выведем его на экран, чтобы по нему можно было сделать функцию для создания 23 необходимых столбцов\n",
    "model = 'M6'\n",
    "param = {\n",
    "                'catalog_filter' : [{\"mark\": 'BMW', \"model\": model}],\n",
    "                'section': \"used\",\n",
    "                'category': \"cars\",\n",
    "                'sort': \"fresh_relevance_1-desc\",\n",
    "                \"top_days\":\"600\",\n",
    "                \"geo_radius\":200,\n",
    "                \"geo_id\":[213],\n",
    "                'page': 1\n",
    "            }\n",
    "\n",
    "response = requests.post(url, json=param, headers = HEADERS)\n",
    "data = response.json()\n",
    "for elem in data['offers']:\n",
    "    print(elem)\n",
    "    break"
   ]
  },
  {
   "cell_type": "code",
   "execution_count": 15,
   "metadata": {},
   "outputs": [
    {
     "data": {
      "text/plain": [
       "False"
      ]
     },
     "execution_count": 15,
     "metadata": {},
     "output_type": "execute_result"
    }
   ],
   "source": [
    "# строка для проверки содержания элемента запроса\n",
    "elem['additional_info']['hidden']"
   ]
  },
  {
   "cell_type": "code",
   "execution_count": 16,
   "metadata": {},
   "outputs": [],
   "source": [
    "def utils_clean_values_dict(d_dict):\n",
    "    for elem in d_dict:\n",
    "        d_dict[elem] = 0\n",
    "    return"
   ]
  },
  {
   "cell_type": "code",
   "execution_count": 17,
   "metadata": {},
   "outputs": [],
   "source": [
    "dict_columns = {'bodyType':0, 'brand':0, 'color':0, 'fuelType':0, 'modelDate':0, \n",
    "                'name':0, 'numberOfDoors':0, 'productionDate':0, \n",
    "                'vehicleConfiguration':0, 'vehicleTransmission':0, \n",
    "                'engineDisplacement':0, 'enginePower':0, 'description':0, \n",
    "                'mileage':0, 'Комплектация':0, 'Привод':0, 'Руль':0, \n",
    "                'Состояние':0, 'Владельцы':0, 'ПТС':0, 'Таможня':0, \n",
    "                'Владение':0, 'price':0}\n",
    "\n",
    "model = 'M6'\n",
    "# создаем функцию для обработки 23 необходимых столбцов\n",
    "def from_elem_to_dict(d_elem, d_dict):\n",
    "    utils_clean_values_dict(d_dict)\n",
    "    \n",
    "    try: d_dict['bodyType'] = d_elem['vehicle_info']['configuration']['human_name']\n",
    "    except: d_dict['bodyType'] = None\n",
    "\n",
    "    try: d_dict['brand'] = d_elem['vehicle_info']['mark_info']['code']\n",
    "    except: d_dict['brand'] = None\n",
    "\n",
    "    try: d_dict['color'] = d_elem['color_hex']\n",
    "    except: d_dict['color'] = None\n",
    "\n",
    "    try: d_dict['fuelType'] = d_elem['lk_summary'].split()[-1]\n",
    "    except: d_dict['fuelType'] = None\n",
    "\n",
    "    try: d_dict['modelDate'] = d_elem['vehicle_info']['super_gen']['year_from']\n",
    "    except: d_dict['modelDate'] = None\n",
    "\n",
    "    try: d_dict['name'] =  d_elem['vehicle_info']['tech_param']['human_name']\n",
    "    except: d_dict['name'] = None\n",
    "\n",
    "    try: d_dict['numberOfDoors'] = d_elem['vehicle_info']['configuration']['doors_count']\n",
    "    except: d_dict['numberOfDoors'] = None\n",
    "\n",
    "    try: d_dict['productionDate'] = d_elem['documents']['year']\n",
    "    except: d_dict['productionDate'] = None\n",
    "\n",
    "    try: d_dict['vehicleTransmission'] = d_elem['vehicle_info']['tech_param']['transmission']\n",
    "    except: d_dict['vehicleTransmission'] = None\n",
    "\n",
    "    try: d_dict['engineDisplacement'] = d_elem['vehicle_info']['tech_param']['human_name'].split()[0]\n",
    "    except: d_dict['engineDisplacement'] = None\n",
    "\n",
    "    try: d_dict['vehicleConfiguration'] = elem['vehicle_info']['configuration']['body_type']+' '+d_dict['vehicleTransmission']+' '+d_dict['engineDisplacement']\n",
    "    except: d_dict['vehicleConfiguration'] = None\n",
    "\n",
    "    try: d_dict['enginePower'] = d_elem['vehicle_info']['tech_param']['power']\n",
    "    except: d_dict['enginePower'] = None\n",
    "\n",
    "    try: d_dict['description'] = d_elem['description']\n",
    "    except: d_dict['description'] = None\n",
    "\n",
    "    try: d_dict['mileage'] = d_elem['state']['mileage']\n",
    "    except: d_dict['mileage'] = None\n",
    "\n",
    "    try: d_dict['Комплектация'] = d_elem['vehicle_info']['complectation']\n",
    "    except: d_dict['Комплектация'] = None\n",
    "\n",
    "    try: d_dict['Привод'] = d_elem['lk_summary'].split(', ')[-2]\n",
    "    except: d_dict['Привод'] = None\n",
    "\n",
    "    try: d_dict['Руль'] = d_elem['vehicle_info']['steering_wheel']\n",
    "    except: d_dict['Руль'] = None\n",
    "\n",
    "    # 'Состояние' не найдено\n",
    "    d_dict['Состояние'] = None\n",
    "\n",
    "    try: d_dict['Владельцы'] = d_elem['documents']['owners_number']\n",
    "    except: d_dict['Владельцы'] = None\n",
    "\n",
    "    try: d_dict['ПТС'] = d_elem['documents']['pts']\n",
    "    except: d_dict['ПТС'] = None\n",
    "\n",
    "    try: d_dict['Таможня'] = d_elem['documents']['custom_cleared']\n",
    "    except: d_dict['Таможня'] = None\n",
    "\n",
    "    try: d_dict['Владение'] =  d_elem['documents']['purchase_date']\n",
    "    except: d_dict['Владение'] = None\n",
    "\n",
    "\n",
    "    try: d_dict['price'] = d_elem['price_info']['RUR']\n",
    "    except: d_dict['price'] = None\n",
    "\n",
    "    # дата размещения объявления решил добавить \n",
    "    try: d_dict['start_date'] =  d_elem['additional_info']['hot_info']['start_time']\n",
    "    except: d_dict['start_date'] = None\n",
    "\n",
    "    # статус объявления \n",
    "    try: d_dict['hidden'] =  d_elemelem['additional_info']['hidden']\n",
    "    except: d_dict['hidden'] = None\n",
    "\n",
    "    # модель \n",
    "    d_dict['model'] =  model\n",
    "\n",
    "    return\n",
    "\n",
    "from_elem_to_dict(elem, dict_columns)"
   ]
  },
  {
   "cell_type": "markdown",
   "metadata": {},
   "source": [
    "4. Парсинг¶"
   ]
  },
  {
   "cell_type": "code",
   "execution_count": 18,
   "metadata": {},
   "outputs": [
    {
     "name": "stdout",
     "output_type": "stream",
     "text": [
      "Всего спарсили := 88509 строк\n"
     ]
    }
   ],
   "source": [
    "auto_ru = {}\n",
    "\n",
    "iter_of_ads, iter_of_marks, old_iter_of_ads, sum_ads, sum_ads_from_dict = 0,0,0,0,0\n",
    "space = ' '\n",
    "\n",
    "\n",
    "for mark in list_of_relevant_marks:\n",
    "    list_of_models = json.loads(df_marks_and_models.loc[mark, 'Models'].replace(\"'\", '\"'))\n",
    "    for model in list_of_models:\n",
    "        for num_page in range(1, 200):\n",
    "            param = {\n",
    "                'catalog_filter' : [{\"mark\": mark, \"model\": model}],\n",
    "                'section': \"all\",\n",
    "                'category': \"cars\",\n",
    "                'sort': \"fresh_relevance_1-desc\",\n",
    "                \"top_days\":\"900\",\n",
    "                \"geo_radius\":200,\n",
    "                \"geo_id\":[213],\n",
    "                'page': num_page\n",
    "            }\n",
    "            response = requests.post(url, json=param, headers = HEADERS)\n",
    "            response.encoding = 'utf8'\n",
    "            data = response.json()\n",
    "\n",
    "            if data['offers'] != []:\n",
    "                for elem in data['offers']:\n",
    "                    from_elem_to_dict(elem, dict_columns)\n",
    "                    auto_ru[iter_of_ads] = dict_columns.copy()\n",
    "                    iter_of_ads += 1\n",
    "            else:\n",
    "                break\n",
    "    iter_of_marks +=1\n",
    "    temp_1 = iter_of_ads-old_iter_of_ads\n",
    "    temp_2 = dict_of_num_cars_of_models[mark]\n",
    "    temp_3 = temp_1/temp_2\n",
    "    temp_4 = space*abs(13-len(mark)-len(str(iter_of_marks)))\n",
    "#    temp_5 = int(time.clock() - start_time)\n",
    "    temp_8 = round(temp_3*100,2)\n",
    "#    temp_7 = space*abs(18-len(str(temp_1))-len(str(temp_2))-len(str(temp_8))-len(str(temp_5)))\n",
    "#    temp_9 = int(time.clock() - start_time_global)\n",
    "    \n",
    "\n",
    "    sum_ads += temp_1\n",
    "    sum_ads_from_dict += temp_2\n",
    "    temp_def = sum_ads/sum_ads_from_dict\n",
    "#    temp_6 = (sum_of_ads*temp_def - iter_of_ads)*temp_9/sum_ads\n",
    "\n",
    "\n",
    "#   print (f'{iter_of_marks}.{mark} {temp_4} ушло:{temp_5} сек., стр. {temp_1} из {temp_2} {temp_8}%,{temp_7}всего стр. {iter_of_ads}, прогноз {int(temp_6/60)} мин.')\n",
    "\n",
    "    old_iter_of_ads=iter_of_ads\n",
    "\n",
    "print (f'Всего спарсили := {iter_of_ads} строк')"
   ]
  },
  {
   "cell_type": "code",
   "execution_count": 19,
   "metadata": {},
   "outputs": [
    {
     "name": "stdout",
     "output_type": "stream",
     "text": [
      "кол-во строк датасета:= 88509\n"
     ]
    }
   ],
   "source": [
    "# запись датасета\n",
    "df_auto_ru = pd.DataFrame(auto_ru).T\n",
    "df_auto_ru.to_csv('all_auto_ru.csv', index=False)\n",
    "print(f'кол-во строк датасета:= {len(df_auto_ru)}')"
   ]
  },
  {
   "cell_type": "code",
   "execution_count": 20,
   "metadata": {},
   "outputs": [
    {
     "data": {
      "text/html": [
       "<div>\n",
       "<style scoped>\n",
       "    .dataframe tbody tr th:only-of-type {\n",
       "        vertical-align: middle;\n",
       "    }\n",
       "\n",
       "    .dataframe tbody tr th {\n",
       "        vertical-align: top;\n",
       "    }\n",
       "\n",
       "    .dataframe thead th {\n",
       "        text-align: right;\n",
       "    }\n",
       "</style>\n",
       "<table border=\"1\" class=\"dataframe\">\n",
       "  <thead>\n",
       "    <tr style=\"text-align: right;\">\n",
       "      <th></th>\n",
       "      <th>bodyType</th>\n",
       "      <th>brand</th>\n",
       "      <th>color</th>\n",
       "      <th>fuelType</th>\n",
       "      <th>modelDate</th>\n",
       "      <th>name</th>\n",
       "      <th>numberOfDoors</th>\n",
       "      <th>productionDate</th>\n",
       "      <th>vehicleConfiguration</th>\n",
       "      <th>vehicleTransmission</th>\n",
       "      <th>...</th>\n",
       "      <th>Руль</th>\n",
       "      <th>Состояние</th>\n",
       "      <th>Владельцы</th>\n",
       "      <th>ПТС</th>\n",
       "      <th>Таможня</th>\n",
       "      <th>Владение</th>\n",
       "      <th>price</th>\n",
       "      <th>start_date</th>\n",
       "      <th>hidden</th>\n",
       "      <th>model</th>\n",
       "    </tr>\n",
       "  </thead>\n",
       "  <tbody>\n",
       "    <tr>\n",
       "      <th>0</th>\n",
       "      <td>Седан</td>\n",
       "      <td>AUDI</td>\n",
       "      <td>040001</td>\n",
       "      <td>бензин</td>\n",
       "      <td>1990</td>\n",
       "      <td>2.3 MT (133 л.с.)</td>\n",
       "      <td>4</td>\n",
       "      <td>1991</td>\n",
       "      <td>SEDAN MECHANICAL 2.3</td>\n",
       "      <td>MECHANICAL</td>\n",
       "      <td>...</td>\n",
       "      <td>LEFT</td>\n",
       "      <td>None</td>\n",
       "      <td>3</td>\n",
       "      <td>ORIGINAL</td>\n",
       "      <td>True</td>\n",
       "      <td>{'year': 2020, 'month': 5}</td>\n",
       "      <td>150000</td>\n",
       "      <td>2020-11-08T17:23:26Z</td>\n",
       "      <td>None</td>\n",
       "      <td>100</td>\n",
       "    </tr>\n",
       "    <tr>\n",
       "      <th>1</th>\n",
       "      <td>Седан</td>\n",
       "      <td>AUDI</td>\n",
       "      <td>040001</td>\n",
       "      <td>бензин</td>\n",
       "      <td>1990</td>\n",
       "      <td>2.3 MT (133 л.с.)</td>\n",
       "      <td>4</td>\n",
       "      <td>1994</td>\n",
       "      <td>SEDAN MECHANICAL 2.3</td>\n",
       "      <td>MECHANICAL</td>\n",
       "      <td>...</td>\n",
       "      <td>LEFT</td>\n",
       "      <td>None</td>\n",
       "      <td>4</td>\n",
       "      <td>ORIGINAL</td>\n",
       "      <td>True</td>\n",
       "      <td>None</td>\n",
       "      <td>120000</td>\n",
       "      <td>2021-07-05T12:04:53Z</td>\n",
       "      <td>None</td>\n",
       "      <td>100</td>\n",
       "    </tr>\n",
       "    <tr>\n",
       "      <th>2</th>\n",
       "      <td>Седан</td>\n",
       "      <td>AUDI</td>\n",
       "      <td>007F00</td>\n",
       "      <td>бензин</td>\n",
       "      <td>1990</td>\n",
       "      <td>2.6 AT (150 л.с.)</td>\n",
       "      <td>4</td>\n",
       "      <td>1993</td>\n",
       "      <td>SEDAN AUTOMATIC 2.6</td>\n",
       "      <td>AUTOMATIC</td>\n",
       "      <td>...</td>\n",
       "      <td>LEFT</td>\n",
       "      <td>None</td>\n",
       "      <td>4</td>\n",
       "      <td>ORIGINAL</td>\n",
       "      <td>True</td>\n",
       "      <td>None</td>\n",
       "      <td>165000</td>\n",
       "      <td>2021-06-26T14:51:28Z</td>\n",
       "      <td>None</td>\n",
       "      <td>100</td>\n",
       "    </tr>\n",
       "    <tr>\n",
       "      <th>3</th>\n",
       "      <td>Седан</td>\n",
       "      <td>AUDI</td>\n",
       "      <td>EE1D19</td>\n",
       "      <td>бензин</td>\n",
       "      <td>1990</td>\n",
       "      <td>2.3 AT (133 л.с.)</td>\n",
       "      <td>4</td>\n",
       "      <td>1991</td>\n",
       "      <td>SEDAN AUTOMATIC 2.3</td>\n",
       "      <td>AUTOMATIC</td>\n",
       "      <td>...</td>\n",
       "      <td>LEFT</td>\n",
       "      <td>None</td>\n",
       "      <td>4</td>\n",
       "      <td>ORIGINAL</td>\n",
       "      <td>True</td>\n",
       "      <td>None</td>\n",
       "      <td>75000</td>\n",
       "      <td>2021-07-17T16:17:01Z</td>\n",
       "      <td>None</td>\n",
       "      <td>100</td>\n",
       "    </tr>\n",
       "    <tr>\n",
       "      <th>4</th>\n",
       "      <td>Седан</td>\n",
       "      <td>AUDI</td>\n",
       "      <td>97948F</td>\n",
       "      <td>бензин</td>\n",
       "      <td>1990</td>\n",
       "      <td>2.3 MT (133 л.с.)</td>\n",
       "      <td>4</td>\n",
       "      <td>1991</td>\n",
       "      <td>SEDAN MECHANICAL 2.3</td>\n",
       "      <td>MECHANICAL</td>\n",
       "      <td>...</td>\n",
       "      <td>LEFT</td>\n",
       "      <td>None</td>\n",
       "      <td>4</td>\n",
       "      <td>ORIGINAL</td>\n",
       "      <td>True</td>\n",
       "      <td>None</td>\n",
       "      <td>153000</td>\n",
       "      <td>2021-07-08T03:45:27Z</td>\n",
       "      <td>None</td>\n",
       "      <td>100</td>\n",
       "    </tr>\n",
       "  </tbody>\n",
       "</table>\n",
       "<p>5 rows × 26 columns</p>\n",
       "</div>"
      ],
      "text/plain": [
       "  bodyType brand   color fuelType modelDate               name numberOfDoors  \\\n",
       "0    Седан  AUDI  040001   бензин      1990  2.3 MT (133 л.с.)             4   \n",
       "1    Седан  AUDI  040001   бензин      1990  2.3 MT (133 л.с.)             4   \n",
       "2    Седан  AUDI  007F00   бензин      1990  2.6 AT (150 л.с.)             4   \n",
       "3    Седан  AUDI  EE1D19   бензин      1990  2.3 AT (133 л.с.)             4   \n",
       "4    Седан  AUDI  97948F   бензин      1990  2.3 MT (133 л.с.)             4   \n",
       "\n",
       "  productionDate  vehicleConfiguration vehicleTransmission  ...  Руль  \\\n",
       "0           1991  SEDAN MECHANICAL 2.3          MECHANICAL  ...  LEFT   \n",
       "1           1994  SEDAN MECHANICAL 2.3          MECHANICAL  ...  LEFT   \n",
       "2           1993   SEDAN AUTOMATIC 2.6           AUTOMATIC  ...  LEFT   \n",
       "3           1991   SEDAN AUTOMATIC 2.3           AUTOMATIC  ...  LEFT   \n",
       "4           1991  SEDAN MECHANICAL 2.3          MECHANICAL  ...  LEFT   \n",
       "\n",
       "  Состояние Владельцы       ПТС Таможня                    Владение   price  \\\n",
       "0      None         3  ORIGINAL    True  {'year': 2020, 'month': 5}  150000   \n",
       "1      None         4  ORIGINAL    True                        None  120000   \n",
       "2      None         4  ORIGINAL    True                        None  165000   \n",
       "3      None         4  ORIGINAL    True                        None   75000   \n",
       "4      None         4  ORIGINAL    True                        None  153000   \n",
       "\n",
       "             start_date hidden model  \n",
       "0  2020-11-08T17:23:26Z   None   100  \n",
       "1  2021-07-05T12:04:53Z   None   100  \n",
       "2  2021-06-26T14:51:28Z   None   100  \n",
       "3  2021-07-17T16:17:01Z   None   100  \n",
       "4  2021-07-08T03:45:27Z   None   100  \n",
       "\n",
       "[5 rows x 26 columns]"
      ]
     },
     "execution_count": 20,
     "metadata": {},
     "output_type": "execute_result"
    }
   ],
   "source": [
    "df_auto_ru.head()"
   ]
  },
  {
   "cell_type": "code",
   "execution_count": null,
   "metadata": {},
   "outputs": [],
   "source": []
  }
 ],
 "metadata": {
  "kernelspec": {
   "display_name": "Python 3",
   "language": "python",
   "name": "python3"
  },
  "language_info": {
   "codemirror_mode": {
    "name": "ipython",
    "version": 3
   },
   "file_extension": ".py",
   "mimetype": "text/x-python",
   "name": "python",
   "nbconvert_exporter": "python",
   "pygments_lexer": "ipython3",
   "version": "3.8.5"
  }
 },
 "nbformat": 4,
 "nbformat_minor": 4
}
