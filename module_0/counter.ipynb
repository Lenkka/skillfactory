def game_core(number):
    '''Алгоритм, угадывающий число, основан на бинарном поиске в интервале 1 - 100'''
    count = 1 # счетчик попыток
    min = 0
    max = 100
    predict = 50 # первая попытка угадать число
    while number != predict:
        count+=1
        if predict > number:
            max = predict-1
        else:
            min = predict+1
        predict = (min + max)//2
    
    return(count)

def score_game(game_core):
    '''Запускаем игру 1000 раз, чтобы узнать, как быстро игра угадывает число'''
    import numpy as np
    count_ls = []
    np.random.seed(1)  # фиксируем RANDOM SEED, чтобы ваш эксперимент был воспроизводим!
    random_array = np.random.randint(1,101, size=(1000))
    for number in random_array:
        count_ls.append(game_core(number))
    score = int(np.mean(count_ls))
    
    return(score)

score_game(game_core)
